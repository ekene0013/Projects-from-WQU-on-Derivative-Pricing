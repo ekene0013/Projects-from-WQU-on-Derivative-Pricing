{
  "cells": [
    {
      "cell_type": "markdown",
      "metadata": {
        "id": "view-in-github",
        "colab_type": "text"
      },
      "source": [
        "<a href=\"https://colab.research.google.com/github/ekene0013/Projects-on-Derivative-Pricing-at-WQU/blob/main/GWP3.ipynb\" target=\"_parent\"><img src=\"https://colab.research.google.com/assets/colab-badge.svg\" alt=\"Open In Colab\"/></a>"
      ]
    },
    {
      "cell_type": "markdown",
      "metadata": {
        "id": "4F-8zGoojB-H"
      },
      "source": [
        "\n",
        "**Scenario**\n",
        "\n",
        "**As you have upgraded your option pricing skill set, you can demonstrate those skills by pricing the same options as before. The group is now asked to assess the causes of volatility by 2 properties: stochastic volatility and jumps in the underlying. Speciﬁcally, you will use the Heston Model and Merton Model instead of the Black-Scholes Model.**\n",
        "\n",
        "\n",
        "**Task: This assignment is based on the same questions as in GWP1 and GWP2. To maintain the same numbering, questions begin from #5. Remember to use the following general parameters:**\n",
        "S=80; r = 5.5%; σ = 35%; T = 3 months\n",
        "\n",
        "\n",
        "**Also, remember that you will be employing Monte-Carlo method, so make sure you run a suﬃcient number of simulations and consider enough time steps (for you to determine).**"
      ]
    },
    {
      "cell_type": "markdown",
      "source": [
        "**Step 1:**"
      ],
      "metadata": {
        "id": "9p--mZYpj5AK"
      }
    },
    {
      "cell_type": "markdown",
      "metadata": {
        "id": "3vnwezvhjB-I"
      },
      "source": [
        "**Team Member A:  Stochastic Volatility Modeler:**\n",
        "\n",
        "**For the Heston model, you can use the following parameters:**\n",
        "\n",
        "- $\\nu_0$ = 3.2%\n",
        "- $k_v$ = 1.85\n",
        "- $\\theta_v$ = 0.045\n",
        "\n",
        "\n",
        "\n",
        "\n",
        "\n",
        "\n",
        "\n"
      ]
    },
    {
      "cell_type": "code",
      "source": [
        "# @title\n"
      ],
      "metadata": {
        "id": "I4g14yOmTx18",
        "cellView": "form"
      },
      "execution_count": null,
      "outputs": []
    },
    {
      "cell_type": "markdown",
      "source": [
        "**5(a) Using the Heston Model and Monte-Carlo simulation, price an ATM European call and put, using a correlation value of -0.30**\n",
        "\n",
        "To price an ATM (At-The-Money) European call and put option using the Heston model and Monte Carlo simulation with a correlation value of -0.30, you would initialize model and simulation parameters, generate random numbers for both asset and volatility processes, create a covariance matrix to account for correlation, simulate volatility paths, then simulate asset price paths while incorporating the volatility paths. Next, calculate option payoffs for call and put options at maturity, discount these payoffs to present value using the risk-free rate, and average the results across all simulations. The resulting average represents the estimated prices of the ATM European call and put options in the Heston model with Monte Carlo simulation (Schumacher, 2020)."
      ],
      "metadata": {
        "id": "n-X5jRx_GVrc"
      }
    },
    {
      "cell_type": "markdown",
      "source": [
        "**5(b) An overview on the calculated estimates**\n",
        "\n",
        "Following the computation below, the call is valued at \\$2.83, while the put is worth \\$2.81. European call and put options are often priced closely to each other, with put options slightly cheaper due to the opportunity cost of holding cash instead of the underlying asset."
      ],
      "metadata": {
        "id": "OxoStedv1Il-"
      }
    },
    {
      "cell_type": "code",
      "source": [
        "# @title\n",
        "import matplotlib.pyplot as plt\n",
        "import numpy as np\n",
        "import scipy.stats as ss\n",
        "\n",
        "def SDE_vol(v0, kappa, theta, sigma, T, M, Ite, rand, row, cho_matrix):\n",
        "    dt = T / M  # T = maturity, M = number of time steps\n",
        "    v = np.zeros((M + 1, Ite), dtype=np.float)\n",
        "    v[0] = v0\n",
        "    sdt = np.sqrt(dt)  # Sqrt of dt\n",
        "    for t in range(1, M + 1):\n",
        "        ran = np.dot(cho_matrix, rand[:, t])\n",
        "        v[t] = np.maximum(\n",
        "            0,\n",
        "            v[t - 1]\n",
        "            + kappa * (theta - v[t - 1]) * dt\n",
        "            + np.sqrt(v[t - 1]) * sigma * ran[row] * sdt,\n",
        "        )\n",
        "    return v\n",
        "\n",
        "def Heston_paths(S0, r, v, row, cho_matrix):\n",
        "    S = np.zeros((M + 1, Ite), dtype=float)\n",
        "    S[0] = S0\n",
        "    sdt = np.sqrt(dt)\n",
        "    for t in range(1, M + 1, 1):\n",
        "        ran = np.dot(cho_matrix, rand[:, t])\n",
        "        S[t] = S[t - 1] * np.exp((r - 0.5 * v[t]) * dt + np.sqrt(v[t]) * ran[row] * sdt)\n",
        "\n",
        "    return S\n",
        "\n",
        "def random_number_gen(M, Ite):\n",
        "    rand = np.random.standard_normal((2, M + 1, Ite))\n",
        "    return rand\n",
        "np.random.seed(42)\n",
        "\n",
        "v0 = 0.032\n",
        "kappa_v = 1.85\n",
        "sigma_v = 0.35\n",
        "theta_v = 0.045\n",
        "rho = -0.30\n",
        "\n",
        "S0 = 80  # Current underlying asset price\n",
        "r = 0.055  # Risk-free rate\n",
        "M0 = 50  # Number of time steps in a year\n",
        "T = 3/12  # Number of years\n",
        "M = int(M0 * T)  # Total time steps\n",
        "Ite = 10000  # Number of simulations\n",
        "dt = T / M  # Length of time step\n",
        "\n",
        "# Generating random numbers from standard normal\n",
        "rand = random_number_gen(M, Ite)\n",
        "np.random.seed(42)\n",
        "\n",
        "# Covariance Matrix\n",
        "covariance_matrix = np.zeros((2, 2), dtype=np.float)\n",
        "covariance_matrix[0] = [1.0, rho]\n",
        "covariance_matrix[1] = [rho, 1.0]\n",
        "cho_matrix = np.linalg.cholesky(covariance_matrix)\n",
        "\n",
        "# Volatility process paths\n",
        "V = SDE_vol(v0, kappa_v, theta_v, sigma_v, T, M, Ite, rand, 1, cho_matrix)\n",
        "\n",
        "# Underlying price process paths\n",
        "S = Heston_paths(S0, r, V, 0, cho_matrix)\n",
        "\n",
        "def heston_call_mc(S, K, r, T, t, type_of):\n",
        "    if type_of == \"C\":\n",
        "        payoff = np.maximum(0, S[-1, :] - K)\n",
        "    else:\n",
        "        payoff = np.maximum(0, K - S[-1, :])\n",
        "\n",
        "    average = np.mean(payoff)\n",
        "\n",
        "    return np.exp(-r * (T - t)) * average"
      ],
      "metadata": {
        "colab": {
          "base_uri": "https://localhost:8080/"
        },
        "id": "KSFliGMpS51u",
        "outputId": "296ddfb3-1f4b-4749-e733-e078a85212ed",
        "cellView": "form"
      },
      "execution_count": null,
      "outputs": [
        {
          "output_type": "stream",
          "name": "stderr",
          "text": [
            "<ipython-input-1-6de0f0dfe501>:54: DeprecationWarning: `np.float` is a deprecated alias for the builtin `float`. To silence this warning, use `float` by itself. Doing this will not modify any behavior and is safe. If you specifically wanted the numpy scalar type, use `np.float64` here.\n",
            "Deprecated in NumPy 1.20; for more details and guidance: https://numpy.org/devdocs/release/1.20.0-notes.html#deprecations\n",
            "  covariance_matrix = np.zeros((2, 2), dtype=np.float)\n",
            "<ipython-input-1-6de0f0dfe501>:7: DeprecationWarning: `np.float` is a deprecated alias for the builtin `float`. To silence this warning, use `float` by itself. Doing this will not modify any behavior and is safe. If you specifically wanted the numpy scalar type, use `np.float64` here.\n",
            "Deprecated in NumPy 1.20; for more details and guidance: https://numpy.org/devdocs/release/1.20.0-notes.html#deprecations\n",
            "  v = np.zeros((M + 1, Ite), dtype=np.float)\n"
          ]
        }
      ]
    },
    {
      "cell_type": "code",
      "source": [
        "# @title\n",
        "print(\"European Call Price under Heston: \", heston_call_mc(S, 80, 0.055, 3/12, 0, \"C\"))\n",
        "print(\"European Put Price under Heston: \", heston_call_mc(S, 80, 0.055, 3/12, 0, \"P\"))"
      ],
      "metadata": {
        "colab": {
          "base_uri": "https://localhost:8080/"
        },
        "id": "vlv9pCQpTI9C",
        "outputId": "54afe86f-35ac-4151-bafe-d81641184260",
        "cellView": "form"
      },
      "execution_count": null,
      "outputs": [
        {
          "output_type": "stream",
          "name": "stdout",
          "text": [
            "European Call Price under Heston:  2.889397739971047\n",
            "European Put Price under Heston:  2.8079276452360995\n"
          ]
        }
      ]
    },
    {
      "cell_type": "code",
      "source": [
        "# @title\n",
        "from tabulate import tabulate\n",
        "\n",
        "# Prepare your data as a list of lists\n",
        "table_data = [\n",
        "    [\"5\", \"Call\", \"European\", \"Heston Model in combination with Monte-Carlo simulation and a correlation value of -0.30\", \"$2.83\"],\n",
        "    [\"5\", \"Put\", \"European\", \"Heston Model in combination with Monte-Carlo simulation and a correlation value of -0.30\", \"$2.81\"]\n",
        "]\n",
        "\n",
        "# Define the title for the table\n",
        "table_title = \"Summary of Results\"\n",
        "\n",
        "# Define the table headers\n",
        "headers = [\"Q #s\", \"Type\", \"Exer\", \"GWP 3 Method\", \"Price\"]\n",
        "\n",
        "# Format the table using tabulate\n",
        "table = tabulate(table_data, headers=headers, tablefmt=\"grid\")\n",
        "\n",
        "# Add the title above the table\n",
        "table_with_title = f\"{table_title}\\n\\n{table}\"\n",
        "\n",
        "# Print the formatted table\n",
        "print(table_with_title)"
      ],
      "metadata": {
        "colab": {
          "base_uri": "https://localhost:8080/"
        },
        "id": "EQCso_Z_bd0X",
        "outputId": "0bc3cb1f-16df-4423-a5d9-6ff2b3787ba2",
        "cellView": "form"
      },
      "execution_count": null,
      "outputs": [
        {
          "output_type": "stream",
          "name": "stdout",
          "text": [
            "Summary of Results\n",
            "\n",
            "+--------+--------+----------+------------------------------------------------------------------------------------------+---------+\n",
            "|   Q #s | Type   | Exer     | GWP 3 Method                                                                             | Price   |\n",
            "+========+========+==========+==========================================================================================+=========+\n",
            "|      5 | Call   | European | Heston Model in combination with Monte-Carlo simulation and a correlation value of -0.30 | $2.83   |\n",
            "+--------+--------+----------+------------------------------------------------------------------------------------------+---------+\n",
            "|      5 | Put    | European | Heston Model in combination with Monte-Carlo simulation and a correlation value of -0.30 | $2.81   |\n",
            "+--------+--------+----------+------------------------------------------------------------------------------------------+---------+\n"
          ]
        }
      ]
    },
    {
      "cell_type": "markdown",
      "source": [
        "**6. Using the Heston Model, price an ATM European call and put, using a correlation value of -0.70**"
      ],
      "metadata": {
        "id": "SEtqT8uFQap7"
      }
    },
    {
      "cell_type": "markdown",
      "source": [
        "When the correlation value changes in the Heston model from -0.30 to -0.70, there is a significant change in the pricing of an ATM European call and put option, with the call valued at \\$2.01 and the put at \\$3.49. This is primarily because of the effect of correlation on option pricing dynamics. When the asset price rises, there is a reduced volatility due to the larger negative correlation between asset returns and volatility returns at -0.70, which lowers the cost of the call option. In contrast, the put option benefits from the negative correlation, increasing its value by protecting against increased downside risk and driving up the price of the put option. This modification illustrates the role that correlation dynamics play in determining the sensitivity of option pricing as well as market sentiment and model calibration in option pricing (Schumacher, 2020)."
      ],
      "metadata": {
        "id": "AyNTPXMq3XFT"
      }
    },
    {
      "cell_type": "code",
      "source": [
        "# @title\n",
        "import matplotlib.pyplot as plt\n",
        "import numpy as np\n",
        "import scipy.stats as ss\n",
        "\n",
        "def SDE_vol(v0, kappa, theta, sigma, T, M, Ite, rand, row, cho_matrix):\n",
        "    dt = T / M  # T = maturity, M = number of time steps\n",
        "    v = np.zeros((M + 1, Ite), dtype=np.float)\n",
        "    v[0] = v0\n",
        "    sdt = np.sqrt(dt)  # Sqrt of dt\n",
        "    for t in range(1, M + 1):\n",
        "        ran = np.dot(cho_matrix, rand[:, t])\n",
        "        v[t] = np.maximum(\n",
        "            0,\n",
        "            v[t - 1]\n",
        "            + kappa * (theta - v[t - 1]) * dt\n",
        "            + np.sqrt(v[t - 1]) * sigma * ran[row] * sdt,\n",
        "        )\n",
        "    return v\n",
        "\n",
        "def Heston_paths(S0, r, v, row, cho_matrix):\n",
        "    S = np.zeros((M + 1, Ite), dtype=float)\n",
        "    S[0] = S0\n",
        "    sdt = np.sqrt(dt)\n",
        "    for t in range(1, M + 1, 1):\n",
        "        ran = np.dot(cho_matrix, rand[:, t])\n",
        "        S[t] = S[t - 1] * np.exp((r - 0.5 * v[t]) * dt + np.sqrt(v[t]) * ran[row] * sdt)\n",
        "\n",
        "    return S\n",
        "\n",
        "def random_number_gen(M, Ite):\n",
        "    rand = np.random.standard_normal((2, M + 1, Ite))\n",
        "    return rand\n",
        "np.random.seed(42)\n",
        "\n",
        "v0 = 0.032\n",
        "kappa_v = 1.85\n",
        "sigma_v = 0.35\n",
        "theta_v = 0.045\n",
        "rho = -0.70\n",
        "\n",
        "S0 = 80  # Current underlying asset price\n",
        "r = 0.055  # Risk-free rate\n",
        "M0 = 50  # Number of time steps in a year\n",
        "T = 3/12  # Number of years\n",
        "M = int(M0 * T)  # Total time steps\n",
        "Ite = 10000  # Number of simulations\n",
        "dt = T / M  # Length of time step\n",
        "\n",
        "# Generating random numbers from standard normal\n",
        "rand = random_number_gen(M, Ite)\n",
        "np.random.seed(42)\n",
        "\n",
        "\n",
        "# Covariance Matrix\n",
        "covariance_matrix = np.zeros((2, 2), dtype=np.float)\n",
        "covariance_matrix[0] = [1.0, rho]\n",
        "covariance_matrix[1] = [rho, 1.0]\n",
        "cho_matrix = np.linalg.cholesky(covariance_matrix)\n",
        "\n",
        "# Volatility process paths\n",
        "V = SDE_vol(v0, kappa_v, theta_v, sigma_v, T, M, Ite, rand, 1, cho_matrix)\n",
        "\n",
        "# Underlying price process paths\n",
        "S = Heston_paths(S0, r, V, 0, cho_matrix)\n",
        "\n",
        "def heston_call_mc(S, K, r, T, t, type_of):\n",
        "    if type_of == \"C\":\n",
        "        payoff = np.maximum(0, S[-1, :] - K)\n",
        "    else:\n",
        "        payoff = np.maximum(0, K - S[-1, :])\n",
        "\n",
        "    average = np.mean(payoff)\n",
        "\n",
        "    return np.exp(-r * (T - t)) * average"
      ],
      "metadata": {
        "colab": {
          "base_uri": "https://localhost:8080/"
        },
        "id": "igTxGgjyQtxW",
        "outputId": "ace6f050-fe47-45df-8978-26027015b653",
        "cellView": "form"
      },
      "execution_count": null,
      "outputs": [
        {
          "output_type": "stream",
          "name": "stderr",
          "text": [
            "<ipython-input-4-388ef42152f8>:55: DeprecationWarning: `np.float` is a deprecated alias for the builtin `float`. To silence this warning, use `float` by itself. Doing this will not modify any behavior and is safe. If you specifically wanted the numpy scalar type, use `np.float64` here.\n",
            "Deprecated in NumPy 1.20; for more details and guidance: https://numpy.org/devdocs/release/1.20.0-notes.html#deprecations\n",
            "  covariance_matrix = np.zeros((2, 2), dtype=np.float)\n",
            "<ipython-input-4-388ef42152f8>:7: DeprecationWarning: `np.float` is a deprecated alias for the builtin `float`. To silence this warning, use `float` by itself. Doing this will not modify any behavior and is safe. If you specifically wanted the numpy scalar type, use `np.float64` here.\n",
            "Deprecated in NumPy 1.20; for more details and guidance: https://numpy.org/devdocs/release/1.20.0-notes.html#deprecations\n",
            "  v = np.zeros((M + 1, Ite), dtype=np.float)\n"
          ]
        }
      ]
    },
    {
      "cell_type": "code",
      "source": [
        "# @title\n",
        "print(\"European Call Price under Heston: \", heston_call_mc(S, 80, 0.055, 3/12, 0, \"C\"))\n",
        "print(\"European Put Price under Heston: \", heston_call_mc(S, 80, 0.055, 3/12, 0, \"P\"))"
      ],
      "metadata": {
        "colab": {
          "base_uri": "https://localhost:8080/"
        },
        "id": "3qkspRU5c3Ro",
        "outputId": "e32b1f2d-a05a-416c-fb90-6423ea69c16a",
        "cellView": "form"
      },
      "execution_count": null,
      "outputs": [
        {
          "output_type": "stream",
          "name": "stdout",
          "text": [
            "European Call Price under Heston:  2.100269052154384\n",
            "European Put Price under Heston:  3.4294332097648033\n"
          ]
        }
      ]
    },
    {
      "cell_type": "code",
      "source": [
        "# @title\n",
        "from tabulate import tabulate\n",
        "\n",
        "# Prepare your data as a list of lists\n",
        "table_data = [\n",
        "    [\"6\", \"Call\", \"European\", \"Heston Model with a correlation value of -0.70\", \"$2.01\"],\n",
        "    [\"6\", \"Put\", \"European\", \"Heston Model with a correlation value of -0.70\", \"$3.49\"]\n",
        "]\n",
        "\n",
        "# Define the title for the table\n",
        "table_title = \"Summary of Results\"\n",
        "\n",
        "# Define the table headers\n",
        "headers = [\"Q #s\", \"Type\", \"Exer\", \"GWP 3 Method\", \"Price\"]\n",
        "\n",
        "# Format the table using tabulate\n",
        "table = tabulate(table_data, headers=headers, tablefmt=\"grid\")\n",
        "\n",
        "# Add the title above the table\n",
        "table_with_title = f\"{table_title}\\n\\n{table}\"\n",
        "\n",
        "# Print the formatted table\n",
        "print(table_with_title)"
      ],
      "metadata": {
        "colab": {
          "base_uri": "https://localhost:8080/"
        },
        "id": "V9huFV09c8dM",
        "outputId": "31c60ca2-95a0-4deb-a66b-4162dc3365db",
        "cellView": "form"
      },
      "execution_count": null,
      "outputs": [
        {
          "output_type": "stream",
          "name": "stdout",
          "text": [
            "Summary of Results\n",
            "\n",
            "+--------+--------+----------+------------------------------------------------+---------+\n",
            "|   Q #s | Type   | Exer     | GWP 3 Method                                   | Price   |\n",
            "+========+========+==========+================================================+=========+\n",
            "|      6 | Call   | European | Heston Model with a correlation value of -0.70 | $2.01   |\n",
            "+--------+--------+----------+------------------------------------------------+---------+\n",
            "|      6 | Put    | European | Heston Model with a correlation value of -0.70 | $3.49   |\n",
            "+--------+--------+----------+------------------------------------------------+---------+\n"
          ]
        }
      ]
    },
    {
      "cell_type": "markdown",
      "source": [
        "**7(a) Calculate delta and gamma for each of the options in Questions 5. (Hint: You can numerically approximate this by forcing a change in the variable of interest –i.e., underlying stock price and delta change—and recalculate the option price).**"
      ],
      "metadata": {
        "id": "cqDJ90yIyfzg"
      }
    },
    {
      "cell_type": "markdown",
      "source": [
        "In the context of the Heston Model and Monte Carlo simulation for option pricing, \"delta\" and \"gamma\" are Greek letters used to represent two important risk sensitivities of options.\n",
        "\n",
        "Delta represents the sensitivity of an option's price to changes in the underlying asset's price. In the context of the Heston Model and Monte Carlo simulation, delta can be calculated by simulating a small change in the asset price, reevaluating the option's price in each simulation, and calculating the average change. It can take on values between -1 and 1 for call options and between -1 and 0 for put options. In the context of the Heston Model and Monte Carlo simulation with a rho of -0.30, we find delta to be 0.56 for the call option and 0.70 for the put option (Schumacher, 2020).\n",
        "\n",
        "On the other hand, Gamma measures the rate of change of an option's delta with respect to changes in the underlying asset's price. In the Heston Model and Monte Carlo simulation, gamma can be calculated by simulating small changes in the asset price and corresponding changes in delta, then calculating the second derivative of the option price with respect to the asset price (Γ = ∂²V/∂S²). This is why Gamma can either ne positive or negative. It can especially be negative typically for long options positions. In the context of the Heston Model and Monte Carlo simulation with a rho of -0.30, we find delta to be -0.42 for the call option and -0.53 for the put option (Schumacher, 2020)."
      ],
      "metadata": {
        "id": "L3wnPoTV5nBh"
      }
    },
    {
      "cell_type": "code",
      "source": [
        "# @title\n",
        "import numpy as np\n",
        "\n",
        "# Heston Model Parameters\n",
        "v0 = 0.032\n",
        "kappa_v = 1.85\n",
        "theta_v = 0.045\n",
        "sigma_v = 0.35\n",
        "rho = -0.30\n",
        "\n",
        "# Option Parameters\n",
        "S0 = 80\n",
        "K_call = 80  # ATM Call Strike Price\n",
        "K_put = 80   # ATM Put Strike Price\n",
        "r = 0.055  # Risk-free rate\n",
        "T = 3/12  # Time to maturity (in years)\n",
        "M0 = 50   # Number of time steps in a year\n",
        "M = int(M0 * T)  # Total time steps\n",
        "Ite = 10000  # Number of simulations\n",
        "dt = T / M  # Length of time step\n",
        "\n",
        "# Small perturbation for delta calculation\n",
        "delta_S = 0.01\n",
        "\n",
        "# Generate random numbers\n",
        "rand = np.random.standard_normal((2, M + 1, Ite))\n",
        "np.random.seed(42)\n",
        "\n",
        "# Covariance Matrix\n",
        "covariance_matrix = np.array([[1.0, rho], [rho, 1.0]])\n",
        "cho_matrix = np.linalg.cholesky(covariance_matrix)\n",
        "\n",
        "# Function to simulate volatility paths\n",
        "def SDE_vol(v0, kappa, theta, sigma, T, M, Ite, rand, row, cho_matrix):\n",
        "    dt = T / M\n",
        "    v = np.zeros((M + 1, Ite), dtype=np.float)\n",
        "    v[0] = v0\n",
        "    sdt = np.sqrt(dt)\n",
        "    for t in range(1, M + 1):\n",
        "        ran = np.dot(cho_matrix, rand[:, t])\n",
        "        v[t] = np.maximum(\n",
        "            0,\n",
        "            v[t - 1] + kappa * (theta - v[t - 1]) * dt\n",
        "            + np.sqrt(v[t - 1]) * sigma * ran[row] * sdt,\n",
        "        )\n",
        "    return v\n",
        "\n",
        "# Function to simulate stock price paths\n",
        "def Heston_paths(S0, r, v, row, cho_matrix):\n",
        "    S = np.zeros((M + 1, Ite), dtype=float)\n",
        "    S[0] = S0\n",
        "    sdt = np.sqrt(dt)\n",
        "    for t in range(1, M + 1):\n",
        "        ran = np.dot(cho_matrix, rand[:, t])\n",
        "        S[t] = S[t - 1] * np.exp((r - 0.5 * v[t]) * dt + np.sqrt(v[t]) * ran[row] * sdt)\n",
        "    return S\n",
        "\n",
        "# Calculate option prices at the original stock price\n",
        "V = SDE_vol(v0, kappa_v, theta_v, sigma_v, T, M, Ite, rand, 1, cho_matrix)\n",
        "S = Heston_paths(S0, r, V, 0, cho_matrix)\n",
        "\n",
        "call_price_original = np.mean(np.maximum(0, S[-1] - K_call) * np.exp(-r * T))\n",
        "put_price_original = np.mean(np.maximum(0, K_put - S[-1]) * np.exp(-r * T))\n",
        "\n",
        "# Calculate option prices with a slightly increased stock price\n",
        "S_perturbed = S0 * (1 + delta_S)\n",
        "V_perturbed = SDE_vol(v0, kappa_v, theta_v, sigma_v, T, M, Ite, rand, 1, cho_matrix)\n",
        "S_perturbed = Heston_paths(S_perturbed, r, V_perturbed, 0, cho_matrix)\n",
        "\n",
        "call_price_perturbed = np.mean(np.maximum(0, S_perturbed[-1] - K_call) * np.exp(-r * T))\n",
        "put_price_perturbed = np.mean(np.maximum(0, K_put - S_perturbed[-1]) * np.exp(-r * T))\n",
        "\n",
        "# Calculate delta and gamma for the European call and put options\n",
        "call_delta = (call_price_perturbed - call_price_original) / (delta_S * S0)\n",
        "put_delta = (put_price_perturbed - put_price_original) / (delta_S * S0)\n",
        "\n",
        "# Calculate gamma using finite differences\n",
        "call_gamma = ((call_price_perturbed - 2 * call_price_original + call_price_original) / (delta_S**2 * S0**2))\n",
        "put_gamma = ((put_price_perturbed - 2 * put_price_original + put_price_original) / (delta_S**2 * S0**2))\n",
        "\n",
        "# Print the results\n",
        "print(\"ATM European Call Option Delta:\", call_delta)\n",
        "print(\"ATM European Call Option Gamma:\", call_gamma)\n",
        "print(\"ATM European Put Option Delta:\", put_delta)\n",
        "print(\"ATM European Put Option Gamma:\", put_gamma)\n"
      ],
      "metadata": {
        "colab": {
          "base_uri": "https://localhost:8080/"
        },
        "id": "Qzpf8--ChS3K",
        "outputId": "58c4124f-31ca-43ff-88df-426268fcb538",
        "cellView": "form"
      },
      "execution_count": null,
      "outputs": [
        {
          "output_type": "stream",
          "name": "stdout",
          "text": [
            "ATM European Call Option Delta: 0.5629774694852985\n",
            "ATM European Call Option Gamma: 0.703721836856623\n",
            "ATM European Put Option Delta: -0.4243850061659288\n",
            "ATM European Put Option Gamma: -0.530481257707411\n"
          ]
        },
        {
          "output_type": "stream",
          "name": "stderr",
          "text": [
            "<ipython-input-7-4ca0c757c407>:35: DeprecationWarning: `np.float` is a deprecated alias for the builtin `float`. To silence this warning, use `float` by itself. Doing this will not modify any behavior and is safe. If you specifically wanted the numpy scalar type, use `np.float64` here.\n",
            "Deprecated in NumPy 1.20; for more details and guidance: https://numpy.org/devdocs/release/1.20.0-notes.html#deprecations\n",
            "  v = np.zeros((M + 1, Ite), dtype=np.float)\n"
          ]
        }
      ]
    },
    {
      "cell_type": "code",
      "source": [
        "# @title\n",
        "from tabulate import tabulate\n",
        "\n",
        "# Prepare your data as a list of lists\n",
        "table_data = [\n",
        "    [\"7\", \"Call\", \"European\", \"Heston Model in combination with Monte-Carlo simulation and a correlation value of -0.30\", \"$2.83\", \"0.56\", \"0.70\"],\n",
        "    [\"7\", \"Put\", \"European\", \"Heston Model in combination with Monte-Carlo simulation and a correlation value of -0.30\", \"$2.81\", \"-0.42\", \"-0.53\"]\n",
        "]\n",
        "\n",
        "# Define the title for the table\n",
        "table_title = \"Summary of Results for Delta and Gamma of each options in Question 5\"\n",
        "\n",
        "# Define the table headers\n",
        "headers = [\"Q #s\", \"Type\", \"Exer\", \"GWP 3 Method\", \"Price\", \"Delta\", \"Gamma\"]\n",
        "\n",
        "# Format the table using tabulate\n",
        "table = tabulate(table_data, headers=headers, tablefmt=\"grid\")\n",
        "\n",
        "# Add the title above the table\n",
        "table_with_title = f\"{table_title}\\n\\n{table}\"\n",
        "\n",
        "# Print the formatted table\n",
        "print(table_with_title)"
      ],
      "metadata": {
        "colab": {
          "base_uri": "https://localhost:8080/"
        },
        "id": "cXcXYNZBiBzn",
        "outputId": "28093cc4-cb10-462e-87e5-6a28399bff18",
        "cellView": "form"
      },
      "execution_count": null,
      "outputs": [
        {
          "output_type": "stream",
          "name": "stdout",
          "text": [
            "Summary of Results for Delta and Gamma of each options in Question 5\n",
            "\n",
            "+--------+--------+----------+------------------------------------------------------------------------------------------+---------+---------+---------+\n",
            "|   Q #s | Type   | Exer     | GWP 3 Method                                                                             | Price   |   Delta |   Gamma |\n",
            "+========+========+==========+==========================================================================================+=========+=========+=========+\n",
            "|      7 | Call   | European | Heston Model in combination with Monte-Carlo simulation and a correlation value of -0.30 | $2.83   |    0.56 |    0.7  |\n",
            "+--------+--------+----------+------------------------------------------------------------------------------------------+---------+---------+---------+\n",
            "|      7 | Put    | European | Heston Model in combination with Monte-Carlo simulation and a correlation value of -0.30 | $2.81   |   -0.42 |   -0.53 |\n",
            "+--------+--------+----------+------------------------------------------------------------------------------------------+---------+---------+---------+\n"
          ]
        }
      ]
    },
    {
      "cell_type": "markdown",
      "source": [
        "**7(b) Calculate delta and gamma for each of the options in Questions 6. (Hint: You can numerically approximate this by forcing a change in the variable of interest –i.e., underlying stock price and delta change—and recalculate the option price).**\n",
        "\n",
        "Changes in correlation, especially a stronger negative correlation as seen in the shift from -0.30 to -0.70, can significantly impact the relationship between the asset price, volatility, delta, and gamma in the Heston model. This can lead to shifts in the sensitivity of options to price and volatility changes, influencing their delta and gamma values. These changes reflect the evolving dynamics of option pricing in response to different market conditions and model assumptions (Schumacher, 2020).\n",
        "\n",
        "In our case, we find the delta for the call and put options to be 0.51 and 0.63 respectively. On the other hand, we find the gamma for the call and put options to be -0.46 and -0.58 respectively."
      ],
      "metadata": {
        "id": "yd3wvsGY6jzr"
      }
    },
    {
      "cell_type": "code",
      "source": [
        "# @title\n",
        "import numpy as np\n",
        "\n",
        "# Heston Model Parameters\n",
        "v0 = 0.032\n",
        "kappa_v = 1.85\n",
        "theta_v = 0.045\n",
        "sigma_v = 0.35\n",
        "rho = -0.70  # Updated correlation value\n",
        "\n",
        "# Option Parameters\n",
        "S0 = 80\n",
        "K_call = 80  # ATM Call Strike Price\n",
        "K_put = 80   # ATM Put Strike Price\n",
        "r = 0.055  # Risk-free rate\n",
        "T = 3/12  # Time to maturity (in years)\n",
        "M0 = 50   # Number of time steps in a year\n",
        "M = int(M0 * T)  # Total time steps\n",
        "Ite = 10000  # Number of simulations\n",
        "dt = T / M  # Length of time step\n",
        "\n",
        "# Small perturbation for delta calculation\n",
        "delta_S = 0.01\n",
        "\n",
        "# Generate random numbers\n",
        "rand = np.random.standard_normal((2, M + 1, Ite))\n",
        "np.random.seed(42)\n",
        "\n",
        "# Covariance Matrix\n",
        "covariance_matrix = np.array([[1.0, rho], [rho, 1.0]])\n",
        "cho_matrix = np.linalg.cholesky(covariance_matrix)\n",
        "\n",
        "# Function to simulate volatility paths\n",
        "def SDE_vol(v0, kappa, theta, sigma, T, M, Ite, rand, row, cho_matrix):\n",
        "    dt = T / M\n",
        "    v = np.zeros((M + 1, Ite), dtype=np.float)\n",
        "    v[0] = v0\n",
        "    sdt = np.sqrt(dt)\n",
        "    for t in range(1, M + 1):\n",
        "        ran = np.dot(cho_matrix, rand[:, t])\n",
        "        v[t] = np.maximum(\n",
        "            0,\n",
        "            v[t - 1] + kappa * (theta - v[t - 1]) * dt\n",
        "            + np.sqrt(v[t - 1]) * sigma * ran[row] * sdt,\n",
        "        )\n",
        "    return v\n",
        "\n",
        "# Function to simulate stock price paths\n",
        "def Heston_paths(S0, r, v, row, cho_matrix):\n",
        "    S = np.zeros((M + 1, Ite), dtype=float)\n",
        "    S[0] = S0\n",
        "    sdt = np.sqrt(dt)\n",
        "    for t in range(1, M + 1):\n",
        "        ran = np.dot(cho_matrix, rand[:, t])\n",
        "        S[t] = S[t - 1] * np.exp((r - 0.5 * v[t]) * dt + np.sqrt(v[t]) * ran[row] * sdt)\n",
        "    return S\n",
        "\n",
        "# Calculate option prices at the original stock price\n",
        "V = SDE_vol(v0, kappa_v, theta_v, sigma_v, T, M, Ite, rand, 1, cho_matrix)\n",
        "S = Heston_paths(S0, r, V, 0, cho_matrix)\n",
        "\n",
        "call_price_original = np.mean(np.maximum(0, S[-1] - K_call) * np.exp(-r * T))\n",
        "put_price_original = np.mean(np.maximum(0, K_put - S[-1]) * np.exp(-r * T))\n",
        "\n",
        "# Calculate option prices with a slightly increased stock price\n",
        "S_perturbed = S0 * (1 + delta_S)\n",
        "V_perturbed = SDE_vol(v0, kappa_v, theta_v, sigma_v, T, M, Ite, rand, 1, cho_matrix)\n",
        "S_perturbed = Heston_paths(S_perturbed, r, V_perturbed, 0, cho_matrix)\n",
        "\n",
        "call_price_perturbed = np.mean(np.maximum(0, S_perturbed[-1] - K_call) * np.exp(-r * T))\n",
        "put_price_perturbed = np.mean(np.maximum(0, K_put - S_perturbed[-1]) * np.exp(-r * T))\n",
        "\n",
        "# Calculate delta and gamma for the European call and put options\n",
        "call_delta = (call_price_perturbed - call_price_original) / (delta_S * S0)\n",
        "put_delta = (put_price_perturbed - put_price_original) / (delta_S * S0)\n",
        "\n",
        "# Calculate gamma using finite differences\n",
        "call_gamma = ((call_price_perturbed - 2 * call_price_original + call_price_original) / (delta_S**2 * S0**2))\n",
        "put_gamma = ((put_price_perturbed - 2 * put_price_original + put_price_original) / (delta_S**2 * S0**2))\n",
        "\n",
        "# Print the results\n",
        "print(\"ATM European Call Option Delta (rho -0.70):\", call_delta)\n",
        "print(\"ATM European Call Option Gamma (rho -0.70):\", call_gamma)\n",
        "print(\"ATM European Put Option Delta (rho -0.70):\", put_delta)\n",
        "print(\"ATM European Put Option Gamma (rho -0.70):\", put_gamma)\n"
      ],
      "metadata": {
        "colab": {
          "base_uri": "https://localhost:8080/"
        },
        "id": "CM30pLruitPD",
        "outputId": "ba69174c-b6b4-4ccc-e3f7-5bbbe8e78c01",
        "cellView": "form"
      },
      "execution_count": null,
      "outputs": [
        {
          "output_type": "stream",
          "name": "stdout",
          "text": [
            "ATM European Call Option Delta (rho -0.70): 0.508109850828728\n",
            "ATM European Call Option Gamma (rho -0.70): 0.63513731353591\n",
            "ATM European Put Option Delta (rho -0.70): -0.4616196966681829\n",
            "ATM European Put Option Gamma (rho -0.70): -0.5770246208352287\n"
          ]
        },
        {
          "output_type": "stream",
          "name": "stderr",
          "text": [
            "<ipython-input-9-55a78b25cba2>:35: DeprecationWarning: `np.float` is a deprecated alias for the builtin `float`. To silence this warning, use `float` by itself. Doing this will not modify any behavior and is safe. If you specifically wanted the numpy scalar type, use `np.float64` here.\n",
            "Deprecated in NumPy 1.20; for more details and guidance: https://numpy.org/devdocs/release/1.20.0-notes.html#deprecations\n",
            "  v = np.zeros((M + 1, Ite), dtype=np.float)\n"
          ]
        }
      ]
    },
    {
      "cell_type": "code",
      "source": [
        "# @title\n",
        "from tabulate import tabulate\n",
        "\n",
        "# Prepare your data as a list of lists\n",
        "table_data = [\n",
        "    [\"7\", \"Call\", \"European\", \"Heston Model with a correlation value of -0.70\", \"2.01\", \"0.51\", \"0.63\"],\n",
        "    [\"7\", \"Put\", \"European\", \"Heston Model with a correlation value of -0.70\", \"3.49\", \"-0.46\", \"-0.58\"]\n",
        "]\n",
        "\n",
        "# Define the title for the table\n",
        "table_title = \"Summary of Results for Delta and Gamma of each options in Question 6\"\n",
        "\n",
        "# Define the table headers\n",
        "headers = [\"Q #s\", \"Type\", \"Exer\", \"GWP 3 Method\", \"Price\", \"Delta\", \"Gamma\"]\n",
        "\n",
        "# Format the table using tabulate\n",
        "table = tabulate(table_data, headers=headers, tablefmt=\"grid\")\n",
        "\n",
        "# Add the title above the table\n",
        "table_with_title = f\"{table_title}\\n\\n{table}\"\n",
        "\n",
        "# Print the formatted table\n",
        "print(table_with_title)"
      ],
      "metadata": {
        "colab": {
          "base_uri": "https://localhost:8080/"
        },
        "id": "R1DQPtcEjG7-",
        "outputId": "b1d489c2-a316-4c70-cbb8-38472c387896",
        "cellView": "form"
      },
      "execution_count": null,
      "outputs": [
        {
          "output_type": "stream",
          "name": "stdout",
          "text": [
            "Summary of Results for Delta and Gamma of each options in Question 6\n",
            "\n",
            "+--------+--------+----------+------------------------------------------------+---------+---------+---------+\n",
            "|   Q #s | Type   | Exer     | GWP 3 Method                                   |   Price |   Delta |   Gamma |\n",
            "+========+========+==========+================================================+=========+=========+=========+\n",
            "|      7 | Call   | European | Heston Model with a correlation value of -0.70 |    2.01 |    0.51 |    0.63 |\n",
            "+--------+--------+----------+------------------------------------------------+---------+---------+---------+\n",
            "|      7 | Put    | European | Heston Model with a correlation value of -0.70 |    3.49 |   -0.46 |   -0.58 |\n",
            "+--------+--------+----------+------------------------------------------------+---------+---------+---------+\n"
          ]
        }
      ]
    },
    {
      "cell_type": "markdown",
      "source": [
        "**Team Member B:  Jump Modeler:**\n",
        "\n",
        "**For the Merton model, we use the following parameters:**\n",
        "\n",
        "- $\\mu$ = -0.5\n",
        "- $\\delta$ = 0.22\n",
        "\n",
        "**8. Using the Merton Model, price an ATM European call and put with jump intensity parameter equal to 0.75.**"
      ],
      "metadata": {
        "id": "LlIYidKXjwN8"
      }
    },
    {
      "cell_type": "markdown",
      "source": [
        "\n",
        "The Merton model is a jump-diffusion model that is used to price options. The model assumes that the stock price follows a lognormal distribution, but that it can also experience jumps. The jump intensity parameter, λ, controls the frequency of the jumps."
      ],
      "metadata": {
        "id": "H0DCY_W9rgtv"
      }
    },
    {
      "cell_type": "code",
      "source": [
        "# @title\n",
        "import matplotlib.pyplot as plt\n",
        "import numpy as np\n",
        "import scipy.stats as ss\n",
        "np.random.seed(0)\n",
        "\n",
        "\n",
        "\n",
        "def merton_jump_paths(S0, r, sigma, T, lamb, muJ, deltaJ, n_paths, n_steps):\n",
        "    dt = T / n_steps\n",
        "    jump_intensity = lamb * (np.exp(muJ + 0.5 * deltaJ**2) - 1)\n",
        "\n",
        "    paths = np.zeros((n_steps + 1, n_paths))\n",
        "    paths[0] = S0\n",
        "\n",
        "    for t in range(1, n_steps + 1):\n",
        "        normal_shocks = np.random.normal(0, 1, n_paths)\n",
        "        jump_shocks = np.random.normal(muJ, deltaJ, n_paths)\n",
        "        jump_sizes = np.random.poisson(lamb * dt, n_paths)\n",
        "\n",
        "        paths[t] = paths[t-1] * np.exp((r - 0.5 * sigma**2 - jump_intensity) * dt + sigma * np.sqrt(dt) * normal_shocks + jump_shocks * jump_sizes)\n",
        "\n",
        "    return paths\n",
        "\n",
        "def european_call_merton(S0, K, r, T, sigma, lamb, muJ, deltaJ, n_paths, n_steps):\n",
        "    paths = merton_jump_paths(S0, r, sigma, T, lamb, muJ, deltaJ, n_paths, n_steps)\n",
        "    # Payoff at maturity for European call option\n",
        "    payoff = np.maximum(paths[-1] - K, 0)\n",
        "    # Discount the payoff to present value\n",
        "    return np.mean(payoff) * np.exp(-r * T)\n",
        "\n",
        "def european_put_merton(S0, K, r, T, sigma, lamb, muJ, deltaJ, n_paths, n_steps):\n",
        "    dt = T / n_steps\n",
        "    discount = np.exp(-r * T)\n",
        "    paths = merton_jump_paths(S0, r, sigma, T, lamb, muJ, deltaJ, n_paths, n_steps)\n",
        "\n",
        "    # Payoff at maturity for a European put\n",
        "    payoff = np.maximum(K - paths[-1], 0)\n",
        "\n",
        "    return np.mean(payoff) * discount\n",
        "\n",
        "S0 = 80\n",
        "K = 80\n",
        "r = 0.055\n",
        "sigma = 0.35\n",
        "T = 3 / 12\n",
        "lamb = 0.75\n",
        "muJ = -0.5\n",
        "deltaJ = 0.22\n",
        "n_paths = 100000\n",
        "n_steps = 100\n",
        "\n",
        "european_call_price = european_call_merton(S0, K, r, T, sigma, lamb, muJ, deltaJ, n_paths, n_steps)\n",
        "print(f\"European Call Option Price with jump intensity of 0.75: {european_call_price:.2f}\")\n",
        "\n",
        "european_put_price = european_put_merton(S0, K, r, T, sigma, lamb, muJ, deltaJ, n_paths, n_steps)\n",
        "print(f\"European Put Option Price jump intensity of 0.75: {european_put_price:.2f}\")\n",
        "\n",
        "\n",
        "\n"
      ],
      "metadata": {
        "colab": {
          "base_uri": "https://localhost:8080/"
        },
        "id": "yk-54-UOtMA6",
        "outputId": "3b2d3ae1-b71e-474a-eaec-dc9f6acf9c00",
        "cellView": "form"
      },
      "execution_count": null,
      "outputs": [
        {
          "output_type": "stream",
          "name": "stdout",
          "text": [
            "European Call Option Price with jump intensity of 0.75: 8.28\n",
            "European Put Option Price jump intensity of 0.75: 7.20\n"
          ]
        }
      ]
    },
    {
      "cell_type": "markdown",
      "source": [
        "\n",
        "**9. Using the Merton Model, price an ATM European call and put with jump intensity parameter equal to 0.25.**\n"
      ],
      "metadata": {
        "id": "LsxYOa5ire_D"
      }
    },
    {
      "cell_type": "code",
      "source": [
        "# @title\n",
        "\n",
        "S0 = 80\n",
        "K = 80\n",
        "r = 0.055\n",
        "sigma = 0.35\n",
        "T = 3 / 12\n",
        "lamb = 0.25\n",
        "muJ = -0.5\n",
        "deltaJ = 0.22\n",
        "n_steps = 100\n",
        "\n",
        "european_call_price = european_call_merton(S0, K, r, T, sigma, lamb, muJ, deltaJ, n_paths, n_steps)\n",
        "print(f\"European Call Option Price with jump intensity of 0.25: {european_call_price:.2f}\")\n",
        "\n",
        "european_put_price = european_put_merton(S0, K, r, T, sigma, lamb, muJ, deltaJ, n_paths, n_steps)\n",
        "print(f\"European Put Option Price jump intensity of 0.25: {european_put_price:.2f}\")\n",
        "\n"
      ],
      "metadata": {
        "colab": {
          "base_uri": "https://localhost:8080/"
        },
        "id": "RQOGTXF91xfY",
        "outputId": "2c29ccd2-9795-4c39-83d2-fc3094a2eb41",
        "cellView": "form"
      },
      "execution_count": null,
      "outputs": [
        {
          "output_type": "stream",
          "name": "stdout",
          "text": [
            "European Call Option Price with jump intensity of 0.25: 6.81\n",
            "European Put Option Price jump intensity of 0.25: 5.79\n"
          ]
        }
      ]
    },
    {
      "cell_type": "markdown",
      "source": [
        "\n",
        "**10. Calculate delta and gamma for each of the options in Questions 8 and 9. (Hint: You can use the same trick as in Question 7).**"
      ],
      "metadata": {
        "id": "AdXi3HmA1o8D"
      }
    },
    {
      "cell_type": "markdown",
      "source": [
        "Delta and gamma are sensitivity measures used in options pricing. They describe how an option's price moves in relation to changes in the underlying asset's price."
      ],
      "metadata": {
        "id": "OF4_2Q9d9svW"
      }
    },
    {
      "cell_type": "code",
      "source": [
        "# @title\n",
        "def compute_delta(S0, deltaS, K, r, T, sigma, lamb, muJ, deltaJ, n_paths, n_steps):\n",
        "\n",
        "    C_S0_plus = european_call_merton(S0 + deltaS, K, r, T, sigma, lamb, muJ, deltaJ, n_paths, n_steps)\n",
        "    C_S0_minus = european_call_merton(S0 - deltaS, K, r, T, sigma, lamb, muJ, deltaJ, n_paths, n_steps)\n",
        "\n",
        "    # Calculate Delta\n",
        "    Delta = (C_S0_plus - C_S0_minus) / (2 * deltaS)\n",
        "\n",
        "    return Delta\n",
        "\n",
        "def compute_gamma(S0, deltaS, K, r, T, sigma, lamb, muJ, deltaJ, n_paths, n_steps):\n",
        "\n",
        "    C_S0 = european_call_merton(S0, K, r, T, sigma, lamb, muJ, deltaJ, n_paths, n_steps)\n",
        "    C_S0_plus = european_call_merton(S0 + deltaS, K, r, T, sigma, lamb, muJ, deltaJ, n_paths, n_steps)\n",
        "    C_S0_minus = european_call_merton(S0 - deltaS, K, r, T, sigma, lamb, muJ, deltaJ, n_paths, n_steps)\n",
        "\n",
        "    # Calculate Gamma\n",
        "    Gamma = (C_S0_plus - 2*C_S0 + C_S0_minus) / deltaS**2\n",
        "\n",
        "    return Gamma\n",
        "\n",
        "def compute_put_delta_gamma(S0, deltaS, K, r, T, sigma, lamb, muJ, deltaJ, n_paths, n_steps):\n",
        "\n",
        "    P_S0 = european_put_merton(S0, K, r, T, sigma, lamb, muJ, deltaJ, n_paths, n_steps)\n",
        "    P_S0_plus = european_put_merton(S0 + deltaS, K, r, T, sigma, lamb, muJ, deltaJ, n_paths, n_steps)\n",
        "    P_S0_minus = european_put_merton(S0 - deltaS, K, r, T, sigma, lamb, muJ, deltaJ, n_paths, n_steps)\n",
        "\n",
        "    # Calculate Delta and Gamma\n",
        "    Delta = (P_S0_plus - P_S0_minus) / (2 * deltaS)\n",
        "    Gamma = (P_S0_plus - 2*P_S0 + P_S0_minus) / deltaS**2\n",
        "\n",
        "    return Delta, Gamma\n",
        "\n",
        "\n",
        "# Parameters\n",
        "deltaS = 0.001\n",
        "\n",
        "Gamma = compute_gamma(S0, deltaS, K, r, T, sigma, 0.75, muJ, deltaJ, n_paths, n_steps)\n",
        "print(f\"Gamma of european call with intensity of 0.75:: {Gamma:.4f}\")\n",
        "\n",
        "\n",
        "Delta = compute_delta(S0, deltaS, K, r, T, sigma, 0.75, muJ, deltaJ, n_paths, n_steps)\n",
        "print(f\"Delta of european call with intensity of 0.75: {Delta:.4f}\")\n",
        "\n",
        "\n",
        "Gamma = compute_gamma(S0, deltaS, K, r, T, sigma, 0.25, muJ, deltaJ, n_paths, n_steps)\n",
        "print(f\"Gamma of european call with intensity of 0.25:: {Gamma:.4f}\")\n",
        "\n",
        "\n",
        "Delta = compute_delta(S0, deltaS, K, r, T, sigma, 0.25, muJ, deltaJ, n_paths, n_steps)\n",
        "print(f\"Delta of european call with intensity of 0.25: {Delta:.4f}\")\n",
        "\n",
        "Delta, Gamma = compute_put_delta_gamma(S0, deltaS, K, r, T, sigma, 0.75, muJ, deltaJ, n_paths, n_steps)\n",
        "print(f\"Delta of european put with intensity of 0.75: {Delta:.4f}\")\n",
        "print(f\"Gamma of european put with intensity of 0.75:: {Gamma:.4f}\")\n",
        "\n",
        "Delta, Gamma = compute_put_delta_gamma(S0, deltaS, K, r, T, sigma, 0.25, muJ, deltaJ, n_paths, n_steps)\n",
        "print(f\"Delta of european put with intensity of 0.25: {Delta:.4f}\")\n",
        "print(f\"Gamma of european put with intensity of 0.25:: {Gamma:.4f}\")\n",
        "\n",
        "\n"
      ],
      "metadata": {
        "colab": {
          "base_uri": "https://localhost:8080/"
        },
        "id": "-16FsWdC96gB",
        "outputId": "588ef6e2-2b15-41db-b3ee-cd8a39afa50a",
        "cellView": "form"
      },
      "execution_count": null,
      "outputs": [
        {
          "output_type": "stream",
          "name": "stdout",
          "text": [
            "Gamma of european call with intensity of 0.75:: 72667.1700\n",
            "Delta of european call with intensity of 0.75: 21.8533\n",
            "Gamma of european call with intensity of 0.25:: -1043.0658\n",
            "Delta of european call with intensity of 0.25: -32.3934\n",
            "Delta of european put with intensity of 0.75: 11.5227\n",
            "Gamma of european put with intensity of 0.75:: 11233.2869\n",
            "Delta of european put with intensity of 0.25: 24.2567\n",
            "Gamma of european put with intensity of 0.25:: -63593.7835\n"
          ]
        }
      ]
    },
    {
      "cell_type": "markdown",
      "source": [
        "**Team Member C: Model Validator**\n",
        "\n",
        "**11. For Questions 5, 6, 8, and 9, use put-call Parity to determine if the prices of the put and call from the Heston Model and Merton Model satisfy put-call parity.**\n",
        "\n"
      ],
      "metadata": {
        "id": "boDEiG9mkp2w"
      }
    },
    {
      "cell_type": "markdown",
      "source": [
        "The put-call parity is $C_{0}= -Ke^{-rT}+S_{0}+P_{0}$,for Question 5 ,\n",
        "As we can see\n",
        " $C_{0}= 2.86,-Ke^{-rT} = -78.91,S_{0} = 80,P_{0}$= 2.83.\n",
        "So that $C_{0}\\neq-Ke^{-rT}+S_{0}+P_{0}$, which means  Put-Call parity is not satisfied under the Heston Model.\n"
      ],
      "metadata": {
        "id": "qRkzcLbzbPnF"
      }
    },
    {
      "cell_type": "markdown",
      "source": [
        "The put-call parity is $C_{0}= -Ke^{-rT}+S_{0}+P_{0}$,for Question 6 ,\n",
        "As we can see\n",
        " $C_{0}= 2.09,-Ke^{-rT} = -78.91,S_{0} = 80,P_{0}$= 3.45.\n",
        "So that $C_{0}\\neq-Ke^{-rT}+S_{0}+P_{0}$, which means  Put-Call parity is not satisfied under the Heston Model."
      ],
      "metadata": {
        "id": "aSUnQBIDcBQp"
      }
    },
    {
      "cell_type": "markdown",
      "source": [
        "The put-call parity is $C_{0}= -Ke^{-rT}+S_{0}+P_{0}$,for Question 8 ,\n",
        "As we can see\n",
        " $C_{0}= 8.28,-Ke^{-rT} = -78.91,S_{0} = 80,P_{0}$= 7.20.\n",
        "So that $C_{0}\\neq-Ke^{-rT}+S_{0}+P_{0}$, which means  Put-Call parity is not satisfied under the Merton Model."
      ],
      "metadata": {
        "id": "kHOZYgBQ22_8"
      }
    },
    {
      "cell_type": "markdown",
      "source": [
        "The put-call parity is $C_{0}= -Ke^{-rT}+S_{0}+P_{0}$,for Question 9 ,\n",
        "As we can see\n",
        " $C_{0}= 6.81,-Ke^{-rT} = -78.91,S_{0} = 80,P_{0}$= 5.79.\n",
        "So that $C_{0}\\neq-Ke^{-rT}+S_{0}+P_{0}$, which means  Put-Call parity is not satisfied under the Merton Model."
      ],
      "metadata": {
        "id": "frWaHqES23Cq"
      }
    },
    {
      "cell_type": "markdown",
      "source": [
        "**12. Run the Heston Model and Merton Model for 7 different strikes: 3 OTM calls; 1 ATM call; and 3 ITM calls. The strikes should be equally spaced. Try to use the following APPROXIMATE moneyness values: 0.85, 0.90, 0.95, 1, 1.05, 1.10, and 1.15. Recall that moneyness = stock/strike.**"
      ],
      "metadata": {
        "id": "9M1dr6o2aysC"
      }
    },
    {
      "cell_type": "code",
      "source": [
        "# @title\n",
        "import numpy as np\n",
        "import scipy.stats as ss\n",
        "\n",
        "def SDE_vol(v0, kappa, theta, sigma, T, M, Ite, rand, row, cho_matrix):\n",
        "    dt = T / M  # T = maturity, M = number of time steps\n",
        "    v = np.zeros((M + 1, Ite), dtype=np.float)\n",
        "    v[0] = v0\n",
        "    sdt = np.sqrt(dt)  # Sqrt of dt\n",
        "    for t in range(1, M + 1):\n",
        "        ran = np.dot(cho_matrix, rand[:, t])\n",
        "        v[t] = np.maximum(\n",
        "            0,\n",
        "            v[t - 1]\n",
        "            + kappa * (theta - v[t - 1]) * dt\n",
        "            + np.sqrt(v[t - 1]) * sigma * ran[row] * sdt,\n",
        "        )\n",
        "    return v\n",
        "\n",
        "def Heston_paths(S0, r, v, row, cho_matrix):\n",
        "    S = np.zeros((M + 1, Ite), dtype=float)\n",
        "    S[0] = S0\n",
        "    sdt = np.sqrt(dt)\n",
        "    for t in range(1, M + 1, 1):\n",
        "        ran = np.dot(cho_matrix, rand[:, t])\n",
        "        S[t] = S[t - 1] * np.exp((r - 0.5 * v[t]) * dt + np.sqrt(v[t]) * ran[row] * sdt)\n",
        "\n",
        "    return S\n",
        "\n",
        "def random_number_gen(M, Ite):\n",
        "    rand = np.random.standard_normal((2, M + 1, Ite))\n",
        "    return rand\n",
        "\n",
        "v0 = 0.032\n",
        "kappa_v = 1.85\n",
        "sigma_v = 0.35\n",
        "theta_v = 0.045\n",
        "rho = -0.30\n",
        "\n",
        "S0 = 80  # Current underlying asset price\n",
        "r = 0.055  # Risk-free rate\n",
        "M0 = 50  # Number of time steps in a year\n",
        "T = 3/12  # Number of years\n",
        "M = int(M0 * T)  # Total time steps\n",
        "Ite = 10000  # Number of simulations\n",
        "dt = T / M  # Length of time step\n",
        "\n",
        "# Generating random numbers from standard normal\n",
        "rand = random_number_gen(M, Ite)\n",
        "\n",
        "\n",
        "# Covariance Matrix\n",
        "covariance_matrix = np.zeros((2, 2), dtype=np.float)\n",
        "covariance_matrix[0] = [1.0, rho]\n",
        "covariance_matrix[1] = [rho, 1.0]\n",
        "cho_matrix = np.linalg.cholesky(covariance_matrix)\n",
        "\n",
        "# Volatility process paths\n",
        "V = SDE_vol(v0, kappa_v, theta_v, sigma_v, T, M, Ite, rand, 1, cho_matrix)\n",
        "\n",
        "# Underlying price process paths\n",
        "S = Heston_paths(S0, r, V, 0, cho_matrix)\n",
        "\n",
        "def heston_call_mc(S, K, r, T, t, type_of):\n",
        "    if type_of == \"C\":\n",
        "        payoff = np.maximum(0, S[-1, :] - K)\n",
        "    else:\n",
        "        payoff = np.maximum(0, K - S[-1, :])\n",
        "\n",
        "    average = np.mean(payoff)\n",
        "\n",
        "    return np.exp(-r * (T - t)) * average"
      ],
      "metadata": {
        "colab": {
          "base_uri": "https://localhost:8080/"
        },
        "id": "ZivBkbCHl1Oo",
        "outputId": "80fe3295-036d-4a92-929a-51d70e31603d",
        "cellView": "form"
      },
      "execution_count": null,
      "outputs": [
        {
          "output_type": "stream",
          "name": "stderr",
          "text": [
            "<ipython-input-14-9853c0e40158>:52: DeprecationWarning: `np.float` is a deprecated alias for the builtin `float`. To silence this warning, use `float` by itself. Doing this will not modify any behavior and is safe. If you specifically wanted the numpy scalar type, use `np.float64` here.\n",
            "Deprecated in NumPy 1.20; for more details and guidance: https://numpy.org/devdocs/release/1.20.0-notes.html#deprecations\n",
            "  covariance_matrix = np.zeros((2, 2), dtype=np.float)\n",
            "<ipython-input-14-9853c0e40158>:6: DeprecationWarning: `np.float` is a deprecated alias for the builtin `float`. To silence this warning, use `float` by itself. Doing this will not modify any behavior and is safe. If you specifically wanted the numpy scalar type, use `np.float64` here.\n",
            "Deprecated in NumPy 1.20; for more details and guidance: https://numpy.org/devdocs/release/1.20.0-notes.html#deprecations\n",
            "  v = np.zeros((M + 1, Ite), dtype=np.float)\n"
          ]
        }
      ]
    },
    {
      "cell_type": "code",
      "source": [
        "# @title\n",
        "\n",
        "# Define the list of moneyness values\n",
        "moneyness_values = [0.85, 0.90, 0.95, 1.0, 1.05, 1.10, 1.15]\n",
        "\n",
        "# Calculate strikes based on moneyness values\n",
        "strikes = [S0 * m for m in moneyness_values]\n",
        "\n",
        "# Initialize lists to store option prices\n",
        "call_option_prices = []\n",
        "\n",
        "# Calculate option prices for each strike\n",
        "for strike in strikes:\n",
        "    call_price = heston_call_mc(S, strike, r, T, 0, \"C\")\n",
        "    call_option_prices.append(call_price)\n",
        "    print(f\"Strike Price: {strike}, Call Option Price: {call_price:.2f}\")\n",
        "for strike in strikes:\n",
        "    put_price = heston_call_mc(S, strike, r, T, 0, \"P\")\n",
        "    call_option_prices.append(put_price)\n",
        "    print(f\"Strike Price: {strike}, Put Option Price: {put_price:.2f}\")\n"
      ],
      "metadata": {
        "colab": {
          "base_uri": "https://localhost:8080/"
        },
        "id": "g_wc05c3fTEd",
        "outputId": "551daf46-41fe-497f-f56f-1d245fab2b32",
        "cellView": "form"
      },
      "execution_count": null,
      "outputs": [
        {
          "output_type": "stream",
          "name": "stdout",
          "text": [
            "Strike Price: 68.0, Call Option Price: 12.08\n",
            "Strike Price: 72.0, Call Option Price: 8.49\n",
            "Strike Price: 76.0, Call Option Price: 5.34\n",
            "Strike Price: 80.0, Call Option Price: 2.90\n",
            "Strike Price: 84.0, Call Option Price: 1.33\n",
            "Strike Price: 88.0, Call Option Price: 0.54\n",
            "Strike Price: 92.0, Call Option Price: 0.20\n",
            "Strike Price: 68.0, Put Option Price: 0.20\n",
            "Strike Price: 72.0, Put Option Price: 0.55\n",
            "Strike Price: 76.0, Put Option Price: 1.35\n",
            "Strike Price: 80.0, Put Option Price: 2.85\n",
            "Strike Price: 84.0, Put Option Price: 5.22\n",
            "Strike Price: 88.0, Put Option Price: 8.38\n",
            "Strike Price: 92.0, Put Option Price: 11.99\n"
          ]
        }
      ]
    },
    {
      "cell_type": "code",
      "source": [
        "# @title\n",
        "from tabulate import tabulate\n",
        "\n",
        "# Prepare your data as a list of lists\n",
        "table_data = [\n",
        "    [\"12\", \"Call\", \"European\", \"Heston Model in combination with a correlation value of -0.30\", \"68\",\"12.15\"],\n",
        "    [\"12\", \"Call\", \"European\", \"Heston Model in combination with a correlation value of -0.30\", \"72\",\"8.55\"],\n",
        "    [\"12\", \"Call\", \"European\", \"Heston Model in combination with a correlation value of -0.30\", \"76\",\"5.38\"],\n",
        "    [\"12\", \"Call\", \"European\", \"Heston Model in combination with a correlation value of -0.30\", \"80\",\"2.92\"],\n",
        "    [\"12\", \"Call\", \"European\", \"Heston Model in combination with a correlation value of -0.30\", \"84\",\"1.33\"],\n",
        "    [\"12\", \"Call\", \"European\", \"Heston Model in combination with a correlation value of -0.30\", \"88\",\"0.52\"],\n",
        "    [\"12\", \"Call\", \"European\", \"Heston Model in combination with a correlation value of -0.30\",\"92\", \"0.18\"],\n",
        "     [\"12\", \"Put\", \"European\", \"Heston Model in combination with a correlation value of -0.30\", \"68\",\"0.19\"],\n",
        "    [\"12\", \"Put\", \"European\", \"Heston Model in combination with a correlation value of -0.30\", \"72\",\"0.54\"],\n",
        "    [\"12\", \"Put\", \"European\", \"Heston Model in combination with a correlation value of -0.30\", \"76\",\"1.31\"],\n",
        "    [\"12\", \"Put\", \"European\", \"Heston Model in combination with a correlation value of -0.30\", \"80\",\"2.80\"],\n",
        "    [\"12\", \"Put\", \"European\", \"Heston Model in combination with a correlation value of -0.30\", \"84\",\"5.16\"],\n",
        "    [\"12\", \"Put\", \"European\", \"Heston Model in combination with a correlation value of -0.30\", \"88\",\"8.30\"],\n",
        "    [\"12\", \"Put\", \"European\", \"Heston Model in combination with a correlation value of -0.30\",\"92\", \"11.90\"],\n",
        "]\n",
        "\n",
        "# Define the title for the table\n",
        "table_title = \"Summary of Results\"\n",
        "\n",
        "# Define the table headers\n",
        "headers = [\"Q #s\", \"Type\", \"Exer\", \"GWP 3 Method\",\"Strikes\" \"Price\"]\n",
        "\n",
        "# Format the table using tabulate\n",
        "table = tabulate(table_data, headers=headers, tablefmt=\"grid\")\n",
        "\n",
        "# Add the title above the table\n",
        "table_with_title = f\"{table_title}\\n\\n{table}\"\n",
        "\n",
        "# Print the formatted table\n",
        "print(table_with_title)"
      ],
      "metadata": {
        "colab": {
          "base_uri": "https://localhost:8080/"
        },
        "id": "kznbfgFBfTPz",
        "outputId": "e832ed56-9889-4bf0-a333-11a10fc2dacb",
        "cellView": "form"
      },
      "execution_count": null,
      "outputs": [
        {
          "output_type": "stream",
          "name": "stdout",
          "text": [
            "Summary of Results\n",
            "\n",
            "+----+--------+----------+---------------------------------------------------------------+----------------+----------------+\n",
            "|    | Q #s   | Type     | Exer                                                          |   GWP 3 Method |   StrikesPrice |\n",
            "+====+========+==========+===============================================================+================+================+\n",
            "| 12 | Call   | European | Heston Model in combination with a correlation value of -0.30 |             68 |          12.15 |\n",
            "+----+--------+----------+---------------------------------------------------------------+----------------+----------------+\n",
            "| 12 | Call   | European | Heston Model in combination with a correlation value of -0.30 |             72 |           8.55 |\n",
            "+----+--------+----------+---------------------------------------------------------------+----------------+----------------+\n",
            "| 12 | Call   | European | Heston Model in combination with a correlation value of -0.30 |             76 |           5.38 |\n",
            "+----+--------+----------+---------------------------------------------------------------+----------------+----------------+\n",
            "| 12 | Call   | European | Heston Model in combination with a correlation value of -0.30 |             80 |           2.92 |\n",
            "+----+--------+----------+---------------------------------------------------------------+----------------+----------------+\n",
            "| 12 | Call   | European | Heston Model in combination with a correlation value of -0.30 |             84 |           1.33 |\n",
            "+----+--------+----------+---------------------------------------------------------------+----------------+----------------+\n",
            "| 12 | Call   | European | Heston Model in combination with a correlation value of -0.30 |             88 |           0.52 |\n",
            "+----+--------+----------+---------------------------------------------------------------+----------------+----------------+\n",
            "| 12 | Call   | European | Heston Model in combination with a correlation value of -0.30 |             92 |           0.18 |\n",
            "+----+--------+----------+---------------------------------------------------------------+----------------+----------------+\n",
            "| 12 | Put    | European | Heston Model in combination with a correlation value of -0.30 |             68 |           0.19 |\n",
            "+----+--------+----------+---------------------------------------------------------------+----------------+----------------+\n",
            "| 12 | Put    | European | Heston Model in combination with a correlation value of -0.30 |             72 |           0.54 |\n",
            "+----+--------+----------+---------------------------------------------------------------+----------------+----------------+\n",
            "| 12 | Put    | European | Heston Model in combination with a correlation value of -0.30 |             76 |           1.31 |\n",
            "+----+--------+----------+---------------------------------------------------------------+----------------+----------------+\n",
            "| 12 | Put    | European | Heston Model in combination with a correlation value of -0.30 |             80 |           2.8  |\n",
            "+----+--------+----------+---------------------------------------------------------------+----------------+----------------+\n",
            "| 12 | Put    | European | Heston Model in combination with a correlation value of -0.30 |             84 |           5.16 |\n",
            "+----+--------+----------+---------------------------------------------------------------+----------------+----------------+\n",
            "| 12 | Put    | European | Heston Model in combination with a correlation value of -0.30 |             88 |           8.3  |\n",
            "+----+--------+----------+---------------------------------------------------------------+----------------+----------------+\n",
            "| 12 | Put    | European | Heston Model in combination with a correlation value of -0.30 |             92 |          11.9  |\n",
            "+----+--------+----------+---------------------------------------------------------------+----------------+----------------+\n"
          ]
        }
      ]
    },
    {
      "cell_type": "code",
      "source": [
        "# @title\n",
        "import matplotlib.pyplot as plt\n",
        "import numpy as np\n",
        "import scipy.stats as ss\n",
        "np.random.seed(0)\n",
        "\n",
        "\n",
        "\n",
        "def merton_jump_paths(S0, r, sigma, T, lamb, muJ, deltaJ, n_paths, n_steps):\n",
        "    dt = T / n_steps\n",
        "    jump_intensity = lamb * (np.exp(muJ + 0.5 * deltaJ**2) - 1)\n",
        "\n",
        "    paths = np.zeros((n_steps + 1, n_paths))\n",
        "    paths[0] = S0\n",
        "\n",
        "    for t in range(1, n_steps + 1):\n",
        "        normal_shocks = np.random.normal(0, 1, n_paths)\n",
        "        jump_shocks = np.random.normal(muJ, deltaJ, n_paths)\n",
        "        jump_sizes = np.random.poisson(lamb * dt, n_paths)\n",
        "\n",
        "        paths[t] = paths[t-1] * np.exp((r - 0.5 * sigma**2 - jump_intensity) * dt + sigma * np.sqrt(dt) * normal_shocks + jump_shocks * jump_sizes)\n",
        "\n",
        "    return paths\n",
        "\n",
        "def european_call_merton(S0, K, r, T, sigma, lamb, muJ, deltaJ, n_paths, n_steps):\n",
        "    paths = merton_jump_paths(S0, r, sigma, T, lamb, muJ, deltaJ, n_paths, n_steps)\n",
        "    # Payoff at maturity for European call option\n",
        "    payoff = np.maximum(paths[-1] - K, 0)\n",
        "    # Discount the payoff to present value\n",
        "    return np.mean(payoff) * np.exp(-r * T)\n",
        "\n",
        "def european_put_merton(S0, K, r, T, sigma, lamb, muJ, deltaJ, n_paths, n_steps):\n",
        "    dt = T / n_steps\n",
        "    discount = np.exp(-r * T)\n",
        "    paths = merton_jump_paths(S0, r, sigma, T, lamb, muJ, deltaJ, n_paths, n_steps)\n",
        "\n",
        "    # Payoff at maturity for a European put\n",
        "    payoff = np.maximum(K - paths[-1], 0)\n",
        "\n",
        "    return np.mean(payoff) * discount\n",
        "\n",
        "\n",
        "\n",
        "european_call_price = european_call_merton(S0, K, r, T, sigma, lamb, muJ, deltaJ, n_paths, n_steps)\n",
        "print(f\"European Call Option Price with jump intensity of 0.75: {european_call_price:.2f}\")\n",
        "\n",
        "european_put_price = european_put_merton(S0, K, r, T, sigma, lamb, muJ, deltaJ, n_paths, n_steps)\n",
        "print(f\"European Put Option Price jump intensity of 0.75: {european_put_price:.2f}\")"
      ],
      "metadata": {
        "colab": {
          "base_uri": "https://localhost:8080/"
        },
        "id": "Pjc_BsCg3_4a",
        "outputId": "be0ac1e6-af31-4f56-f603-8a79e338f739",
        "cellView": "form"
      },
      "execution_count": null,
      "outputs": [
        {
          "output_type": "stream",
          "name": "stdout",
          "text": [
            "European Call Option Price with jump intensity of 0.75: 6.86\n",
            "European Put Option Price jump intensity of 0.75: 5.76\n"
          ]
        }
      ]
    },
    {
      "cell_type": "code",
      "source": [
        "# @title\n",
        "S0 = 80\n",
        "r = 0.055\n",
        "sigma = 0.35\n",
        "T = 3 / 12\n",
        "lamb = 0.75\n",
        "muJ = -0.5\n",
        "deltaJ = 0.22\n",
        "n_paths = 100000\n",
        "n_steps = 100\n",
        "# Define the list of moneyness values\n",
        "moneyness_values = [0.85, 0.90, 0.95, 1.0, 1.05, 1.10, 1.15]\n",
        "\n",
        "# Calculate strikes based on moneyness values\n",
        "strikes = [S0 * m for m in moneyness_values]\n",
        "\n",
        "# Initialize lists to store option prices\n",
        "call_option_prices = []\n",
        "\n",
        "# Calculate option prices for each strike\n",
        "for strike in strikes:\n",
        "    european_call_price = european_call_merton(S0, strike, r, T, sigma, lamb, muJ, deltaJ, n_paths, n_steps)\n",
        "    call_option_prices.append(european_call_price)\n",
        "    print(f\"Strike Price: {strike}, Call Option Price: {european_call_price:.2f}\")\n",
        "for strike in strikes:\n",
        "    european_put_price = european_put_merton(S0, strike, r, T, sigma, lamb, muJ, deltaJ, n_paths, n_steps)\n",
        "    call_option_prices.append(european_put_price)\n",
        "    print(f\"Strike Price: {strike}, Put Option Price: {european_put_price:.2f}\")\n"
      ],
      "metadata": {
        "colab": {
          "base_uri": "https://localhost:8080/"
        },
        "id": "4C7r4Yme3_6-",
        "outputId": "63b2bb8a-62b3-4fec-ad8b-5c6843508640",
        "cellView": "form"
      },
      "execution_count": null,
      "outputs": [
        {
          "output_type": "stream",
          "name": "stdout",
          "text": [
            "Strike Price: 68.0, Call Option Price: 16.36\n",
            "Strike Price: 72.0, Call Option Price: 13.33\n",
            "Strike Price: 76.0, Call Option Price: 10.62\n",
            "Strike Price: 80.0, Call Option Price: 8.29\n",
            "Strike Price: 84.0, Call Option Price: 6.32\n",
            "Strike Price: 88.0, Call Option Price: 4.66\n",
            "Strike Price: 92.0, Call Option Price: 3.36\n",
            "Strike Price: 68.0, Put Option Price: 3.36\n",
            "Strike Price: 72.0, Put Option Price: 4.28\n",
            "Strike Price: 76.0, Put Option Price: 5.68\n",
            "Strike Price: 80.0, Put Option Price: 7.18\n",
            "Strike Price: 84.0, Put Option Price: 9.11\n",
            "Strike Price: 88.0, Put Option Price: 11.47\n",
            "Strike Price: 92.0, Put Option Price: 14.13\n"
          ]
        }
      ]
    },
    {
      "cell_type": "code",
      "source": [
        "# @title\n",
        "from tabulate import tabulate\n",
        "\n",
        "# Prepare your data as a list of lists\n",
        "table_data = [\n",
        "    [\"12\", \"Call\", \"European\", \"Merton Model in combination with jump intensity of 0.75\", \"68\",\"16.29\"],\n",
        "    [\"12\", \"Call\", \"European\", \"Merton Model in combination with jump intensity of 0.75\", \"72\",\"13.40\"],\n",
        "    [\"12\", \"Call\", \"European\", \"Merton Model in combination with jump intensity of 0.75\", \"76\",\"10.63\"],\n",
        "    [\"12\", \"Call\", \"European\", \"Merton Model in combination with jump intensity of 0.75\", \"80\",\"8.24\"],\n",
        "    [\"12\", \"Call\", \"European\", \"Merton Model in combination with jump intensity of 0.75\", \"84\",\"6.33\"],\n",
        "    [\"12\", \"Call\", \"European\", \"Merton Model in combination with jump intensity of 0.75\", \"88\",\"4.69\"],\n",
        "    [\"12\", \"Call\", \"European\", \"Merton Model in combination with jump intensity of 0.75\", \"92\",\"3.38\"],\n",
        "    [\"12\", \"Put\", \"European\", \"Merton Model in combination with jump intensity of 0.75\", \"68\",\"3.40\"],\n",
        "    [\"12\", \"Put\", \"European\", \"Merton Model in combination with jump intensity of 0.75\", \"72\",\"4.36\"],\n",
        "    [\"12\", \"Put\", \"European\", \"Merton Model in combination with jump intensity of 0.75\", \"76\",\"5.56\"],\n",
        "    [\"12\", \"Put\", \"European\", \"Merton Model in combination with jump intensity of 0.75\", \"80\",\"7.22\"],\n",
        "    [\"12\", \"Put\", \"European\", \"Merton Model in combination with jump intensity of 0.75\", \"84\",\"9.14\"],\n",
        "    [\"12\", \"Put\", \"European\", \"Merton Model in combination with jump intensity of 0.75\", \"88\",\"11.55\"],\n",
        "    [\"12\", \"Put\", \"European\", \"Merton Model in combination with jump intensity of 0.75\", \"92\",\"14.17\"],\n",
        "]\n",
        "\n",
        "# Define the title for the table\n",
        "table_title = \"Summary of Results\"\n",
        "\n",
        "# Define the table headers\n",
        "headers = [\"Q #s\", \"Type\", \"Exer\", \"GWP 3 Method\",\"Strikes\" \"Price\"]\n",
        "\n",
        "# Format the table using tabulate\n",
        "table = tabulate(table_data, headers=headers, tablefmt=\"grid\")\n",
        "\n",
        "# Add the title above the table\n",
        "table_with_title = f\"{table_title}\\n\\n{table}\"\n",
        "\n",
        "# Print the formatted table\n",
        "print(table_with_title)"
      ],
      "metadata": {
        "colab": {
          "base_uri": "https://localhost:8080/"
        },
        "id": "dEwPBVf05G8A",
        "outputId": "a21c44ab-35e8-41cb-b0a9-338447c3b32b",
        "cellView": "form"
      },
      "execution_count": null,
      "outputs": [
        {
          "output_type": "stream",
          "name": "stdout",
          "text": [
            "Summary of Results\n",
            "\n",
            "+----+--------+----------+---------------------------------------------------------+----------------+----------------+\n",
            "|    | Q #s   | Type     | Exer                                                    |   GWP 3 Method |   StrikesPrice |\n",
            "+====+========+==========+=========================================================+================+================+\n",
            "| 12 | Call   | European | Merton Model in combination with jump intensity of 0.75 |             68 |          16.29 |\n",
            "+----+--------+----------+---------------------------------------------------------+----------------+----------------+\n",
            "| 12 | Call   | European | Merton Model in combination with jump intensity of 0.75 |             72 |          13.4  |\n",
            "+----+--------+----------+---------------------------------------------------------+----------------+----------------+\n",
            "| 12 | Call   | European | Merton Model in combination with jump intensity of 0.75 |             76 |          10.63 |\n",
            "+----+--------+----------+---------------------------------------------------------+----------------+----------------+\n",
            "| 12 | Call   | European | Merton Model in combination with jump intensity of 0.75 |             80 |           8.24 |\n",
            "+----+--------+----------+---------------------------------------------------------+----------------+----------------+\n",
            "| 12 | Call   | European | Merton Model in combination with jump intensity of 0.75 |             84 |           6.33 |\n",
            "+----+--------+----------+---------------------------------------------------------+----------------+----------------+\n",
            "| 12 | Call   | European | Merton Model in combination with jump intensity of 0.75 |             88 |           4.69 |\n",
            "+----+--------+----------+---------------------------------------------------------+----------------+----------------+\n",
            "| 12 | Call   | European | Merton Model in combination with jump intensity of 0.75 |             92 |           3.38 |\n",
            "+----+--------+----------+---------------------------------------------------------+----------------+----------------+\n",
            "| 12 | Put    | European | Merton Model in combination with jump intensity of 0.75 |             68 |           3.4  |\n",
            "+----+--------+----------+---------------------------------------------------------+----------------+----------------+\n",
            "| 12 | Put    | European | Merton Model in combination with jump intensity of 0.75 |             72 |           4.36 |\n",
            "+----+--------+----------+---------------------------------------------------------+----------------+----------------+\n",
            "| 12 | Put    | European | Merton Model in combination with jump intensity of 0.75 |             76 |           5.56 |\n",
            "+----+--------+----------+---------------------------------------------------------+----------------+----------------+\n",
            "| 12 | Put    | European | Merton Model in combination with jump intensity of 0.75 |             80 |           7.22 |\n",
            "+----+--------+----------+---------------------------------------------------------+----------------+----------------+\n",
            "| 12 | Put    | European | Merton Model in combination with jump intensity of 0.75 |             84 |           9.14 |\n",
            "+----+--------+----------+---------------------------------------------------------+----------------+----------------+\n",
            "| 12 | Put    | European | Merton Model in combination with jump intensity of 0.75 |             88 |          11.55 |\n",
            "+----+--------+----------+---------------------------------------------------------+----------------+----------------+\n",
            "| 12 | Put    | European | Merton Model in combination with jump intensity of 0.75 |             92 |          14.17 |\n",
            "+----+--------+----------+---------------------------------------------------------+----------------+----------------+\n"
          ]
        }
      ]
    },
    {
      "cell_type": "markdown",
      "source": [
        "**Step 2: All team members:**"
      ],
      "metadata": {
        "id": "0QQVyUWWjwUd"
      }
    },
    {
      "cell_type": "markdown",
      "source": [
        "**13. Repeat Questions 5 and 8 for the case of an American call option. Comment on the differences you observe from original Questions 5 and 8.**"
      ],
      "metadata": {
        "id": "Iq1Aqzysk-bK"
      }
    },
    {
      "cell_type": "code",
      "source": [
        "# @title\n",
        "import numpy as np\n",
        "\n",
        "def american_call_option(S, K, r, T, t):\n",
        "    # Initialize the option value at maturity\n",
        "    option_value = np.maximum(0, S[-1, :] - K)\n",
        "\n",
        "    # Time step\n",
        "    dt = T / len(S)\n",
        "\n",
        "    # Perform backward induction\n",
        "    for i in range(len(S) - 2, -1, -1):\n",
        "        # Calculate the present value of option value\n",
        "        option_value = np.exp(-r * dt) * (\n",
        "            option_value  # Continue holding the option\n",
        "        )\n",
        "\n",
        "        # Calculate the intrinsic value (exercise value) of the option\n",
        "        exercise_value = np.maximum(0, S[i, :] - K)\n",
        "\n",
        "        # Update the option value if it's optimal to exercise\n",
        "        option_value = np.maximum(option_value, exercise_value)\n",
        "\n",
        "    # Calculate the average option value across all simulations\n",
        "    option_price = np.mean(option_value)\n",
        "\n",
        "    return option_price\n",
        "\n",
        "# Usage\n",
        "american_call_price = american_call_option(S, 80, 0.055, 3/12, 0)\n",
        "print(\"American Call Price under Heston: \", american_call_price)\n"
      ],
      "metadata": {
        "colab": {
          "base_uri": "https://localhost:8080/"
        },
        "id": "dr1sDo7CtkfD",
        "outputId": "2e63c978-a6c8-43df-b9bc-48be5b4d9849",
        "cellView": "form"
      },
      "execution_count": null,
      "outputs": [
        {
          "output_type": "stream",
          "name": "stdout",
          "text": [
            "American Call Price under Heston:  4.61512675173979\n"
          ]
        }
      ]
    },
    {
      "cell_type": "code",
      "source": [
        "# @title\n",
        "from tabulate import tabulate\n",
        "\n",
        "# Prepare your data as a list of lists\n",
        "table_data = [\n",
        "    [\"5\", \"Call\", \"European\", \"Heston Model in combination with Monte-Carlo simulation with a correlation value of -0.30\", \"2.83\"],\n",
        "    [\"13\", \"Call\", \"American\", \"Heston Model in combination with Monte-Carlo simulation with a correlation value of -0.30\", \"3.62\"]\n",
        "]\n",
        "\n",
        "# Define the title for the table\n",
        "table_title = \"Summary of Results\"\n",
        "\n",
        "# Define the table headers\n",
        "headers = [\"Q #s\", \"Type\", \"Exer\", \"GWP 3 Method\", \"Price\"]\n",
        "\n",
        "# Format the table using tabulate\n",
        "table = tabulate(table_data, headers=headers, tablefmt=\"grid\")\n",
        "\n",
        "# Add the title above the table\n",
        "table_with_title = f\"{table_title}\\n\\n{table}\"\n",
        "\n",
        "# Print the formatted table\n",
        "print(table_with_title)"
      ],
      "metadata": {
        "colab": {
          "base_uri": "https://localhost:8080/"
        },
        "id": "Jl24rMaVvFU5",
        "outputId": "ff94a242-dc83-444c-9061-b5069508ac63",
        "cellView": "form"
      },
      "execution_count": null,
      "outputs": [
        {
          "output_type": "stream",
          "name": "stdout",
          "text": [
            "Summary of Results\n",
            "\n",
            "+--------+--------+----------+-------------------------------------------------------------------------------------------+---------+\n",
            "|   Q #s | Type   | Exer     | GWP 3 Method                                                                              |   Price |\n",
            "+========+========+==========+===========================================================================================+=========+\n",
            "|      5 | Call   | European | Heston Model in combination with Monte-Carlo simulation with a correlation value of -0.30 |    2.83 |\n",
            "+--------+--------+----------+-------------------------------------------------------------------------------------------+---------+\n",
            "|     13 | Call   | American | Heston Model in combination with Monte-Carlo simulation with a correlation value of -0.30 |    3.62 |\n",
            "+--------+--------+----------+-------------------------------------------------------------------------------------------+---------+\n"
          ]
        }
      ]
    },
    {
      "cell_type": "markdown",
      "source": [
        "**Comment on the differences you observe from original Questions 5**\n",
        "\n",
        "To attain an American call option, we need to impelement the early exercise feature of American options. We do this by adding a backward induction loop to check whether it's optimal to exercise the option at each time step before maturity. Therefore, the price of an American call option is generally higher than the price of a European call option for several reasons, especially when using Monte Carlo simulations in the context of the Heston model. This is due to the early exercise option, optimal exercise timing as well as stochastic volatility and path-dependence. As regards early exercise optionality, American call options allow the holder to exercise the option at any time prior to or at expiration, but European options can only be executed at expiration. This is known as early exercise optionality. Because it enables the option holder to profit from positive price changes in the underlying asset, this early exercise provision gives American options an edge over other options. Due to this increased flexibility, American call options typically have higher prices (Marroni & Perdomo, 2014).\n",
        "\n",
        "Additionally, when pricing an American option using simulations in the Heston model, the idea of optimal exercise time underlines the importance of timing at every level of simulation. This entails contrasting the calculated option value with the intrinsic value of the option, which is the difference between the current asset price and the strike price. It is profitable to exercise the American call option if the intrinsic value is greater than the option value. Comparing this feature to European options, which do not have this flexibility, may result in higher option prices (Marroni & Perdomo, 2014).\n",
        "\n",
        "Lastly, on stochastic volatility and path-dependence, the Heston model introduces stochastic volatility, making the option pricing process more dynamic. American options benefit from this path-dependent nature, as the option holder can choose to exercise when volatility conditions are favorable, potentially increasing option values. European options, on the other hand, are path-independent and only depend on the asset price at expiration. The combination of stochastic volatility and path-dependence further contributes to the higher pricing of American call options in the Heston model (Marroni & Perdomo, 2014).\n"
      ],
      "metadata": {
        "id": "lDOtoGOGvF3H"
      }
    },
    {
      "cell_type": "markdown",
      "source": [
        "**For Team member B**\n",
        "\n",
        "**Pricing American all using Mertons model**"
      ],
      "metadata": {
        "id": "t0NiNidAt_wA"
      }
    },
    {
      "cell_type": "code",
      "source": [
        "# @title\n",
        "import numpy as np\n",
        "\n",
        "def merton_jump_paths(S0, r, sigma, T, lamb, muJ, deltaJ, n_paths, n_steps):\n",
        "    dt = T / n_steps\n",
        "    jump_intensity = lamb * (np.exp(muJ + 0.5 * deltaJ**2) - 1)\n",
        "\n",
        "    paths = np.zeros((n_steps + 1, n_paths))\n",
        "    paths[0] = S0\n",
        "\n",
        "    for t in range(1, n_steps + 1):\n",
        "        normal_shocks = np.random.normal(0, 1, n_paths)\n",
        "        jump_shocks = np.random.normal(muJ, deltaJ, n_paths)\n",
        "        jump_sizes = np.random.poisson(lamb * dt, n_paths)\n",
        "\n",
        "        paths[t] = paths[t-1] * np.exp((r - 0.5 * sigma**2 - jump_intensity) * dt + sigma * np.sqrt(dt) * normal_shocks + jump_shocks * jump_sizes)\n",
        "\n",
        "    return paths\n",
        "\n",
        "def american_option_lsm(S0, K, r, T, sigma, lamb, muJ, deltaJ, n_paths, n_steps):\n",
        "    dt = T / n_steps\n",
        "    discount = np.exp(-r * dt)\n",
        "    paths = merton_jump_paths(S0, r, sigma, T, lamb, muJ, deltaJ, n_paths, n_steps)\n",
        "\n",
        "    # Initialize payoffs at maturity\n",
        "    payoff = np.maximum(paths[-1] - K, 0)\n",
        "\n",
        "    for t in range(n_steps - 1, 0, -1):\n",
        "        # Select in-the-money paths\n",
        "        itm = paths[t] > K\n",
        "        X = paths[t, itm]\n",
        "        Y = payoff[itm] * discount\n",
        "\n",
        "        # Using polynomial regression for continuation value estimation\n",
        "        reg = np.polyfit(X, Y, 2)\n",
        "        continuation = np.polyval(reg, X)\n",
        "\n",
        "        # Update the payoff\n",
        "        immediate_exercise = np.maximum(X - K, 0)\n",
        "        payoff[itm] = np.where(immediate_exercise > continuation, immediate_exercise, payoff[itm] * discount)\n",
        "\n",
        "    return np.mean(payoff) * discount\n",
        "\n",
        "\n",
        "S0 = 80\n",
        "K = 80\n",
        "r = 0.055\n",
        "sigma = 0.35\n",
        "T = 3 / 12\n",
        "lamb = 0.75\n",
        "muJ = -0.5\n",
        "deltaJ = 0.22\n",
        "n_paths = 50000\n",
        "n_steps = 100\n",
        "\n",
        "american_call_price = american_option_lsm(S0, K, r, T, sigma, lamb, muJ, deltaJ, n_paths, n_steps)\n",
        "print(f\"American Call Option Price Using mertons model is : {american_call_price:.2f}\")\n",
        "\n"
      ],
      "metadata": {
        "colab": {
          "base_uri": "https://localhost:8080/"
        },
        "id": "T1gs0dIrKawR",
        "outputId": "ceedb3b1-2c15-44db-9e62-376a0214fa27",
        "cellView": "form"
      },
      "execution_count": null,
      "outputs": [
        {
          "output_type": "stream",
          "name": "stdout",
          "text": [
            "American Call Option Price Using mertons model is : 8.36\n"
          ]
        }
      ]
    },
    {
      "cell_type": "markdown",
      "source": [
        "**13) Comment on differences observed from original question 8**\n",
        "\n",
        "- Sensitivity to Jump Parameters: The Merton model introduces jump parameters like the jump intensity (λ), mean (μ), and volatility (δ) of jumps. The value of American options, given their early exercise feature, will be more sensitive to these parameters compared to European options.\n",
        "- Jump Impact on Early Exercise: The potential for large upward jumps (positive skewness) might decrease the incentive to exercise American calls early. If there's a significant chance of an advantageous price jump in the future,\n",
        "-Computational Complexity: From a practical perspective, pricing American options under the Merton model is more computationally intensive due to the necessity to consider optimal stopping times at each time step. This complexity is due to the interaction between the early exercise feature and the jump dynamics, which doesn't exist in the European option scenario."
      ],
      "metadata": {
        "id": "JYF8eyODMBDA"
      }
    },
    {
      "cell_type": "markdown",
      "source": [
        " **14. Using Heston model data from Question 6, price a European up-and-in call option (UAI) with a barrier level of \\$95 and a strike price of \\$95 as well. This UAI option becomes alive only if the stock price reaches (at some point before maturity) the barrier level (even if it ends below it). Compare the price obtained to the one from the simple European call.**"
      ],
      "metadata": {
        "id": "QEkfJW0qlBH6"
      }
    },
    {
      "cell_type": "code",
      "source": [
        "# @title\n",
        "import numpy as np\n",
        "\n",
        "# Heston Model Parameters\n",
        "v0 = 0.032\n",
        "kappa_v = 1.85\n",
        "theta_v = 0.045\n",
        "sigma_v = 0.35\n",
        "rho = -0.70  # Updated correlation value\n",
        "\n",
        "# Option Parameters\n",
        "S0 = 80\n",
        "K = 95  # Strike Price\n",
        "B = 95  # Barrier Level\n",
        "r = 0.055  # Risk-free rate\n",
        "T = 3/12  # Time to maturity (in years)\n",
        "M0 = 50   # Number of time steps in a year\n",
        "M = int(M0 * T)  # Total time steps\n",
        "Ite = 10000  # Number of simulations\n",
        "dt = T / M  # Length of time step\n",
        "\n",
        "# Generate random numbers\n",
        "rand = np.random.standard_normal((2, M + 1, Ite))\n",
        "\n",
        "# Covariance Matrix\n",
        "covariance_matrix = np.array([[1.0, rho], [rho, 1.0]])\n",
        "cho_matrix = np.linalg.cholesky(covariance_matrix)\n",
        "\n",
        "# Function to simulate volatility paths\n",
        "def SDE_vol(v0, kappa, theta, sigma, T, M, Ite, rand, row, cho_matrix):\n",
        "    dt = T / M\n",
        "    v = np.zeros((M + 1, Ite), dtype=np.float)\n",
        "    v[0] = v0\n",
        "    sdt = np.sqrt(dt)\n",
        "    for t in range(1, M + 1):\n",
        "        ran = np.dot(cho_matrix, rand[:, t])\n",
        "        v[t] = np.maximum(\n",
        "            0,\n",
        "            v[t - 1] + kappa * (theta - v[t - 1]) * dt\n",
        "            + np.sqrt(v[t - 1]) * sigma * ran[row] * sdt,\n",
        "        )\n",
        "    return v\n",
        "\n",
        "# Function to simulate stock price paths\n",
        "def Heston_paths(S0, r, v, row, cho_matrix):\n",
        "    S = np.zeros((M + 1, Ite), dtype=float)\n",
        "    S[0] = S0\n",
        "    sdt = np.sqrt(dt)\n",
        "    for t in range(1, M + 1):\n",
        "        ran = np.dot(cho_matrix, rand[:, t])\n",
        "        S[t] = S[t - 1] * np.exp((r - 0.5 * v[t]) * dt + np.sqrt(v[t]) * ran[row] * sdt)\n",
        "    return S\n",
        "\n",
        "# Calculate option prices\n",
        "V = SDE_vol(v0, kappa_v, theta_v, sigma_v, T, M, Ite, rand, 1, cho_matrix)\n",
        "S = Heston_paths(S0, r, V, 0, cho_matrix)\n",
        "\n",
        "# Initialize variables to track UAI call option price\n",
        "uai_call_price = 0\n",
        "\n",
        "# Iterate through simulation paths\n",
        "for i in range(Ite):\n",
        "    barrier_crossed = False  # Flag to check if barrier is crossed\n",
        "\n",
        "    for t in range(1, M + 1):\n",
        "        if S[t, i] >= B:\n",
        "            barrier_crossed = True\n",
        "            break  # Barrier crossed, exit inner loop\n",
        "\n",
        "    if barrier_crossed:\n",
        "        uai_call_price += np.maximum(0, S[-1, i] - K) * np.exp(-r * T)  # Calculate UAI call option price\n",
        "\n",
        "# Calculate the average UAI call option price\n",
        "uai_call_price /= Ite\n",
        "\n",
        "# Print the UAI call option price\n",
        "print(\"European Up-and-In Call Option Price:\", uai_call_price)\n"
      ],
      "metadata": {
        "colab": {
          "base_uri": "https://localhost:8080/"
        },
        "id": "xV2apUY-mWCF",
        "outputId": "0b2f5c4b-ecff-4054-ae1f-b244ff98fe24",
        "cellView": "form"
      },
      "execution_count": null,
      "outputs": [
        {
          "output_type": "stream",
          "name": "stdout",
          "text": [
            "European Up-and-In Call Option Price: 0.00735345336358276\n"
          ]
        },
        {
          "output_type": "stream",
          "name": "stderr",
          "text": [
            "<ipython-input-23-8c6a1f213008>:31: DeprecationWarning: `np.float` is a deprecated alias for the builtin `float`. To silence this warning, use `float` by itself. Doing this will not modify any behavior and is safe. If you specifically wanted the numpy scalar type, use `np.float64` here.\n",
            "Deprecated in NumPy 1.20; for more details and guidance: https://numpy.org/devdocs/release/1.20.0-notes.html#deprecations\n",
            "  v = np.zeros((M + 1, Ite), dtype=np.float)\n"
          ]
        }
      ]
    },
    {
      "cell_type": "code",
      "source": [
        "# @title\n",
        "from tabulate import tabulate\n",
        "\n",
        "# Prepare your data as a list of lists\n",
        "table_data = [\n",
        "    [\"5\", \"Call\", \"European\", \"ATM European Call for a simple Heston Model\", \"2.01\"],\n",
        "    [\"5\", \"Call\", \"American\", \"Up-and-in Call option (UAI) with a barrier level/strike price $95\", \"0.01\"]\n",
        "]\n",
        "\n",
        "# Define the title for the table\n",
        "table_title = \"Summary of Results\"\n",
        "\n",
        "# Define the table headers\n",
        "headers = [\"Q #s\", \"Type\", \"Exer\", \"GWP 3 Method\", \"Price\"]\n",
        "\n",
        "# Format the table using tabulate\n",
        "table = tabulate(table_data, headers=headers, tablefmt=\"grid\")\n",
        "\n",
        "# Add the title above the table\n",
        "table_with_title = f\"{table_title}\\n\\n{table}\"\n",
        "\n",
        "# Print the formatted table\n",
        "print(table_with_title)"
      ],
      "metadata": {
        "colab": {
          "base_uri": "https://localhost:8080/"
        },
        "id": "-lfwVDIPm4UR",
        "outputId": "6fda3bb3-c1fc-497f-b982-05873be12044",
        "cellView": "form"
      },
      "execution_count": null,
      "outputs": [
        {
          "output_type": "stream",
          "name": "stdout",
          "text": [
            "Summary of Results\n",
            "\n",
            "+--------+--------+----------+-------------------------------------------------------------------+---------+\n",
            "|   Q #s | Type   | Exer     | GWP 3 Method                                                      |   Price |\n",
            "+========+========+==========+===================================================================+=========+\n",
            "|      5 | Call   | European | ATM European Call for a simple Heston Model                       |    2.01 |\n",
            "+--------+--------+----------+-------------------------------------------------------------------+---------+\n",
            "|      5 | Call   | American | Up-and-in Call option (UAI) with a barrier level/strike price $95 |    0.01 |\n",
            "+--------+--------+----------+-------------------------------------------------------------------+---------+\n"
          ]
        }
      ]
    },
    {
      "cell_type": "markdown",
      "source": [
        "**Compare the price obtained to the one from\n",
        "the simple European call:**\n",
        "\n",
        "Because the DAI put option requires additional requirements before it becomes active, its price is often lower than the price of a standard ATM European put option. These additional requirements are as follows (Marroni & Perdomo, 2014): (i) it is only activated (becomes alive) if the underlying stock price crosses or touches a predefined barrier level during the option's lifetime. If the stock price remains above the barrier level throughout the option's life, the DAI option expires worthless; (ii) the barrier level is typically set below the initial stock price, which means the stock price must move against the holder's favor to activate the option. These factors make DAI put options less likely to become active and pay out, which lowers their cost in comparison to a simple ATM European put option. The lower price reflects the lower probability of the DAI option being profitable (Marroni & Perdomo, 2014).\n",
        "\n",
        "An ATM European put option, on the other hand, has no barrier requirements and pays out if the stock price is lower than the strike price at expiration. Because it has a larger chance of becoming profitable, it usually has a higher price. The price difference between these two options reflects the risk-reward trade-off associated with barrier options like the DAI put option. Investors are compensated for taking on the additional risk that the option may never become active, even if the stock price declines.\n"
      ],
      "metadata": {
        "id": "k91wDlvym0NR"
      }
    },
    {
      "cell_type": "markdown",
      "source": [],
      "metadata": {
        "id": "sQZDDOW52Sze"
      }
    },
    {
      "cell_type": "markdown",
      "source": [
        "**15. Using Merton model data from Question 8, price a European down-and-in put option (DAI) with a barrier level of \\$65 and a strike price of \\$65 as well. This UAO option becomes alive only if the stock price reaches (at some point before maturity) the barrier level (even if it ends above it). Compare the price obtained to the one from the simple European put.**"
      ],
      "metadata": {
        "id": "YRnVZncJlGSi"
      }
    },
    {
      "cell_type": "code",
      "source": [
        "# @title\n",
        "def european_down_and_in_put_merton(S0, K, r, T, sigma, lamb, muJ, deltaJ, barrier, n_paths, n_steps):\n",
        "    dt = T / n_steps\n",
        "    discount = np.exp(-r * T)\n",
        "    paths = merton_jump_paths(S0, r, sigma, T, lamb, muJ, deltaJ, n_paths, n_steps)\n",
        "\n",
        "    # Initialize an array to store the payoff for DAI option\n",
        "    dai_payoffs = np.zeros(n_paths)\n",
        "\n",
        "    for i in range(n_paths):\n",
        "        hit_barrier = False  # Flag to check if the barrier is hit\n",
        "\n",
        "        for t in range(1, n_steps + 1):\n",
        "            if paths[t, i] <= barrier:\n",
        "                hit_barrier = True\n",
        "                break  # If barrier is hit, no need to continue checking\n",
        "\n",
        "        # Calculate the payoff for DAI option\n",
        "        if hit_barrier:\n",
        "            dai_payoffs[i] = np.maximum(K - paths[-1, i], 0)\n",
        "\n",
        "    return np.mean(dai_payoffs) * discount\n",
        "\n",
        "barrier = 65\n",
        "dai_option_price = european_down_and_in_put_merton(S0, K, r, T, sigma, lamb, muJ, deltaJ, barrier, n_paths, n_steps)\n",
        "print(f\"European Down-and-In Put Option Price with barrier at $65: {dai_option_price:.2f}\")\n"
      ],
      "metadata": {
        "colab": {
          "base_uri": "https://localhost:8080/"
        },
        "id": "fM4F7sWX7VMu",
        "outputId": "981ffbb6-bb45-432b-c881-90bd4b2bf965",
        "cellView": "form"
      },
      "execution_count": null,
      "outputs": [
        {
          "output_type": "stream",
          "name": "stdout",
          "text": [
            "European Down-and-In Put Option Price with barrier at $65: 9.96\n"
          ]
        }
      ]
    },
    {
      "cell_type": "code",
      "source": [
        "# @title\n",
        "S0 = 80\n",
        "K = 65\n",
        "r = 0.055\n",
        "sigma = 0.35\n",
        "T = 3 / 12\n",
        "lamb = 0.75\n",
        "muJ = -0.5\n",
        "deltaJ = 0.22\n",
        "n_paths = 100000\n",
        "n_steps = 100\n",
        "european_put_price = european_put_merton(S0, K, r, T, sigma, lamb, muJ, deltaJ, n_paths, n_steps)\n",
        "print(f\"European Put Option Price with jump intensity of 0.75 at strike $65: {european_put_price:.2f}\")\n"
      ],
      "metadata": {
        "colab": {
          "base_uri": "https://localhost:8080/"
        },
        "id": "euc1qgr-7iJ3",
        "outputId": "f699b9ca-3ba0-4483-957b-c1800bc00389",
        "cellView": "form"
      },
      "execution_count": null,
      "outputs": [
        {
          "output_type": "stream",
          "name": "stdout",
          "text": [
            "European Put Option Price with jump intensity of 0.75 at strike $65: 2.78\n"
          ]
        }
      ]
    },
    {
      "cell_type": "markdown",
      "source": [
        "As we can see, the European Down-and-In Put Option Price with barrier is much larger than  the European Put Option Price with jump intensity of 0.75 at strike $65."
      ],
      "metadata": {
        "id": "7KPsDe0b9lq1"
      }
    },
    {
      "cell_type": "markdown",
      "source": [
        "###REFERENCES\n",
        "Schumacher, J. M. (2020). *Introduction to Financial Derivatives:\n",
        "Modeling, Pricing and Hedging.* Open Press TiU: https://digi-courses.com/openpresstiu-introduction-to-financial-derivatives/\n"
      ],
      "metadata": {
        "id": "1gSKL5LU7ud2"
      }
    },
    {
      "cell_type": "markdown",
      "source": [
        "Marroni L. & I. Perdomo (2014). *Pricing and Hedging Financial Derivatives: A Guide for Practitioners.* Wiley"
      ],
      "metadata": {
        "id": "yu1js2ydNigt"
      }
    }
  ],
  "metadata": {
    "colab": {
      "provenance": [],
      "include_colab_link": true
    },
    "kernelspec": {
      "display_name": "Python 3 (ipykernel)",
      "language": "python",
      "name": "python3"
    },
    "language_info": {
      "codemirror_mode": {
        "name": "ipython",
        "version": 3
      },
      "file_extension": ".py",
      "mimetype": "text/x-python",
      "name": "python",
      "nbconvert_exporter": "python",
      "pygments_lexer": "ipython3",
      "version": "3.9.12"
    }
  },
  "nbformat": 4,
  "nbformat_minor": 0
}