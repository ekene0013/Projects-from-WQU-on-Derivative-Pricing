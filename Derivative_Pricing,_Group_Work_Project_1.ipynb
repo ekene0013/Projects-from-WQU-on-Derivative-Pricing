{
  "cells": [
    {
      "cell_type": "markdown",
      "metadata": {
        "id": "view-in-github",
        "colab_type": "text"
      },
      "source": [
        "<a href=\"https://colab.research.google.com/github/ekene0013/Projects-from-World-Quant-University/blob/main/Derivative_Pricing%2C_Group_Work_Project_1.ipynb\" target=\"_parent\"><img src=\"https://colab.research.google.com/assets/colab-badge.svg\" alt=\"Open In Colab\"/></a>"
      ]
    },
    {
      "cell_type": "markdown",
      "metadata": {
        "id": "4F-8zGoojB-H"
      },
      "source": [
        "# Step 1 – As a group, answer these questions on Put-Call Parity in the context of binomial tree model"
      ]
    },
    {
      "cell_type": "markdown",
      "metadata": {
        "id": "3vnwezvhjB-I"
      },
      "source": [
        "#### 1. Does put-call parity apply for European options? Why or why not?\n",
        "Yes, put-call parity applies to European options. Put-call parity is a concept in options pricing that establishes the association between the costs of European call options and European put options that have the same underlying asset, strike price, and expiration date. This relationship specifies that under certain assumptions, the present value of the underlying asset is equal to the sum of the present values of a European call and put options.\n",
        "\n",
        "Put-call parity is applicable to European options because of a crucial feature of European options known as \"European exercise style.\" In simple terms, this means that European options can only be exercised at the expiration date. In the binomial tree model, the stock price changes over time in a series of discrete steps, such that the option prices are determined at each step.\n",
        "\n",
        "The consistency of the model is ensured by enforcing put-call parity at each node of the binomial tree. You can also price one option knowing the price of the other and vice versa by employing the put-call parity relationship. Additionally, the Black-Scholes model and other continuous-time option pricing models, like those of the Black-Tree model, are approximated by the binomial tree model, a discrete-time model. The model converges to the continuous-time Black-Scholes model as the number of time steps in the binomial tree rises. Since put-call parity is a fundamental relationship that holds true in continuous-time option pricing models, it also holds true as the binomial tree model approaches the continuous-time limit.\n",
        "\n",
        "\n",
        "#### 2. Rewrite put-call parity to solve for the call price in terms of everything else.\n",
        "\n",
        "$C_{0}= -Ke^{-rT}+S_{0}+P_{0}$\n",
        "\n",
        "where:\n",
        "$C_{0}$ = the price of the call as at today;\n",
        "$K$ = strike price;\n",
        "$e$ = is a mathematical constant approximately equal to 2.71828;\n",
        "$r$ = risk-free rate;\n",
        "$T$ = time horizon;\n",
        "$S_{0}$ = initial stock price;\n",
        "$P_{0}$ = the price of put as at today.\n",
        "\n",
        "#### 3. Rewrite put-call parity to solve for the put price in terms of everything else.\n",
        "$P_{0}= Ke^{-rT}-S_{0}+C_{0}$\n",
        "\n",
        "where:\n",
        "$C_{0}$ = the price of the call as at today;\n",
        "$K$ = strike price;\n",
        "$e$ = is a mathematical constant approximately equal to 2.71828;\n",
        "$r$ = risk-free rate;\n",
        "$T$ = time horizon;\n",
        "$S_{0}$ = initial stock price;\n",
        "$P_{0}$ = the price of put as at today.\n",
        "\n",
        "#### 4. Does put-call parity apply for American options? Why or why not?\n",
        "Due to American options' ability to exercise early, put-call parity does not perfectly apply to them. American options can be exercised at any time before or at expiration, in contrast to European options, which can only be exercised at expiration. In certain cases, the put-call parity relationship may still hold for American options, especially when the options are far from expiration and there are no dividends or interest rate changes. However, the early exercise feature in the American options makes things more complicated, and put-call parity is actually more frequently employed with European options in practice."
      ]
    },
    {
      "cell_type": "markdown",
      "metadata": {
        "id": "PFvD_Z-yjB-N"
      },
      "source": [
        "### Team Member A will work with European calls and puts using a binomial tree:\n",
        "\n",
        "#### 5. Price an ATM European call and put using a binomial tree:\n",
        "\n",
        " (a) **Choose the number of steps in the tree you see convenient to achieve reliable estimates**\n",
        "\n",
        "I choose the number of steps in the tree as 100 because it helps to strike a healthy balance between accuracy and computational efficiency. With that, we find that the call is priced at 4.16 US dollars, while the put is priced at 3.75 US dollars."
      ]
    },
    {
      "cell_type": "markdown",
      "metadata": {
        "id": "pmi3zMoELxya"
      },
      "source": [
        "5(b) **Briefly describe the overall process, as well as a reason why you choose that number of steps in the tree**\n",
        "\n",
        "1. We start by defining the parameters:\n",
        "Initial stock price, (S0) = $100, Risk-free rate (r) = 5% (0.05 as a decimal), Volatility (σ) = 20% (0.20 as a decimal), Time horizon (T) = 3 months (in years=3/12), Number of time steps (N) = 100 (I choose 100).\n",
        "2. Calculate the upward and downward movements: The up factor (u) represents the stock price's upward movement, and the down factor (d) represents the downward movement.\n",
        "3. Then we calculate risk-neutral probability (p). The risk-neutral probability (p) represents the probability of an upward movement in the stock price under the risk-neutral measure.\n",
        "4. Step 3 is followed by setting up the binomial tree as well as calculation of stock prices at each node: We start by initializing the tree with the initial stock price at time t=0. Then, calculate the stock prices at each subsequent time step using the up and down factors. At each node, the stock price can move either up to Su or down to Sd, where Su = S * u and Sd = S * d.\n",
        "5. We calculate the option values at each final node (t = T): For the European call option, the value at the final node is the maximum of (Su - X) or 0, where X is the strike price.  For the European put option, the value at the final node is the maximum of (X - Su) or 0.\n",
        "6. Backward induction: Starting from the final node (t = T), we calculate the option values at each node going backward in time where Δt is the time interval between each step, i.e., Δt = T / N. The value at the initial node (t = 0) is the desired option price.\n",
        "\n",
        "The reason I choose 100 steps is because it is an optimal number of steps that allows for high enough prices while maintaining computational efficiency. This is because increased precision would come at the expense of greater processing complexity, which may not be required in this particular case. The call is priced at 4.16 US dollars, while the put is priced at 3.75 US dollars. Furthermore, the choice of a higher but yet manageable number of steps like 100 helps the binomial model’s result to converge towards a continuous Black-Scholes model, which helps to accurately capture option behavior, especially complex option, or option with very short expiration (Schumacher, 2020).\n"
      ]
    },
    {
      "cell_type": "code",
      "execution_count": null,
      "metadata": {
        "id": "8eD-2fBZLxyY",
        "outputId": "59016065-aab3-4457-91ba-e102c8f04eff",
        "colab": {
          "base_uri": "https://localhost:8080/"
        }
      },
      "outputs": [
        {
          "output_type": "stream",
          "name": "stdout",
          "text": [
            "Monte Carlo European Call Option Price: 4.1758582822378525\n",
            "Monte Carlo European Put Option Price: 3.7510730937299943\n"
          ]
        }
      ],
      "source": [
        "# @title\n",
        "import math\n",
        "import numpy as np\n",
        "\n",
        "# Given parameters\n",
        "S0 = 100\n",
        "r = 0.05\n",
        "volatility = 0.20\n",
        "T = 3 / 12  # 3 months converted to years\n",
        "N = 100\n",
        "M = 10000  # Number of Monte Carlo simulations\n",
        "\n",
        "# Generate random price movements\n",
        "np.random.seed(42)\n",
        "rand_numbers = np.random.normal(size=(M, N))\n",
        "\n",
        "# Step 2: Calculate up and down factors\n",
        "u = math.exp(volatility * math.sqrt(T / N))\n",
        "d = 1 / u\n",
        "\n",
        "# Initialize option value arrays\n",
        "call_values = np.zeros((M, N + 1))\n",
        "put_values = np.zeros((M, N + 1))\n",
        "\n",
        "# Step 4: Calculate option values at each node for each simulation\n",
        "for i in range(M):\n",
        "    stock_prices = [S0]\n",
        "    for j in range(N):\n",
        "        if rand_numbers[i, j] > 0:\n",
        "            stock_prices.append(stock_prices[-1] * u)\n",
        "        else:\n",
        "            stock_prices.append(stock_prices[-1] * d)\n",
        "\n",
        "    for j in range(N + 1):\n",
        "        call_values[i, j] = max(0, stock_prices[j] - S0)\n",
        "        put_values[i, j] = max(0, S0 - stock_prices[j])\n",
        "\n",
        "# Step 5: Calculate option values at the final node (t = T) for each simulation\n",
        "call_payoffs = call_values[:, -1]\n",
        "put_payoffs = put_values[:, -1]\n",
        "\n",
        "# Step 6: Calculate discounted expected payoffs\n",
        "call_option_price = np.exp(-r * T) * np.mean(call_payoffs)\n",
        "put_option_price = np.exp(-r * T) * np.mean(put_payoffs)\n",
        "\n",
        "print(\"Monte Carlo European Call Option Price:\", call_option_price)\n",
        "print(\"Monte Carlo European Put Option Price:\", put_option_price)\n"
      ]
    },
    {
      "cell_type": "markdown",
      "metadata": {
        "id": "M4HPE5RDLxya"
      },
      "source": [
        "#### 6. Compute the Greek Delta for the European call and European put at time 0:\n",
        "\n",
        "We find that the Greek Delta for the European call and European put at time 0 is 0.9796 and -0.0079 respectively."
      ]
    },
    {
      "cell_type": "code",
      "execution_count": null,
      "metadata": {
        "id": "XZibguqALxya",
        "outputId": "aae9b284-ff8f-44ac-bdc3-bac2ab6b0cdf",
        "colab": {
          "base_uri": "https://localhost:8080/"
        }
      },
      "outputs": [
        {
          "output_type": "stream",
          "name": "stdout",
          "text": [
            "Delta (Call): 0.9796233315050591\n",
            "Delta (Put): -0.00795446898882234\n"
          ]
        }
      ],
      "source": [
        "# @title\n",
        "import math\n",
        "from scipy.stats import norm\n",
        "\n",
        "# Given parameters\n",
        "S0 = 100  # Initial underlying asset price\n",
        "K = 80  # Strike price\n",
        "r = 0.05  # Risk-free rate\n",
        "sigma = 0.20  # Volatility\n",
        "T = 3/12  # Time horizon in years\n",
        "\n",
        "# Calculate d1 for both call and put options\n",
        "d1 = (math.log(S0 / K) + (r + 0.5 * sigma**2) * T) / (sigma * math.sqrt(T))\n",
        "\n",
        "# Calculate Delta for call and put options\n",
        "delta_call = math.exp(-r * T) * norm.cdf(d1)\n",
        "delta_put = math.exp(-r * T) * (norm.cdf(d1) - 1)\n",
        "\n",
        "# Print the calculated Delta values\n",
        "print(f\"Delta (Call): {delta_call}\")\n",
        "print(f\"Delta (Put): {delta_put}\")"
      ]
    },
    {
      "cell_type": "markdown",
      "metadata": {
        "id": "0sFQucxRLxya"
      },
      "source": [
        "6(a) **How do they compare?**\n",
        "\n",
        "1.   List item\n",
        "2.   List item\n",
        "\n",
        "\n"
      ]
    },
    {
      "cell_type": "markdown",
      "metadata": {
        "id": "sYTu4DJRLxyb"
      },
      "source": [
        "The Greek delta of the European Call Option (0.9796 US dollars) is quite near to 1. We find that the price of the call option will rise by around 0.9796 US dollars for every dollar increase in the price of the underlying asset.. The call option behaves in a manner similar to owning the underlying asset itself, with the potential for significant gains if the asset price rises.\n",
        "The Greek delta of the European Put Option (-0.00795 US dollars) is very close to zero. Here, we find that the price of the put option will drop by a very little amount, or around 0.00795 US dollars, for every dollar increase in the price of the underlying asset. The put option's value does not vary significantly in response to changes in the asset price, indicating that it is probably out-of-the-money and that there is little chance of profit..\n",
        "In comparison, the call option has a substantially greater Delta, indicating strong sensitivity to changes in the price of the underlying asset. You may think of it as a leveraged method of getting exposed to prospective price hikes.\n"
      ]
    },
    {
      "cell_type": "markdown",
      "metadata": {
        "id": "83cYaxv6Lxyb"
      },
      "source": [
        "(b) **Comment briefly on the differences and signs of Delta for both options. What does delta proxy for? Why does it make sense to obtain a positive/negative delta for each option?**\n",
        "\n",
        "The Delta for the European call option is positive and suggests that for every dollar increase in the underlying asset price, the call option's value is expected to increase by about 0.9796 US dollars. This result is consistent with call options' propensity to gain value as the price of the underlying asset rises. The call option here responds like a leveraged position on the underlying asset, due to the significant positive value of the call option.\n",
        "The Delta for the European put option is negative and its value is expected to decline by very little or around 0.00795 US dollars, for dollar increase in the underlying asset price. The put option's likelihood of being out-of-the-money and its potential for gains as a result of changes in the price of the underlying asset are both indicated by the near-zero Delta. A negative Delta for puts is also consistent with the fact that put options tend to increase in value as the underlying asset price decreases, but in this case, the effect is quite small.\n",
        "Delta proxies for the sensitivity of an option's price to changes in the underlying asset's price. In other words, it shows how much the price of the option is anticipated to vary in response to a slight change in the value of the underlying asset. The directional exposure an option has to the underlying asset is measured by its delta.\n",
        "It makes sense to obtain a positive or negative Delta for each option since it corresponds with how those options behave and serve in various trading and investment methods. The directional exposure of the options to changes in the price of the underlying asset is reflected by call options' positive delta and put options' negative delta. This alignment is consistent with how options are frequently utilized to convey bullish or bearish market opinions. Further details are given as follows:\n",
        "\n",
        "(i)\tCall Options (Positive Delta): Call options with a positive delta are those whose value is anticipated to rise along with the price of the underlying asset. This makes sense for investors that anticipate an increase in the asset's value and wish to make money from it.\n",
        "\n",
        "(ii)\tPut Options (Negative Delta): Put options with a negative delta are those whose value is anticipated to rise when the price of the underlying asset decreases. This is helpful for investors trying to protect themselves from future price decreases for the asset.  \n"
      ]
    },
    {
      "cell_type": "markdown",
      "metadata": {
        "id": "uosEW29eLxyb"
      },
      "source": [
        "#### 7. Delta measures one sensitivity of the option price. But there are other important sensitivities we will look at throughout the course. An important one is the sensitivity of the option price to the underlying volatility (vega):\n",
        "\n",
        " (a) **Compute the sensitivity of previous put and call option prices to a 5% increase in volatility (from 20% to 25%). How do prices change with respect to the change in volatility?**\n",
        "\n",
        "A 5% increase in volatility (from 20% to 25%) causes the price of the European Call option price to increase from 4.18 to 5.31. Similarly, a 5% increase in volatility (from 20% to 25%) causes the price of the European Call option price to increase from 3.75 to 4.62."
      ]
    },
    {
      "cell_type": "code",
      "execution_count": null,
      "metadata": {
        "id": "A6Vu1uJfLxyb",
        "outputId": "4f3f53b7-977e-4842-fb71-6c1d5c7261ab",
        "colab": {
          "base_uri": "https://localhost:8080/"
        },
        "cellView": "form"
      },
      "outputs": [
        {
          "output_type": "stream",
          "name": "stdout",
          "text": [
            "Original European Call Option Price: 4.1758582822378525\n",
            "New European Call Option Price (with 5% increase in volatility): 5.307894115336214\n",
            "\n",
            "Original European Put Option Price: 3.7510730937299943\n",
            "New European Put Option Price (with 5% increase in volatility): 4.618723695283782\n"
          ]
        }
      ],
      "source": [
        "# @title\n",
        "import math\n",
        "import numpy as np\n",
        "\n",
        "# Given parameters\n",
        "S0 = 100\n",
        "r = 0.05\n",
        "volatility = 0.20\n",
        "T = 3 / 12  # 3 months converted to years\n",
        "N = 100\n",
        "M = 10000  # Number of Monte Carlo simulations\n",
        "\n",
        "# Generate random price movements\n",
        "np.random.seed(42)\n",
        "rand_numbers = np.random.normal(size=(M, N))\n",
        "\n",
        "# Step 2: Calculate up and down factors\n",
        "u = math.exp(volatility * math.sqrt(T / N))\n",
        "d = 1 / u\n",
        "\n",
        "# Initialize option value arrays\n",
        "call_values = np.zeros((M, N + 1))\n",
        "put_values = np.zeros((M, N + 1))\n",
        "\n",
        "# Step 4: Calculate option values at each node for each simulation\n",
        "for i in range(M):\n",
        "    stock_prices = [S0]\n",
        "    for j in range(N):\n",
        "        if rand_numbers[i, j] > 0:\n",
        "            stock_prices.append(stock_prices[-1] * u)\n",
        "        else:\n",
        "            stock_prices.append(stock_prices[-1] * d)\n",
        "\n",
        "    for j in range(N + 1):\n",
        "        call_values[i, j] = max(0, stock_prices[j] - S0)\n",
        "        put_values[i, j] = max(0, S0 - stock_prices[j])\n",
        "\n",
        "# Step 5: Calculate option values at the final node (t = T) for each simulation\n",
        "call_payoffs = call_values[:, -1]\n",
        "put_payoffs = put_values[:, -1]\n",
        "\n",
        "# Step 6: Calculate discounted expected payoffs\n",
        "call_option_price = np.exp(-r * T) * np.mean(call_payoffs)\n",
        "put_option_price = np.exp(-r * T) * np.mean(put_payoffs)\n",
        "\n",
        "# Calculate Vega (sensitivity to 1% change in volatility)\n",
        "vega_call = np.mean(call_payoffs * (-stock_prices[-1]) * np.sqrt(T) * np.exp(-r * T))\n",
        "vega_put = np.mean(put_payoffs * (-stock_prices[-1]) * np.sqrt(T) * np.exp(-r * T))\n",
        "\n",
        "# Calculate the impact of a 5% increase in volatility on option prices\n",
        "increase_in_volatility = 0.05\n",
        "new_volatility = volatility + increase_in_volatility\n",
        "\n",
        "# Recalculate option prices with the increased volatility\n",
        "u_new = math.exp(new_volatility * math.sqrt(T / N))\n",
        "d_new = 1 / u_new\n",
        "\n",
        "call_values_new = np.zeros((M, N + 1))\n",
        "put_values_new = np.zeros((M, N + 1))\n",
        "\n",
        "for i in range(M):\n",
        "    stock_prices_new = [S0]\n",
        "    for j in range(N):\n",
        "        if rand_numbers[i, j] > 0:\n",
        "            stock_prices_new.append(stock_prices_new[-1] * u_new)\n",
        "        else:\n",
        "            stock_prices_new.append(stock_prices_new[-1] * d_new)\n",
        "\n",
        "    for j in range(N + 1):\n",
        "        call_values_new[i, j] = max(0, stock_prices_new[j] - S0)\n",
        "        put_values_new[i, j] = max(0, S0 - stock_prices_new[j])\n",
        "\n",
        "call_payoffs_new = call_values_new[:, -1]\n",
        "put_payoffs_new = put_values_new[:, -1]\n",
        "\n",
        "call_option_price_new = np.exp(-r * T) * np.mean(call_payoffs_new)\n",
        "put_option_price_new = np.exp(-r * T) * np.mean(put_payoffs_new)\n",
        "\n",
        "# Calculate the impact of the 5% increase in volatility on option prices\n",
        "price_change_call = vega_call * increase_in_volatility * 100  # Vega * 5 (for 5% increase)\n",
        "price_change_put = vega_put * increase_in_volatility * 100    # Vega * 5 (for 5% increase)\n",
        "\n",
        "print(\"Original European Call Option Price:\", call_option_price)\n",
        "print(\"New European Call Option Price (with 5% increase in volatility):\", call_option_price_new)\n",
        "\n",
        "\n",
        "print(\"\\nOriginal European Put Option Price:\", put_option_price)\n",
        "print(\"New European Put Option Price (with 5% increase in volatility):\", put_option_price_new)\n"
      ]
    },
    {
      "cell_type": "markdown",
      "metadata": {
        "id": "pvavFRL-Lxyc"
      },
      "source": [
        "7(b) **Comment on the potential differential impact of this change for call and put options.**\n",
        "\n",
        "(i) Call Options: Because call options have a positive Vega, their values often rise when volatility does too. The likelihood of more significant price changes in the underlying asset increases as volatility grows. As a result, a call option's value tends to rise since it gains from price increases. This is due to the fact that more volatility raises the likelihood that the underlying asset will cross the strike price, increasing the likelihood that the option will be in the money. As a result, the price of a call option would probably increase by a greater proportion than its initial price with a 5% increase in volatility. This is due to the positive Vega value.\n",
        "\n",
        "\n",
        "(ii) Put Options: Put options have a positive Vega, indicating that their values often rise when volatility does. Similar to call options, the possibility for higher price changes in the underlying asset grows as volatility rises. But unlike call options, the value of a put option increases when prices decline, so it is typically less sensitive to swings in volatility. This is due to the fact that more volatility, which is advantageous for put options, also raises the likelihood that the underlying asset would decline below the strike price. In contrast to call options, the price of a put option would probably increase by a smaller proportion than its initial price with a 5% increase in volatility. This is due to the fact that put options are more responsive to downward price movements, and their price increase due to higher volatility might be moderated.\n"
      ]
    },
    {
      "cell_type": "markdown",
      "source": [
        " ### Team Memeber B on American Options\n"
      ],
      "metadata": {
        "id": "Y-vlezZcygAV"
      }
    },
    {
      "cell_type": "markdown",
      "source": [
        "#### 8.Price an ATM American call and put using a binomial tree:\n",
        "\n",
        "a. let's choose n=50 steps. Generally, as the number of steps increases, the binomial model price converges to the Black-Scholes model price. However, An issue with just increasing the steps is computation also becomes more intensive. Hence n = 50 is a good middle ground.\n",
        "\n",
        "b. In terms of the process:\n",
        "  -  We first set up the parameters.\n",
        "  - We then calculate the up (u) and down (d) multipliers using the given volatility and time per step.\n",
        "  - The probability q for the up move is computed using u, d, and the risk-free rate.\n",
        "  - A binomial tree of stock prices is constructed. At the end of the tree (maturity), the option payoffs are calculated for both call and put options.\n",
        "  - We then recursively calculate the option prices moving backwards through the tree, considering the option to exercise early for the American options.\n"
      ],
      "metadata": {
        "id": "OQsia5oM3WTw"
      }
    },
    {
      "cell_type": "code",
      "source": [
        "# @title\n",
        "\n",
        "import numpy as np\n",
        "import math\n",
        "\n",
        "# Given parameters\n",
        "S_0 = 100\n",
        "r = 0.05\n",
        "σ = 0.20\n",
        "T = 0.25\n",
        "steps = 50\n",
        "Δt = T/steps\n",
        "u = math.exp(σ * math.sqrt(Δt))\n",
        "d = 1/u\n",
        "discount = math.exp(-r * Δt)\n",
        "\n",
        "# Generate binomial stock price tree\n",
        "stock_tree = np.zeros((steps + 1, steps + 1))\n",
        "for j in range(steps+1):\n",
        "    for i in range(j+1):\n",
        "        stock_tree[i, j] = S_0 * (u ** i) * (d ** (j - i))\n",
        "\n",
        "# Initialize option values tree for both call and put\n",
        "call_tree = np.zeros((steps + 1, steps + 1))\n",
        "put_tree = np.zeros((steps + 1, steps + 1))\n",
        "\n",
        "# Compute option values at terminal nodes (European-style)\n",
        "for i in range(steps + 1):\n",
        "    call_tree[i, steps] = max(0, stock_tree[i, steps] - S_0)\n",
        "    put_tree[i, steps] = max(0, S_0 - stock_tree[i, steps])\n",
        "\n",
        "for j in range(steps-1, -1, -1):\n",
        "    for i in range(j+1):\n",
        "        call_tree[i, j] = max(stock_tree[i, j] - S_0,\n",
        "                              discount * (0.5 * call_tree[i, j+1] + 0.5 * call_tree[i+1, j+1]))\n",
        "        put_tree[i, j] = max(S_0 - stock_tree[i, j],\n",
        "                             discount * (0.5 * put_tree[i, j+1] + 0.5 * put_tree[i+1, j+1]))\n",
        "\n",
        "print(f\"American ATM Call Option Price: {call_tree[0, 0]:.2f}\")\n",
        "print(f\"American ATM Put Option Price: {put_tree[0, 0]:.2f}\")\n",
        "\n"
      ],
      "metadata": {
        "colab": {
          "base_uri": "https://localhost:8080/"
        },
        "id": "Z5CsR25_0aQx",
        "outputId": "c50f20af-81fb-4160-f1cb-e7f338fc5eaf",
        "cellView": "form"
      },
      "execution_count": null,
      "outputs": [
        {
          "output_type": "stream",
          "name": "stdout",
          "text": [
            "American ATM Call Option Price: 4.18\n",
            "American ATM Put Option Price: 3.73\n"
          ]
        }
      ]
    },
    {
      "cell_type": "markdown",
      "source": [
        "#### 9.Calculating the greeks\n",
        "Using the previous binomial tree model, we can compute Δ at time 0 using the option prices at the first up-move and the initial option prices."
      ],
      "metadata": {
        "id": "3wtGqZyn2P-_"
      }
    },
    {
      "cell_type": "code",
      "source": [
        "# @title\n",
        "# Compute Deltas\n",
        "delta_call = (call_tree[1, 1] - call_tree[0, 1]) / (stock_tree[1, 1] - stock_tree[0, 1])\n",
        "delta_put = (put_tree[1, 1] - put_tree[0, 1]) / (stock_tree[1, 1] - stock_tree[0, 1])\n",
        "\n",
        "print(f\"Delta for the American ATM Call Option: {delta_call:.4f}\")\n",
        "print(f\"Delta for the American ATM Put Option: {delta_put:.4f}\")\n",
        "\n"
      ],
      "metadata": {
        "colab": {
          "base_uri": "https://localhost:8080/"
        },
        "id": "gHVZjZBt3qIP",
        "outputId": "4c3f1b37-d1b2-4851-fae3-f362cc34133d",
        "cellView": "form"
      },
      "execution_count": null,
      "outputs": [
        {
          "output_type": "stream",
          "name": "stdout",
          "text": [
            "Delta for the American ATM Call Option: 0.5357\n",
            "Delta for the American ATM Put Option: -0.4647\n"
          ]
        }
      ]
    },
    {
      "cell_type": "markdown",
      "source": [
        "Commentary:\n",
        "\n",
        "1. How do they compare?\n",
        "Delta for the call option will be positive and less than 1. Delta for the put option will be negative and greater than -1.\n",
        "\n",
        "2. Comment briefly on the differences and signs of Delta for both options.\n",
        "Delta for Call Option: The Delta of a call option will always be between 0 and 1. This means for every unit increase in the stock price, the call option price will increase by its Delta. Since the American call option gives the holder the right (but not the obligation) to buy the underlying stock, as the stock price rises, the call option becomes more valuable.\n",
        "Delta for Put Option: The Delta of a put option will always be between -1 and 0. This indicates that for every unit increase in the stock price, the put option price will decrease by its absolute Delta value. Since the American put option gives the holder the right to sell the stock, as the stock price rises, the put option becomes less valuable (since one could sell the stock at a higher market price).\n",
        "What does delta proxy for?\n",
        "Delta represents the sensitivity of the option's price to a change in the price of the underlying asset. It's essentially a measure of the option's exposure to the movement in the underlying asset.\n",
        "\n",
        "3. Why does it make sense to obtain a positive/negative delta for each option?\n",
        "For a call option, a positive delta makes sense because as the stock price rises, the value of the call option (right to buy) also increases. You would benefit from an increase in the stock's price.\n",
        "For a put option, a negative delta is logical because as the stock price rises, the value of the put option (right to sell) decreases. If the stock's price is high, the value of having an option to sell it at a lower price diminishes.\n",
        "This relationship between option values and stock price movements is fundamental to understanding the hedging and risk management capabilities of options."
      ],
      "metadata": {
        "id": "EexSNb3R3uMr"
      }
    },
    {
      "cell_type": "markdown",
      "source": [
        "#### 10.Option sensitivity\n",
        "\n",
        "To compute the sensitivity of the option prices to a change in volatility, we do the following\n",
        "\n",
        "- Price the options using the original volatility (σ=20%).\n",
        "- Price the options again using the increased volatility (σ=25%).\n",
        "- Compute the difference in the option prices from the two volatilities to determine the sensitivity."
      ],
      "metadata": {
        "id": "aH011Tqm5hEs"
      }
    },
    {
      "cell_type": "code",
      "source": [
        "# @title\n",
        "from math import exp, sqrt\n",
        "\n",
        "σ_new = 0.25\n",
        "u_new = math.exp(σ_new * math.sqrt(Δt))\n",
        "d_new = 1/u_new\n",
        "\n",
        "\n",
        "stock_tree_new = np.zeros((steps + 1, steps + 1))\n",
        "for j in range(steps+1):\n",
        "    for i in range(j+1):\n",
        "        stock_tree_new[i, j] = S_0 * (u_new ** i) * (d_new ** (j - i))\n",
        "\n",
        "\n",
        "call_tree_new = np.zeros((steps + 1, steps + 1))\n",
        "put_tree_new = np.zeros((steps + 1, steps + 1))\n",
        "for i in range(steps + 1):\n",
        "    call_tree_new[i, steps] = max(0, stock_tree_new[i, steps] - S_0)\n",
        "    put_tree_new[i, steps] = max(0, S_0 - stock_tree_new[i, steps])\n",
        "\n",
        "for j in range(steps-1, -1, -1):\n",
        "    for i in range(j+1):\n",
        "        call_tree_new[i, j] = max(stock_tree_new[i, j] - S_0,\n",
        "                                  discount * (0.5 * call_tree_new[i, j+1] + 0.5 * call_tree_new[i+1, j+1]))\n",
        "        put_tree_new[i, j] = max(S_0 - stock_tree_new[i, j],\n",
        "                                 discount * (0.5 * put_tree_new[i, j+1] + 0.5 * put_tree_new[i+1, j+1]))\n",
        "\n",
        "\n",
        "vega_call = (call_tree_new[0, 0] - call_tree[0, 0]) / 0.05\n",
        "vega_put = (put_tree_new[0, 0] - put_tree[0, 0]) / 0.05\n",
        "\n",
        "print(f\"Sensitivity of American ATM Call Option Price to 5% increase in volatility: {vega_call:.2f}\")\n",
        "print(f\"Sensitivity of American ATM Put Option Price to 5% increase in volatility: {vega_put:.2f}\")\n",
        "\n"
      ],
      "metadata": {
        "colab": {
          "base_uri": "https://localhost:8080/"
        },
        "id": "jDQp_Iyc6Zcc",
        "outputId": "200c54f5-fff5-4d4b-d197-a6ff13cb2dbc",
        "cellView": "form"
      },
      "execution_count": null,
      "outputs": [
        {
          "output_type": "stream",
          "name": "stdout",
          "text": [
            "Sensitivity of American ATM Call Option Price to 5% increase in volatility: 22.65\n",
            "Sensitivity of American ATM Put Option Price to 5% increase in volatility: 17.55\n"
          ]
        }
      ]
    },
    {
      "cell_type": "markdown",
      "source": [
        "1. How do prices change with respect to the change in volatility?\n",
        "The computed values will tell you by how much the option prices change for a 5% increase in volatility.\n",
        "\n",
        "2. Comment on the potential differential impact of this change for call and put options.\n",
        "Both call and put option prices generally increase with volatility. Higher volatility means higher potential price swings in the underlying asset, which makes both the call and put options more valuable due to the increased chance of them ending up in-the-money.\n",
        "Vega is typically positive for both calls and puts, meaning that both option types benefit from an increase in volatility. This is because the more volatile the stock, the higher the probability that it could make a large move either upward or downward.\n",
        "Although both option types benefit from increased volatility, the exact magnitude of the increase might be different for calls and puts. This difference can be influenced by factors such as the moneyness of the options, the time to expiration, and interest rates."
      ],
      "metadata": {
        "id": "XJydNVeF8mnW"
      }
    },
    {
      "cell_type": "markdown",
      "source": [
        "###Team Member C will produce graphs and confirmations:"
      ],
      "metadata": {
        "id": "R5pAPCbyK2S_"
      }
    },
    {
      "cell_type": "markdown",
      "source": [
        "11. If the team answered Q1 as “Yes” (i.e. that put-call parity holds), then show that the European call and put satisfy put-call parity. Comment on the reasons why/why not the parity holds, as well as potential motives."
      ],
      "metadata": {
        "id": "_lwJ9z9CK8zf"
      }
    },
    {
      "cell_type": "markdown",
      "source": [
        "the put-call parity is $C_{0}= -Ke^{-rT}+S_{0}+P_{0}$,\n",
        "As we can see\n",
        " $C_{0}= 4.61,-Ke^{-rT} = -98.76,S_{0} = 100,P_{0}$= 3.37.\n",
        "So that $C_{0}=-Ke^{-rT}+S_{0}+P_{0}$\n",
        "\n"
      ],
      "metadata": {
        "id": "6Lm_S90LNZE7"
      }
    },
    {
      "cell_type": "markdown",
      "source": [
        "If the Put-Call Parity is temporarily violated due to market inefficiencies or mispricings, sophisticated traders can exploit these opportunities for arbitrage profits by creating riskless positions. it's the potential motives hat the European call and put satisfy put-call parity."
      ],
      "metadata": {
        "id": "5uRwXTdfRqV9"
      }
    },
    {
      "cell_type": "markdown",
      "source": [
        "12. If the team answered Q4 as “Yes” (i.e. that put-call parity holds), then show that the American call and put satisfy put-call parity. Comment on the reasons why/why not the parity holds, as well as potential motives."
      ],
      "metadata": {
        "id": "eermmANCK8_3"
      }
    },
    {
      "cell_type": "markdown",
      "source": [
        " the put-call parity is $C_{0}= -Ke^{-rT}+S_{0}+P_{0}$,\n",
        "As we can see\n",
        " $C_{0}= 4.61,-Ke^{-rT} = -98.76,S_{0} = 100,P_{0}$= 3.47.\n",
        "So that $C_{0} \\neq -Ke^{-rT}+S_{0}+P_{0}$\n",
        "\n"
      ],
      "metadata": {
        "id": "e8b47gqzR6sQ"
      }
    },
    {
      "cell_type": "markdown",
      "source": [
        "American options are influenced by factors such as dividends and interest rates. Dividends paid on the underlying asset can affect early exercise decisions, especially for American call options. These factors can create deviations from the simple Put-Call Parity formula. If a stock is about to pay dividends, an arbitrageur might buy the stock, exercise an American put option, and receive the strike price before the dividend is paid. This effectively allows capturing the dividend."
      ],
      "metadata": {
        "id": "Opwca8pjTFu_"
      }
    },
    {
      "cell_type": "markdown",
      "source": [
        "13. Confirm that the European call is less than or equal to the American call. Show the difference if any and comment on the reasons for this difference, would this always be the case?\n"
      ],
      "metadata": {
        "id": "qhQP1JBZK9EE"
      }
    },
    {
      "cell_type": "markdown",
      "source": [
        "the European call is  equal to the American call, they are all 4.61.Ihis is not always the case.the value of the optionality to exercise early in an American call option can lead to the European call option price being lower than or equal to the American call option price."
      ],
      "metadata": {
        "id": "-QXHQsAzFP1Y"
      }
    },
    {
      "cell_type": "markdown",
      "source": [
        "14. Confirm that the European put is less than or equal to the American put. Show the difference if any and comment on the reasons for this difference. For example, would this always be the case?"
      ],
      "metadata": {
        "id": "nExpwynxK9Gn"
      }
    },
    {
      "cell_type": "markdown",
      "source": [
        " the European put is 3.37 and the American put is 3.47, so the the European put is less than or equal to the American put.the European put option price is generally lower or equal to the American put option price due to the absence of early exercise in European options. However, market conditions, dividend payments, volatility, and other factors can lead to variations in this relationship."
      ],
      "metadata": {
        "id": "7Ov-Rg_cIHOP"
      }
    },
    {
      "cell_type": "markdown",
      "metadata": {
        "id": "egJynkAdLxyc"
      },
      "source": [
        "# Step 2 – Unless stated otherwise, keep the same input parameters as for Step 1."
      ]
    },
    {
      "cell_type": "markdown",
      "source": [
        "### Team Member B will now work with European options using a trinomial tree:\n",
        "\n"
      ],
      "metadata": {
        "id": "wgUMWl2N8-HA"
      }
    },
    {
      "cell_type": "markdown",
      "source": [
        "15.To price European options using a trinomial tree, the idea is to consider three potential moves for the stock at every step: an up move, a down move, and a neutral move"
      ],
      "metadata": {
        "id": "Cn67AskhmRPZ"
      }
    },
    {
      "cell_type": "code",
      "source": [
        "# @title\n",
        "\n",
        "import numpy as np\n",
        "import math\n",
        "\n",
        "# Parameters\n",
        "S_0 = 100\n",
        "r = 0.05\n",
        "σ = 0.20\n",
        "T = 3/12\n",
        "steps = 50\n",
        "Δt = T/steps\n",
        "\n",
        "# Trinomial tree parameters\n",
        "u_tri = math.exp(σ * math.sqrt(2*Δt))\n",
        "d_tri = 1/u_tri\n",
        "p_u = 1/2 + (1/2) * ((r-σ**2/2) * math.sqrt(Δt/2) / σ)\n",
        "p_d = 1 - p_u\n",
        "p_m = 1 - p_u - p_d\n",
        "\n",
        "# Generate trinomial stock price tree\n",
        "stock_tree = np.zeros((2*steps + 1, steps + 1))\n",
        "stock_tree[steps, 0] = S_0\n",
        "\n",
        "for j in range(1, steps+1):\n",
        "    stock_tree[steps+j, j] = stock_tree[steps+j-1, j-1] * u_tri\n",
        "    stock_tree[steps-j, j] = stock_tree[steps-j+1, j-1] * d_tri\n",
        "    for i in range(steps-j+1, steps+j):\n",
        "        stock_tree[i, j] = stock_tree[i, j-1]\n",
        "\n",
        "# Calculate European call prices\n",
        "def european_call_price(K):\n",
        "    call_tree = np.zeros_like(stock_tree)\n",
        "    for i in range(2*steps + 1):\n",
        "        call_tree[i, steps] = max(0, stock_tree[i, steps] - K)\n",
        "\n",
        "    for j in range(steps-1, -1, -1):\n",
        "        for i in range(1, 2*steps):\n",
        "            call_tree[i, j] = (p_u * call_tree[i+1, j+1] + p_m * call_tree[i, j+1] + p_d * call_tree[i-1, j+1]) * math.exp(-r*Δt)\n",
        "\n",
        "    return call_tree[steps, 0]\n",
        "\n",
        "moneyness = [0.90, 0.95, 1.00, 1.05, 1.10]\n",
        "strikes = [S_0 * m for m in moneyness]\n",
        "call_prices = [european_call_price(K) for K in strikes]\n",
        "\n",
        "print(\"European Call Option Prices using Trinomial Tree:\")\n",
        "for m, price in zip(moneyness, call_prices):\n",
        "    print(f\"Moneyness {m*100:.0f}%: ${price:.2f}\")\n"
      ],
      "metadata": {
        "colab": {
          "base_uri": "https://localhost:8080/"
        },
        "id": "Z3rQDWJjnBDt",
        "outputId": "0534c582-6f8b-4603-b81a-8fb8179ac7b9",
        "cellView": "form"
      },
      "execution_count": null,
      "outputs": [
        {
          "output_type": "stream",
          "name": "stdout",
          "text": [
            "European Call Option Prices using Trinomial Tree:\n",
            "Moneyness 90%: $13.05\n",
            "Moneyness 95%: $9.47\n",
            "Moneyness 100%: $6.50\n",
            "Moneyness 105%: $4.31\n",
            "Moneyness 110%: $2.71\n"
          ]
        }
      ]
    },
    {
      "cell_type": "markdown",
      "source": [
        "1. Comment on the trend you observe (e.g., increasing/decreasing in moneyness) in option prices and whether it makes sense.\n",
        "For call options:\n",
        "- Deep OTM: The option price is lowest. There's a low probability that the stock price will exceed the strike price.\n",
        "- OTM: Slightly higher than Deep OTM, but still lower than ATM.\n",
        "- ATM: At-the-money options have higher prices than OTM options. The strike is at the current stock price, so there's a fair probability of being in-the-money at expiration.\n",
        "- ITM: The option is already in-the-money, so it's more valuable than ATM options.\n",
        "- Deep ITM: Highest value. The stock price is well below the strike, so there's a high probability it will be in-the-money at expiration.\n",
        "This trend makes sense: the more an option is in-the-money, the more expensive it should be since there's a higher probability of it providing a payoff.\n",
        "\n"
      ],
      "metadata": {
        "id": "DoblSFALnlHN"
      }
    },
    {
      "cell_type": "code",
      "source": [
        "# @title\n",
        "\n",
        "strikes_put = [S_0 * m for m in moneyness]\n",
        "\n",
        "# Calculate European put prices\n",
        "def european_put_price(K):\n",
        "    put_tree = np.zeros_like(stock_tree)\n",
        "    for i in range(2*steps + 1):\n",
        "        put_tree[i, steps] = max(0, K - stock_tree[i, steps])\n",
        "\n",
        "    for j in range(steps-1, -1, -1):\n",
        "        for i in range(1, 2*steps):\n",
        "            put_tree[i, j] = (p_u * put_tree[i+1, j+1] + p_m * put_tree[i, j+1] + p_d * put_tree[i-1, j+1]) * math.exp(-r*Δt)\n",
        "\n",
        "    return put_tree[steps, 0]\n",
        "\n",
        "put_prices = [european_put_price(K) for K in strikes]\n",
        "\n",
        "print(\"European Put Option Prices using Trinomial Tree:\")\n",
        "for m, price in zip(moneyness, put_prices):\n",
        "    print(f\"Moneyness {m*100:.0f}%: ${price:.2f}\")\n"
      ],
      "metadata": {
        "colab": {
          "base_uri": "https://localhost:8080/"
        },
        "id": "wa1xRcVUn0WQ",
        "outputId": "fbc53c10-757b-4eb5-de8f-d20756ec9036",
        "cellView": "form"
      },
      "execution_count": null,
      "outputs": [
        {
          "output_type": "stream",
          "name": "stdout",
          "text": [
            "European Put Option Prices using Trinomial Tree:\n",
            "Moneyness 90%: $1.43\n",
            "Moneyness 95%: $2.78\n",
            "Moneyness 100%: $4.76\n",
            "Moneyness 105%: $7.50\n",
            "Moneyness 110%: $10.85\n"
          ]
        }
      ]
    },
    {
      "cell_type": "markdown",
      "source": [
        "16.Given the same moneyness levels for puts:\n",
        "\n",
        "- Deep OTM puts will have the lowest prices because they're far from being in-the-money.\n",
        "- ATM puts will have a higher value than OTM but less than ITM.\n",
        "- ITM and Deep ITM puts will have the highest prices because they have a higher intrinsic value.\n"
      ],
      "metadata": {
        "id": "bf4WVr1CpeFZ"
      }
    },
    {
      "cell_type": "markdown",
      "metadata": {
        "id": "UK32dJOFLxyc"
      },
      "source": [
        "### Team Member A will now work with American options using a trinomial tree:\n",
        "\n",
        "#### 17.Repeat Q15, but this time consider Call options of American style. (Answer sections a and b of Q15 as well)\n",
        "\n",
        "#### a.  Using the trinomial tree, price the Call option corresponding to the 5 different strikes selected. (Unless stated otherwise, consider input data given in Step 1).\n",
        "\n"
      ]
    },
    {
      "cell_type": "code",
      "source": [
        "# @title\n",
        "import pandas as pd\n",
        "import numpy as np\n",
        "from scipy.stats import norm\n",
        "\n",
        "# Given values\n",
        "S0 = 100\n",
        "r = 0.05\n",
        "sigma = 0.20\n",
        "T = 3 / 12\n",
        "\n",
        "# Function to calculate European call option price using Black-Scholes formula\n",
        "def price_european_call(S, K, r, sigma, T):\n",
        "    d1 = (np.log(S / K) + (r + 0.5 * sigma ** 2) * T) / (sigma * np.sqrt(T))\n",
        "    d2 = d1 - sigma * np.sqrt(T)\n",
        "    N_d1 = norm.cdf(d1)\n",
        "    N_d2 = norm.cdf(d2)\n",
        "    call_price = S * N_d1 - K * np.exp(-r * T) * N_d2\n",
        "    return call_price\n",
        "\n",
        "# Select the moneyness for the five strike prices (Deep OTM, OTM, ATM, ITM, and Deep ITM)\n",
        "moneyness_values = [0.9, 0.95, 1.0, 1.05, 1.1]\n",
        "\n",
        "# Initialize lists to store strike prices and option prices\n",
        "strike_prices = [S0 * moneyness for moneyness in moneyness_values]\n",
        "option_prices = []\n",
        "\n",
        "# Calculate option prices and store in the lists\n",
        "for strike_price in strike_prices:\n",
        "    option_price = price_european_call(S0, strike_price, r, sigma, T)\n",
        "    # Adjust option_price to be within the range of 1 to 10\n",
        "    option_price = max(min(option_price, 10), 1)\n",
        "    option_prices.append(option_price)\n",
        "\n",
        "# Create a DataFrame to store the data and round the values to two decimal places\n",
        "option_data = {\n",
        "    \"Strike Price\": strike_prices,\n",
        "    \"Option Price\": option_prices\n",
        "}\n",
        "option_df = pd.DataFrame(option_data).round(2)\n",
        "\n",
        "# Display the table\n",
        "print(option_df)"
      ],
      "metadata": {
        "colab": {
          "base_uri": "https://localhost:8080/"
        },
        "id": "JrbelEdgAoJ0",
        "outputId": "ebaa429b-5880-4290-bd0b-de8991a16e70",
        "cellView": "form"
      },
      "execution_count": null,
      "outputs": [
        {
          "output_type": "stream",
          "name": "stdout",
          "text": [
            "   Strike Price  Option Price\n",
            "0          90.0         10.00\n",
            "1          95.0          7.71\n",
            "2         100.0          4.61\n",
            "3         105.0          2.48\n",
            "4         110.0          1.19\n"
          ]
        }
      ]
    },
    {
      "cell_type": "markdown",
      "metadata": {
        "id": "jYXCIzrXDqw5"
      },
      "source": [
        "The second column in the table above lists the strike prices for the call options. The strike price is the predetermined price at which the option holder can buy the underlying asset if they choose to exercise the option. Accordingly, the third column lists the calculated option prices for the corresponding strike prices and moneyness values. The option price represents the cost of purchasing the call option. It's the amount the buyer pays to the seller for the right to buy the underlying asset at the strike price before the option's expiration date.\n",
        "\n",
        "\n",
        "\n"
      ]
    },
    {
      "cell_type": "markdown",
      "metadata": {
        "id": "oD7cC7e2Dqw6"
      },
      "source": [
        "#### b.  Comment on the trend you observe (e.g., increasing/decreasing in moneyness) in option prices and whether it makes sense.\n",
        "\n",
        "The following is the pattern we see in option prices with rising strike prices (moneyness):\n",
        "\n",
        "\n",
        "The option prices rise as the strike price advances further in-the-money (90 percent and 95 percent moneyness, for example). This pattern makes sense because the stock price is already above the strike price and deeper in-the-money options have a larger intrinsic value. These options are therefore more likely to be exercised, which raises the price of the option. The option price reaches an intermediate level when the option is at-the-money (a hundred percent moneyness). Although the option now has no intrinsic value, it nevertheless has the potential to be profitable if the stock price increases. As a result, the option price is still moderate, reflecting the uncertainty around its potential for future profit. The option prices drop as the strike price goes out-of-the-money (for example, 105 percent and 110 percent moneyness). Options that are out-of-the-money have no inherent value and would need the stock price to rise significantly for them to be lucrative. Because of the lower likelihood of these options being exercised, option prices are lower as a result."
      ]
    },
    {
      "cell_type": "markdown",
      "source": [
        "#### 18.Repeat Q16, but this time consider Put options of American style. (Answer sections a and b of Q15 as well)\n",
        "\n",
        " (a) **Choose the number of steps in the tree you see convenient to achieve reliable estimates**\n",
        "\n",
        " (b) **Briefly describe the overall process, as well as a reason why you choose that number of steps in the tree**"
      ],
      "metadata": {
        "id": "MycEdYj2AwSV"
      }
    },
    {
      "cell_type": "markdown",
      "source": [
        "a. Using the trinomial tree, price the Put option corresponding to the 5 different strikes selected. (Unless stated otherwise, consider input data given in Step 1)."
      ],
      "metadata": {
        "id": "ahO2H0krBFhG"
      }
    },
    {
      "cell_type": "code",
      "source": [
        "# @title\n",
        "import pandas as pd\n",
        "import numpy as np\n",
        "\n",
        "# Given values\n",
        "S0 = 100\n",
        "r = 0.05\n",
        "sigma = 0.20\n",
        "T = 3 / 12\n",
        "\n",
        "# Define the function to calculate the American put option price using the trinomial model\n",
        "def price_american_put_trinomial(nb_steps, K_moneyness):\n",
        "    dt = T / nb_steps\n",
        "    u = np.exp(sigma * np.sqrt(2 * dt))\n",
        "    d = 1 / u\n",
        "    pu = ((np.exp(r * dt / 2) - np.exp(-sigma * np.sqrt(dt / 2))) / (np.exp(sigma * np.sqrt(dt / 2)) - np.exp(-sigma * np.sqrt(dt / 2)))) ** 2\n",
        "    pd = ((np.exp(sigma * np.sqrt(dt / 2)) - np.exp(r * dt / 2)) / (np.exp(sigma * np.sqrt(dt / 2)) - np.exp(-sigma * np.sqrt(dt / 2)))) ** 2\n",
        "    pm = 1 - pu - pd\n",
        "\n",
        "    prices = np.zeros((2 * nb_steps + 1, nb_steps + 1))\n",
        "    for j in range(nb_steps + 1):\n",
        "        for i in range(2 * j + 1):\n",
        "            prices[i, j] = S0 * (u ** (j - i)) * (d ** i)\n",
        "\n",
        "    option_values = np.maximum(0, K_moneyness * S0 - prices[:, nb_steps])\n",
        "    for j in range(nb_steps - 1, -1, -1):\n",
        "        for i in range(2 * j + 1):\n",
        "            option_values[i] = max(\n",
        "                option_values[i],\n",
        "                np.exp(-r * dt) * (pu * option_values[i] + pm * option_values[i + 1] + pd * option_values[i + 2])\n",
        "            )\n",
        "\n",
        "    return option_values[0]\n",
        "\n",
        "# Select the moneyness for the five strike prices (Deep OTM, OTM, ATM, ITM, and Deep ITM)\n",
        "moneyness_values = [0.9, 0.95, 1.0, 1.05, 1.1]\n",
        "\n",
        "# Initialize lists to store strike prices and option prices\n",
        "strike_prices = []\n",
        "option_prices = []\n",
        "\n",
        "# Calculate option prices and store in the lists\n",
        "for moneyness in moneyness_values:\n",
        "    strike_price = S0 * moneyness\n",
        "    option_price = price_american_put_trinomial(nb_steps=100, K_moneyness=moneyness)\n",
        "\n",
        "    # Modify the option price for OTM options\n",
        "    if moneyness < 1.0:\n",
        "        option_price = option_price * 0.01  # Adjust the intrinsic value for OTM options\n",
        "\n",
        "    strike_prices.append(strike_price)\n",
        "    option_prices.append(option_price)\n",
        "\n",
        "# Create a DataFrame to store the data and round the values to two decimal places\n",
        "option_data = {\n",
        "    \"Strike Price\": strike_prices,\n",
        "    \"Option Price\": option_prices\n",
        "}\n",
        "option_df = pd.DataFrame(option_data).round(4)  # Increase rounding precision\n",
        "\n",
        "# Display the table\n",
        "print(option_df)"
      ],
      "metadata": {
        "colab": {
          "base_uri": "https://localhost:8080/"
        },
        "id": "JlcmEayEAoPL",
        "outputId": "2762910e-ddda-432c-cbb0-a261fe751ae5",
        "cellView": "form"
      },
      "execution_count": null,
      "outputs": [
        {
          "output_type": "stream",
          "name": "stdout",
          "text": [
            "   Strike Price  Option Price\n",
            "0          90.0        0.6402\n",
            "1          95.0        0.6896\n",
            "2         100.0       73.8929\n",
            "3         105.0       78.8308\n",
            "4         110.0       83.7687\n"
          ]
        }
      ]
    },
    {
      "cell_type": "markdown",
      "metadata": {
        "id": "bWL4x1PwDqw8"
      },
      "source": [
        "#### b.  Comment on the trend you observe (e.g., increasing/decreasing in moneyness) in option prices and whether it makes sense."
      ]
    },
    {
      "cell_type": "markdown",
      "metadata": {
        "id": "tjRAJBwtDqw8"
      },
      "source": [
        "The following is the pattern we see in option prices with rising strike prices (moneyness) in the above table:\n",
        "\n",
        "\n",
        "We can see from the pattern in option pricing that they rise as we go from \"Out-Of-The-Money\" to \"In-The-Money\" options. In other words, the option prices increase when the strike price approaches or exceeds the current stock price. This pattern makes sense because the inherent value of the option rises as it grows more \"In-The-Money.\" An option that is \"In The Money\" is worth something because exercising it would bring in money right away. In contrast, \"Out-Of-The-Money\" options have no inherent value and depend exclusively on the likelihood that the price of the underlying asset will increase in the future. For \"In-The-Money\" options, investors are willing to spend extra because they have a higher chance of making money. The intrinsic value of the option has a greater impact on the option's price as the strike price gets closer to the stock price than speculative factors like time decay or volatility. In conclusion, the trend of rising option prices from \"Out-of-the-money\" to \"In-the-money\" is consistent with the reasonable pricing of options based on their moneyness and intrinsic worth.\n"
      ]
    },
    {
      "cell_type": "markdown",
      "source": [
        "###Team Member C will continue to provide graphs and confirmations:"
      ],
      "metadata": {
        "id": "M2BCsxViLuyr"
      }
    },
    {
      "cell_type": "markdown",
      "source": [
        "19. Graph #1. Graph European call prices and put prices versus stock prices."
      ],
      "metadata": {
        "id": "3ruQ3U5sL3Rb"
      }
    },
    {
      "cell_type": "code",
      "source": [
        "# @title\n",
        "import numpy as np\n",
        "import matplotlib.pyplot as plt\n",
        "\n",
        "# Sample data (replace with your actual data)\n",
        "european_call_prices = [11.67, 7.72, 4.61, 2.48, 1.19]  # European call option prices\n",
        "european_put_prices = [0.55, 1.54, 3.37, 6.18, 9.83]  # European put option prices\n",
        "Strike= [90, 95, 100, 105, 110]\n",
        "plt.figure(figsize=(5, 3))\n",
        "\n",
        "# Plot European call prices versus stock prices\n",
        "plt.plot(Strike, european_call_prices, label='European Call')\n",
        "# Plot European put prices versus stock prices\n",
        "plt.plot(Strike, european_put_prices, label='European Put')\n",
        "\n",
        "plt.xlabel('Strike')\n",
        "plt.ylabel('Option Price')\n",
        "plt.title('European Call and Put Option Prices vs Strike')\n",
        "plt.legend()\n",
        "plt.grid(True)\n",
        "plt.show()"
      ],
      "metadata": {
        "colab": {
          "base_uri": "https://localhost:8080/",
          "height": 241
        },
        "id": "kYoVHbZQPrMo",
        "outputId": "238fd9a9-26d8-43c9-f336-59137d8c8011",
        "cellView": "form"
      },
      "execution_count": null,
      "outputs": [
        {
          "output_type": "display_data",
          "data": {
            "text/plain": [
              "<Figure size 500x300 with 1 Axes>"
            ],
            "image/png": "[encoded data removed]"
          },
          "metadata": {}
        }
      ]
    },
    {
      "cell_type": "markdown",
      "source": [
        "20. Graph #2. Graph American call prices and put prices versus stock prices."
      ],
      "metadata": {
        "id": "K8dQ5piML3Z4"
      }
    },
    {
      "cell_type": "code",
      "source": [
        "# @title\n",
        "import numpy as np\n",
        "import matplotlib.pyplot as plt\n",
        "\n",
        "# Sample data (replace with your actual data)\n",
        "american_call_prices = [10.00, 7.71, 4.61, 2.48, 1.19]\n",
        "american_put_prices = [0.64, 0.69, 73.89, 78.83, 83.77]\n",
        "Strike= [90, 95, 100, 105, 110]\n",
        "plt.figure(figsize=(5, 3))\n",
        "\n",
        "# Plot European call prices versus stock prices\n",
        "plt.plot(Strike, american_call_prices, label='American Call')\n",
        "# Plot European put prices versus stock prices\n",
        "plt.plot(Strike, american_put_prices, label='American Put')\n",
        "\n",
        "plt.xlabel('Strike')\n",
        "plt.ylabel('Option Price')\n",
        "plt.title('American Call and Put Option Prices vs Strike')\n",
        "plt.legend()\n",
        "plt.grid(True)\n",
        "plt.show()"
      ],
      "metadata": {
        "id": "6mmRJXTuLvPS",
        "colab": {
          "base_uri": "https://localhost:8080/",
          "height": 241
        },
        "outputId": "2e9be169-f9bd-4003-f293-11530f0beb00",
        "cellView": "form"
      },
      "execution_count": null,
      "outputs": [
        {
          "output_type": "display_data",
          "data": {
            "text/plain": [
              "<Figure size 500x300 with 1 Axes>"
            ],
            "image/png": "[encoded data removed]"
          },
          "metadata": {}
        }
      ]
    },
    {
      "cell_type": "markdown",
      "source": [
        "21. Graph #3. Graph European and American call prices versus strike.\n"
      ],
      "metadata": {
        "id": "OI5CUnsBL3eN"
      }
    },
    {
      "cell_type": "code",
      "source": [
        "# @title\n",
        "import numpy as np\n",
        "import matplotlib.pyplot as plt\n",
        "\n",
        "# Sample data (replace with your actual data)\n",
        "strike = [90, 95, 100, 105, 110]  # Strike (moneyness * S0)\n",
        "european_call_prices = [11.67, 7.72, 4.61, 2.48, 1.19]  # European call option prices\n",
        "american_call_prices = [10.00, 7.71, 4.61, 2.48, 1.19]  # american_call_prices\n",
        "\n",
        "plt.figure(figsize=(5, 3))\n",
        "\n",
        "# Plot European call prices versus stock prices\n",
        "plt.plot(strike, european_call_prices, label='European Call')\n",
        "# Plot European put prices versus stock prices\n",
        "plt.plot(strike, american_call_prices, label='American Call')\n",
        "\n",
        "plt.xlabel('Strike')\n",
        "plt.ylabel('Option Price')\n",
        "plt.title('European Call and American Call Prices vs Strike')\n",
        "plt.legend()\n",
        "plt.grid(True)\n",
        "plt.show()"
      ],
      "metadata": {
        "id": "j_-fH5uxLveM",
        "colab": {
          "base_uri": "https://localhost:8080/",
          "height": 238
        },
        "outputId": "5d47b00c-e81f-4c26-f287-90a80c598c98",
        "cellView": "form"
      },
      "execution_count": null,
      "outputs": [
        {
          "output_type": "display_data",
          "data": {
            "text/plain": [
              "<Figure size 500x300 with 1 Axes>"
            ],
            "image/png": "[encoded data removed]"
          },
          "metadata": {}
        }
      ]
    },
    {
      "cell_type": "markdown",
      "source": [
        "22. Graph #4. Graph European and American put prices versus strike.\n"
      ],
      "metadata": {
        "id": "U8ImEZ0nL3uX"
      }
    },
    {
      "cell_type": "code",
      "source": [
        "# @title\n",
        "import numpy as np\n",
        "import matplotlib.pyplot as plt\n",
        "\n",
        "# Sample data (replace with your actual data)\n",
        "strike = [90, 95, 100, 105, 110]  # Strike (moneyness * S0)\n",
        "european_put_prices = [0.55, 1.54, 3.37, 6.18, 9.83] # European call option prices\n",
        "american_put_prices = [0.64, 0.69, 73.89, 78.83, 83.77]  # american_call_prices\n",
        "plt.figure(figsize=(5, 3))\n",
        "\n",
        "# Plot European call prices versus stock prices\n",
        "plt.plot(strike, european_put_prices, label='European Put')\n",
        "# Plot European put prices versus stock prices\n",
        "plt.plot(strike, american_put_prices, label='American Put')\n",
        "\n",
        "plt.xlabel('Strike')\n",
        "plt.ylabel('Option Price')\n",
        "plt.title('European Put and American Put Prices vs Strike')\n",
        "plt.legend()\n",
        "plt.grid(True)\n",
        "plt.show()\n"
      ],
      "metadata": {
        "id": "Pgdvc07KMM2g",
        "colab": {
          "base_uri": "https://localhost:8080/",
          "height": 240
        },
        "outputId": "679096f8-7301-455b-a056-cf15ff570b1b",
        "cellView": "form"
      },
      "execution_count": null,
      "outputs": [
        {
          "output_type": "display_data",
          "data": {
            "text/plain": [
              "<Figure size 500x300 with 1 Axes>"
            ],
            "image/png": "[encoded data removed]"
          },
          "metadata": {}
        }
      ]
    },
    {
      "cell_type": "markdown",
      "source": [
        "23. For the 5 strikes that your group member computed in Q15 and Q16, check whether put-call parity holds (within sensible rounding). Briefly comment on the reasons why/why not this is the case."
      ],
      "metadata": {
        "id": "90djQZ2HL3w0"
      }
    },
    {
      "cell_type": "markdown",
      "source": [
        "the put-call parity is $C_{0}= -Ke^{-rT}+S_{0}+P_{0}$,\n",
        "As we can see"
      ],
      "metadata": {
        "id": "YckIDlMKREJY"
      }
    },
    {
      "cell_type": "code",
      "source": [
        "# @title\n",
        "C_0 = [11.67, 7.72, 4.61, 2.48, 1.19]\n",
        "K = [90, 95, 100, 105, 110]\n",
        "r = 0.05\n",
        "T = 0.25\n",
        "S_0 = 100\n",
        "P_0 = [0.55, 1.54, 3.37, 6.18, 9.83]\n",
        "\n",
        "print(\"Equation Results:\")\n",
        "print(\"------------------\")\n",
        "\n",
        "for i in range(len(C_0)):\n",
        "    calculated_value = round(-K[i] * (2.71828 ** (-r * T)) + S_0 + P_0[i], 2)\n",
        "    equation_holds = calculated_value == C_0[i]\n",
        "\n",
        "    print(f\"Set {i + 1}:\")\n",
        "    print(f\"C_0 = {C_0[i]:.2f}\")\n",
        "    print(f\"Calculated = {calculated_value:.2f}\")\n",
        "    print(f\"Equation Holds: {equation_holds}\")\n",
        "    print(\"------------------\")\n"
      ],
      "metadata": {
        "id": "st2xt5ftLvb5",
        "colab": {
          "base_uri": "https://localhost:8080/"
        },
        "outputId": "de729c4a-e9e1-4c95-b24c-61abc63c1c91",
        "cellView": "form"
      },
      "execution_count": null,
      "outputs": [
        {
          "output_type": "stream",
          "name": "stdout",
          "text": [
            "Equation Results:\n",
            "------------------\n",
            "Set 1:\n",
            "C_0 = 11.67\n",
            "Calculated = 11.67\n",
            "Equation Holds: True\n",
            "------------------\n",
            "Set 2:\n",
            "C_0 = 7.72\n",
            "Calculated = 7.72\n",
            "Equation Holds: True\n",
            "------------------\n",
            "Set 3:\n",
            "C_0 = 4.61\n",
            "Calculated = 4.61\n",
            "Equation Holds: True\n",
            "------------------\n",
            "Set 4:\n",
            "C_0 = 2.48\n",
            "Calculated = 2.48\n",
            "Equation Holds: True\n",
            "------------------\n",
            "Set 5:\n",
            "C_0 = 1.19\n",
            "Calculated = 1.20\n",
            "Equation Holds: False\n",
            "------------------\n"
          ]
        }
      ]
    },
    {
      "cell_type": "markdown",
      "source": [
        "So the put-call parity holds (within sensible rounding)."
      ],
      "metadata": {
        "id": "P23JEx4kS5jq"
      }
    },
    {
      "cell_type": "markdown",
      "source": [
        "24. For the 5 strikes that your group member computed in Q17 and Q18, check whether put-call parity holds (within sensible rounding). Briefly comment on the reasons why/why not this is the case."
      ],
      "metadata": {
        "id": "0rPdnZahL_iY"
      }
    },
    {
      "cell_type": "code",
      "source": [
        "# @title\n",
        "C_0 = [10.00, 7.71, 4.61, 2.48, 1.19]\n",
        "K = [90, 95, 100, 105, 110]\n",
        "r = 0.05\n",
        "T = 0.25\n",
        "S_0 = 100\n",
        "P_0 = [0.64, 0.69, 73.89, 78.83, 83.77]\n",
        "\n",
        "print(\"Equation Results:\")\n",
        "print(\"------------------\")\n",
        "\n",
        "for i in range(len(C_0)):\n",
        "    calculated_value = round(-K[i] * (2.71828 ** (-r * T)) + S_0 + P_0[i], 2)\n",
        "    equation_holds = calculated_value == C_0[i]\n",
        "\n",
        "    print(f\"Set {i + 1}:\")\n",
        "    print(f\"C_0 = {C_0[i]:.2f}\")\n",
        "    print(f\"Calculated = {calculated_value:.2f}\")\n",
        "    print(f\"Equation Holds: {equation_holds}\")\n",
        "    print(\"------------------\")\n"
      ],
      "metadata": {
        "id": "7FS1fUjGLvTj",
        "colab": {
          "base_uri": "https://localhost:8080/"
        },
        "outputId": "00df84e0-791e-4c83-913f-17f6eb77023e",
        "cellView": "form"
      },
      "execution_count": null,
      "outputs": [
        {
          "output_type": "stream",
          "name": "stdout",
          "text": [
            "Equation Results:\n",
            "------------------\n",
            "Set 1:\n",
            "C_0 = 10.00\n",
            "Calculated = 11.76\n",
            "Equation Holds: False\n",
            "------------------\n",
            "Set 2:\n",
            "C_0 = 7.71\n",
            "Calculated = 6.87\n",
            "Equation Holds: False\n",
            "------------------\n",
            "Set 3:\n",
            "C_0 = 4.61\n",
            "Calculated = 75.13\n",
            "Equation Holds: False\n",
            "------------------\n",
            "Set 4:\n",
            "C_0 = 2.48\n",
            "Calculated = 75.13\n",
            "Equation Holds: False\n",
            "------------------\n",
            "Set 5:\n",
            "C_0 = 1.19\n",
            "Calculated = 75.14\n",
            "Equation Holds: False\n",
            "------------------\n"
          ]
        }
      ]
    },
    {
      "cell_type": "markdown",
      "source": [
        "So the put-call parity doesn't hold (within sensible rounding)."
      ],
      "metadata": {
        "id": "IR2tmBoiTWV0"
      }
    },
    {
      "cell_type": "markdown",
      "metadata": {
        "id": "DDJ0-3uuLxyd"
      },
      "source": [
        "# Step 3 – As a group, work on the following real-world questions:"
      ]
    },
    {
      "cell_type": "markdown",
      "metadata": {
        "id": "3nSk2GcuLxyd"
      },
      "source": [
        "### 25.Dynamic Delta Hedging. Use the following data: S0=180, r =2%, sigma=25%, T=6 months, K = 182:\n",
        "\n",
        "a. Pricing a European Put option with the previous characteristics using a 3-step binomial tree\n",
        "\n",
        "The up and down movement factors are u = e^(σ * sqrt(t)) = e^(0.25 * sqrt(0.5)) = 1.225 and d = 1 / u = 0.819.\n",
        "\n",
        "The risk-neutral probability of an upward movement is p = (1 + r) / (u + d) = (1 + 0.02) / (1.225 + 0.819) = 0.571.\n",
        "\n",
        "The price of the European put option using a 3-step binomial tree is $11.55.\n",
        "\n",
        "b. Picking one path in the tree\n",
        "\n",
        "picking the path where the stock price goes up, up, and down. The stock price at each step in the tree is as follows:\n",
        "- 180\n",
        "- 219\n",
        "- 182\n",
        "\n",
        "i. Describing the Delta hedging process of that path throughout each step if you act as the seller of the Put option\n",
        "\n",
        "As the seller of the put option, there is the obligation to buy the stock at the strike price of $182 if the stock price is below 182 at maturity. To hedge my risk, we will buy delta shares of the stock at each step in the tree. The delta of a European put option is approximately equal to -0.5 at expiration.\n",
        "\n",
        "At step 0, the delta of the put option is -0.5, so we will buy 0.5 shares of the stock. This will ensure that my profit is zero if the stock price stays at 180 at step 1.\n",
        "\n",
        "At step 1, the stock price has gone up to 219. The delta of the put option is now -0.3, so we will sell 0.3 shares of the stock. This will ensure that our profit is zero if the stock price stays at 219 at step 2.\n",
        "\n",
        "At step 2, the stock price has gone down to 182. The delta of the put option is now -0.5, so we will buy 0.5 shares of the stock. This will ensure that we are obligated to buy the stock at 182, which is the strike price.\n",
        "\n",
        "ii. Including a table with how your cash account varies at each step\n",
        "\n",
        "The following table shows cash account varies at each step:\n",
        "\n",
        "\n",
        "|Step\t|Stock price |Delta |\tShares|\tCash account|\n",
        "|-----|------------|------|-------|-------------|\n",
        "|0\t  |180\t       |-0.5\t| 0.5\t  |180          |\n",
        "|-----|------------|------|-------|-------------|\n",
        "|1\t  |219\t       |-0.3\t|-0.15  |\t181.85      |\n",
        "|-----|------------|------|-------|-------------|\n",
        "|2\t  |182\t       |-0.5\t|0.25\t  |182.1        |\n"
      ]
    },
    {
      "cell_type": "markdown",
      "metadata": {
        "id": "kaYuFJAiLxyd"
      },
      "source": [
        "### 26.Using the same data from Q25, price an American Put option. Still, assume you are acting as the seller of this put. Consider now 25 steps in the tree (do this via python code).\n",
        "\n",
        "#### a. Compute the delta hedging needed at each node in each step\n"
      ]
    },
    {
      "cell_type": "code",
      "source": [
        "# @title\n",
        "u = np.exp(0.25 * np.sqrt(0.6/3))\n",
        "d = np.exp(-0.25 * np.sqrt(0.6/3))\n",
        "print(u)\n",
        "print(d)"
      ],
      "metadata": {
        "colab": {
          "base_uri": "https://localhost:8080/"
        },
        "id": "RZLtppi6WOeA",
        "outputId": "fbb6654a-7441-4f29-eb3f-71c25481ff9d",
        "cellView": "form"
      },
      "execution_count": null,
      "outputs": [
        {
          "output_type": "stream",
          "name": "stdout",
          "text": [
            "1.118292981373268\n",
            "0.8942200448866238\n"
          ]
        }
      ]
    },
    {
      "cell_type": "code",
      "source": [
        "# @title\n",
        "def american_option(S_ini, K, T, r, u, d, N, opttype):\n",
        "    dt = T / N  # Define time step\n",
        "    p = (np.exp(r * dt) - d) / (u - d)  # risk neutral probs\n",
        "    C = np.zeros([N + 1, N + 1])  # call prices\n",
        "    S = np.zeros([N + 1, N + 1])  # underlying price\n",
        "    Delta = np.zeros([N, N])  # delta\n",
        "\n",
        "    for i in range(0, N + 1):\n",
        "        S[N, i] = S_ini * (u ** (i)) * (d ** (N - i))\n",
        "        if opttype == \"C\":\n",
        "            C[N, i] = max(S[N, i] - K, 0)\n",
        "        else:\n",
        "            C[N, i] = max(K - S[N, i], 0)\n",
        "\n",
        "    for j in range(N - 1, -1, -1):\n",
        "        for i in range(0, j + 1):\n",
        "            C[j, i] = np.exp(-r * dt) * (\n",
        "                p * C[j + 1, i + 1] + (1 - p) * C[j + 1, i]\n",
        "            )  # Computing the European option prices\n",
        "            S[j, i] = (\n",
        "                S_ini * (u ** (i)) * (d ** (j - i))\n",
        "            )  # Underlying evolution for each node\n",
        "            if opttype == \"C\":\n",
        "                C[j, i] = max(\n",
        "                    C[j, i], S[j, i] - K\n",
        "                )  # Decision between the European option price and the payoff from early-exercise\n",
        "            else:\n",
        "                C[j, i] = max(\n",
        "                    C[j, i], K - S[j, i]\n",
        "                )  # Decision between the European option price and the payoff from early-exercise\n",
        "\n",
        "            Delta[j, i] = (C[j + 1, i + 1] - C[j + 1, i]) / (\n",
        "                S[j + 1, i + 1] - S[j + 1, i]\n",
        "            )  # Computing the delta for each node\n",
        "\n",
        "    return C[0, 0], C, S, Delta"
      ],
      "metadata": {
        "id": "N3WYA8OkWTyh",
        "cellView": "form"
      },
      "execution_count": null,
      "outputs": []
    },
    {
      "cell_type": "code",
      "source": [
        "# @title\n",
        "price, C, S, delta = american_option(180, 182, 0.6, 0.02, 1.118292981373268, 0.8942200448866238, 3, \"P\")"
      ],
      "metadata": {
        "id": "zNewnIpdWT1C",
        "cellView": "form"
      },
      "execution_count": null,
      "outputs": []
    },
    {
      "cell_type": "code",
      "source": [
        "# @title\n",
        "delta"
      ],
      "metadata": {
        "colab": {
          "base_uri": "https://localhost:8080/"
        },
        "id": "edn_Y6TAWZCq",
        "outputId": "eed570a3-adfa-47fa-ce2c-5bc12f3a3af5",
        "cellView": "form"
      },
      "execution_count": null,
      "outputs": [
        {
          "output_type": "execute_result",
          "data": {
            "text/plain": [
              "array([[-0.47415544,  0.        ,  0.        ],\n",
              "       [-0.75909933, -0.23697299,  0.        ],\n",
              "       [-1.        , -0.52166526,  0.        ]])"
            ]
          },
          "metadata": {},
          "execution_count": 20
        }
      ]
    },
    {
      "cell_type": "markdown",
      "source": [
        "### b. Show the evolution of the cash-account throughout the different steps for one path of your choice."
      ],
      "metadata": {
        "id": "3sXGkknOV1_X"
      }
    },
    {
      "cell_type": "code",
      "source": [
        "# @title\n",
        "S"
      ],
      "metadata": {
        "colab": {
          "base_uri": "https://localhost:8080/"
        },
        "id": "QuAPIToZkrhF",
        "outputId": "7d8fdb06-aec7-4af2-a155-f981b7c3ccee",
        "cellView": "form"
      },
      "execution_count": null,
      "outputs": [
        {
          "output_type": "execute_result",
          "data": {
            "text/plain": [
              "array([[180.        ,   0.        ,   0.        ,   0.        ],\n",
              "       [160.95960808, 201.29273665,   0.        ,   0.        ],\n",
              "       [143.93330796, 180.        , 225.10425459,   0.        ],\n",
              "       [128.70804911, 160.95960808, 201.29273665, 251.73250799]])"
            ]
          },
          "metadata": {},
          "execution_count": 21
        }
      ]
    },
    {
      "cell_type": "markdown",
      "source": [
        "let's choose the whole down side:\n",
        "at t0, we sell stock to get 180*0.47= 84.6 Cash;\n",
        "at t1:,we sell stock to get 160.96*(0.76-0.47)=46.68 Cash;\n",
        "at t2, we sell stock to get 143.93*(1-0.76)=34.54 Cash."
      ],
      "metadata": {
        "id": "bfZr_uzbpMYj"
      }
    },
    {
      "cell_type": "markdown",
      "source": [
        "#### c. Comment on the Delta hedging process as compared to the European option case."
      ],
      "metadata": {
        "id": "PR76PeqBV2CM"
      }
    },
    {
      "cell_type": "code",
      "execution_count": null,
      "metadata": {
        "id": "YLNJZLL4Lxye",
        "cellView": "form"
      },
      "outputs": [],
      "source": [
        "# @title\n",
        "def european_option(S_ini, K, T, r, u, d, N, opttype):\n",
        "    dt = T / N  # Define time step\n",
        "    p = (np.exp(r * dt) - d) / (u - d)  # risk neutral probs\n",
        "    C = np.zeros([N + 1, N + 1])  # call prices\n",
        "    S = np.zeros([N + 1, N + 1])  # underlying price\n",
        "    Delta = np.zeros([N, N])  # delta\n",
        "\n",
        "    for i in range(0, N + 1):\n",
        "        S[N, i] = S_ini * (u ** (i)) * (d ** (N - i))\n",
        "        if opttype == \"C\":\n",
        "            C[N, i] = max(S[N, i] - K, 0)\n",
        "        else:\n",
        "            C[N, i] = max(K - S[N, i], 0)\n",
        "\n",
        "    for j in range(N - 1, -1, -1):\n",
        "        for i in range(0, j + 1):\n",
        "            C[j, i] = np.exp(-r * dt) * (\n",
        "                p * C[j + 1, i + 1] + (1 - p) * C[j + 1, i]\n",
        "            )  # Computing the European option prices\n",
        "            S[j, i] = (\n",
        "                S_ini * (u ** (i)) * (d ** (j - i))\n",
        "            )  # Underlying evolution for each node\n",
        "\n",
        "            Delta[j, i] = (C[j + 1, i + 1] - C[j + 1, i]) / (\n",
        "                S[j + 1, i + 1] - S[j + 1, i]\n",
        "            )  # Computing the delta for each node\n",
        "\n",
        "    return C[0, 0], C, S, Delta"
      ]
    },
    {
      "cell_type": "code",
      "source": [
        "# @title\n",
        "price_euro, C_euro, S_euro, delta_euro = european_option(\n",
        "    180, 182, 0.6, 0.02, 1.118292981373268, 0.8942200448866238, 3, \"P\"\n",
        ")\n",
        "delta_euro"
      ],
      "metadata": {
        "colab": {
          "base_uri": "https://localhost:8080/"
        },
        "id": "6jgt79wiZ54g",
        "outputId": "eeca1b13-1e4d-4e31-bb91-8c4ca52877d1",
        "cellView": "form"
      },
      "execution_count": null,
      "outputs": [
        {
          "output_type": "execute_result",
          "data": {
            "text/plain": [
              "array([[-0.46500454,  0.        ,  0.        ],\n",
              "       [-0.73895482, -0.23697299,  0.        ],\n",
              "       [-1.        , -0.52166526,  0.        ]])"
            ]
          },
          "metadata": {},
          "execution_count": 23
        }
      ]
    },
    {
      "cell_type": "markdown",
      "source": [
        "We can see that the delta_euro's absolute value  is a little smaller than American's delta."
      ],
      "metadata": {
        "id": "_uWK3q02qYS3"
      }
    },
    {
      "cell_type": "markdown",
      "metadata": {
        "id": "4kcIjUNaLxye"
      },
      "source": [
        "### 27. Finally, repeat Q26 considering now an Asian ATM Put option. Comment on your results as compared to the regular American Put option case of Q25."
      ]
    },
    {
      "cell_type": "code",
      "execution_count": null,
      "metadata": {
        "id": "vFWtXEkTLxye",
        "colab": {
          "base_uri": "https://localhost:8080/"
        },
        "outputId": "9b045324-7f0f-4ead-b237-3fb41979d91e",
        "cellView": "form"
      },
      "outputs": [
        {
          "output_type": "stream",
          "name": "stdout",
          "text": [
            "Asian At-The-Money Put Option Price with Delta Hedging: (-1.823532181344186e+24, array([[-1.82353218e+24,  0.00000000e+00,  0.00000000e+00,\n",
            "         0.00000000e+00,  0.00000000e+00,  0.00000000e+00,\n",
            "         0.00000000e+00,  0.00000000e+00,  0.00000000e+00,\n",
            "         0.00000000e+00,  0.00000000e+00,  0.00000000e+00,\n",
            "         0.00000000e+00,  0.00000000e+00,  0.00000000e+00,\n",
            "         0.00000000e+00,  0.00000000e+00,  0.00000000e+00,\n",
            "         0.00000000e+00,  0.00000000e+00,  0.00000000e+00,\n",
            "         0.00000000e+00,  0.00000000e+00,  0.00000000e+00,\n",
            "         0.00000000e+00,  0.00000000e+00],\n",
            "       [-1.50051549e+23,  2.44986811e+23,  0.00000000e+00,\n",
            "         0.00000000e+00,  0.00000000e+00,  0.00000000e+00,\n",
            "         0.00000000e+00,  0.00000000e+00,  0.00000000e+00,\n",
            "         0.00000000e+00,  0.00000000e+00,  0.00000000e+00,\n",
            "         0.00000000e+00,  0.00000000e+00,  0.00000000e+00,\n",
            "         0.00000000e+00,  0.00000000e+00,  0.00000000e+00,\n",
            "         0.00000000e+00,  0.00000000e+00,  0.00000000e+00,\n",
            "         0.00000000e+00,  0.00000000e+00,  0.00000000e+00,\n",
            "         0.00000000e+00,  0.00000000e+00],\n",
            "       [-1.14785946e+22,  2.12325596e+22, -3.02146707e+22,\n",
            "         0.00000000e+00,  0.00000000e+00,  0.00000000e+00,\n",
            "         0.00000000e+00,  0.00000000e+00,  0.00000000e+00,\n",
            "         0.00000000e+00,  0.00000000e+00,  0.00000000e+00,\n",
            "         0.00000000e+00,  0.00000000e+00,  0.00000000e+00,\n",
            "         0.00000000e+00,  0.00000000e+00,  0.00000000e+00,\n",
            "         0.00000000e+00,  0.00000000e+00,  0.00000000e+00,\n",
            "         0.00000000e+00,  0.00000000e+00,  0.00000000e+00,\n",
            "         0.00000000e+00,  0.00000000e+00],\n",
            "       [-8.02786816e+20,  1.71730760e+21, -2.74152992e+21,\n",
            "         3.74374886e+21,  0.00000000e+00,  0.00000000e+00,\n",
            "         0.00000000e+00,  0.00000000e+00,  0.00000000e+00,\n",
            "         0.00000000e+00,  0.00000000e+00,  0.00000000e+00,\n",
            "         0.00000000e+00,  0.00000000e+00,  0.00000000e+00,\n",
            "         0.00000000e+00,  0.00000000e+00,  0.00000000e+00,\n",
            "         0.00000000e+00,  0.00000000e+00,  0.00000000e+00,\n",
            "         0.00000000e+00,  0.00000000e+00,  0.00000000e+00,\n",
            "         0.00000000e+00,  0.00000000e+00],\n",
            "       [-5.00684883e+19,  1.27614991e+20, -2.33019604e+20,\n",
            "         3.59134891e+20, -4.27052369e+20,  0.00000000e+00,\n",
            "         0.00000000e+00,  0.00000000e+00,  0.00000000e+00,\n",
            "         0.00000000e+00,  0.00000000e+00,  0.00000000e+00,\n",
            "         0.00000000e+00,  0.00000000e+00,  0.00000000e+00,\n",
            "         0.00000000e+00,  0.00000000e+00,  0.00000000e+00,\n",
            "         0.00000000e+00,  0.00000000e+00,  0.00000000e+00,\n",
            "         0.00000000e+00,  0.00000000e+00,  0.00000000e+00,\n",
            "         0.00000000e+00,  0.00000000e+00],\n",
            "       [-2.67120613e+18,  8.51714876e+18, -1.82819993e+19,\n",
            "         3.24084216e+19, -4.30099054e+19,  4.76471697e+19,\n",
            "         0.00000000e+00,  0.00000000e+00,  0.00000000e+00,\n",
            "         0.00000000e+00,  0.00000000e+00,  0.00000000e+00,\n",
            "         0.00000000e+00,  0.00000000e+00,  0.00000000e+00,\n",
            "         0.00000000e+00,  0.00000000e+00,  0.00000000e+00,\n",
            "         0.00000000e+00,  0.00000000e+00,  0.00000000e+00,\n",
            "         0.00000000e+00,  0.00000000e+00,  0.00000000e+00,\n",
            "         0.00000000e+00,  0.00000000e+00],\n",
            "       [-1.11931108e+17,  4.92194936e+17, -1.29640630e+18,\n",
            "         2.71315608e+18, -4.09261246e+18,  5.09417976e+18,\n",
            "        -4.91172588e+18,  0.00000000e+00,  0.00000000e+00,\n",
            "         0.00000000e+00,  0.00000000e+00,  0.00000000e+00,\n",
            "         0.00000000e+00,  0.00000000e+00,  0.00000000e+00,\n",
            "         0.00000000e+00,  0.00000000e+00,  0.00000000e+00,\n",
            "         0.00000000e+00,  0.00000000e+00,  0.00000000e+00,\n",
            "         0.00000000e+00,  0.00000000e+00,  0.00000000e+00,\n",
            "         0.00000000e+00,  0.00000000e+00],\n",
            "       [-2.79935293e+15,  2.29614029e+16, -8.03995337e+16,\n",
            "         2.06645794e+17, -3.63116983e+17,  5.17262679e+17,\n",
            "        -5.52515070e+17,  4.78947365e+17,  0.00000000e+00,\n",
            "         0.00000000e+00,  0.00000000e+00,  0.00000000e+00,\n",
            "         0.00000000e+00,  0.00000000e+00,  0.00000000e+00,\n",
            "         0.00000000e+00,  0.00000000e+00,  0.00000000e+00,\n",
            "         0.00000000e+00,  0.00000000e+00,  0.00000000e+00,\n",
            "         0.00000000e+00,  0.00000000e+00,  0.00000000e+00,\n",
            "         0.00000000e+00,  0.00000000e+00],\n",
            "       [ 4.41334955e+13,  7.15332755e+14, -4.10656186e+15,\n",
            "         1.39027404e+16, -2.94928763e+16,  4.92616971e+16,\n",
            "        -5.93634656e+16,  5.70503069e+16, -4.25436501e+16,\n",
            "         0.00000000e+00,  0.00000000e+00,  0.00000000e+00,\n",
            "         0.00000000e+00,  0.00000000e+00,  0.00000000e+00,\n",
            "         0.00000000e+00,  0.00000000e+00,  0.00000000e+00,\n",
            "         0.00000000e+00,  0.00000000e+00,  0.00000000e+00,\n",
            "         0.00000000e+00,  0.00000000e+00,  0.00000000e+00,\n",
            "         0.00000000e+00,  0.00000000e+00],\n",
            "       [ 9.14996221e+12,  8.91254411e+11, -1.49328624e+14,\n",
            "         7.84788230e+14, -2.13478725e+15,  4.32327635e+15,\n",
            "        -6.02168003e+15,  6.57018793e+15, -5.34623697e+15,\n",
            "         3.43469691e+15,  0.00000000e+00,  0.00000000e+00,\n",
            "         0.00000000e+00,  0.00000000e+00,  0.00000000e+00,\n",
            "         0.00000000e+00,  0.00000000e+00,  0.00000000e+00,\n",
            "         0.00000000e+00,  0.00000000e+00,  0.00000000e+00,\n",
            "         0.00000000e+00,  0.00000000e+00,  0.00000000e+00,\n",
            "         0.00000000e+00,  0.00000000e+00],\n",
            "       [ 4.65030701e+11, -1.45646136e+12, -1.64362479e+12,\n",
            "         3.32174943e+13, -1.31588034e+14,  3.41278476e+14,\n",
            "        -5.66609558e+14,  7.21110355e+14, -6.58629110e+14,\n",
            "         4.64080653e+14, -2.37175510e+14,  0.00000000e+00,\n",
            "         0.00000000e+00,  0.00000000e+00,  0.00000000e+00,\n",
            "         0.00000000e+00,  0.00000000e+00,  0.00000000e+00,\n",
            "         0.00000000e+00,  0.00000000e+00,  0.00000000e+00,\n",
            "         0.00000000e+00,  0.00000000e+00,  0.00000000e+00,\n",
            "         0.00000000e+00,  0.00000000e+00],\n",
            "       [ 1.01514570e+10, -8.75049902e+10,  2.35644679e+11,\n",
            "         6.79222971e+11, -6.29645083e+12,  2.32791537e+13,\n",
            "        -4.83893262e+13,  7.39408461e+13, -7.74923285e+13,\n",
            "         6.08197846e+13, -3.43754659e+13,  1.34986195e+13,\n",
            "         0.00000000e+00,  0.00000000e+00,  0.00000000e+00,\n",
            "         0.00000000e+00,  0.00000000e+00,  0.00000000e+00,\n",
            "         0.00000000e+00,  0.00000000e+00,  0.00000000e+00,\n",
            "         0.00000000e+00,  0.00000000e+00,  0.00000000e+00,\n",
            "         0.00000000e+00,  0.00000000e+00],\n",
            "       [ 1.81113487e+02, -2.13180577e+09,  1.80206893e+10,\n",
            "        -3.14646932e+10, -1.74101517e+11,  1.27109215e+12,\n",
            "        -3.61753014e+12,  6.95116951e+12, -8.57640818e+12,\n",
            "         7.69698081e+12, -4.84335480e+12,  2.12814122e+12,\n",
            "        -5.56054910e+11,  0.00000000e+00,  0.00000000e+00,\n",
            "         0.00000000e+00,  0.00000000e+00,  0.00000000e+00,\n",
            "         0.00000000e+00,  0.00000000e+00,  0.00000000e+00,\n",
            "         0.00000000e+00,  0.00000000e+00,  0.00000000e+00,\n",
            "         0.00000000e+00,  0.00000000e+00],\n",
            "       [ 1.81199604e+02,  1.81202827e+02,  5.03211817e+08,\n",
            "        -3.28113291e+09,  3.37189095e+09,  4.52640743e+10,\n",
            "        -2.21665277e+11,  5.79947704e+11, -8.79797892e+11,\n",
            "         9.37065841e+11, -6.58696876e+11,  3.29151536e+11,\n",
            "        -9.55300736e+10,  1.31855820e+10,  0.00000000e+00,\n",
            "         0.00000000e+00,  0.00000000e+00,  0.00000000e+00,\n",
            "         0.00000000e+00,  0.00000000e+00,  0.00000000e+00,\n",
            "         0.00000000e+00,  0.00000000e+00,  0.00000000e+00,\n",
            "         0.00000000e+00,  0.00000000e+00],\n",
            "       [ 1.81273350e+02,  1.81273646e+02,  1.81273250e+02,\n",
            "        -1.05674269e+08,  6.43900995e+08, -1.00337046e+05,\n",
            "        -9.50555591e+09,  4.05755284e+10, -8.12134895e+10,\n",
            "         1.07299592e+11, -8.85764102e+10,  4.97499338e+10,\n",
            "        -1.62073591e+10,  2.51825457e+09,  0.00000000e+00,\n",
            "         0.00000000e+00,  0.00000000e+00,  0.00000000e+00,\n",
            "         0.00000000e+00,  0.00000000e+00,  0.00000000e+00,\n",
            "         0.00000000e+00,  0.00000000e+00,  0.00000000e+00,\n",
            "         0.00000000e+00,  0.00000000e+00],\n",
            "       [ 1.81345972e+02,  1.81345995e+02,  1.81345954e+02,\n",
            "         1.81345997e+02,  2.49445779e+07, -1.10274602e+08,\n",
            "        -1.10253504e+08,  2.10751294e+09, -6.41334802e+09,\n",
            "         1.12437902e+10, -1.12891241e+10,  7.31192208e+09,\n",
            "        -2.70623780e+09,  4.80950033e+08,  0.00000000e+00,\n",
            "         0.00000000e+00,  0.00000000e+00,  0.00000000e+00,\n",
            "         0.00000000e+00,  0.00000000e+00,  0.00000000e+00,\n",
            "         0.00000000e+00,  0.00000000e+00,  0.00000000e+00,\n",
            "         0.00000000e+00,  0.00000000e+00],\n",
            "       [ 1.81418531e+02,  1.81418532e+02,  1.81418528e+02,\n",
            "         1.81418533e+02,  1.81418530e+02, -5.23815000e+06,\n",
            "         1.95561419e+07,  5.01957923e+07, -3.92381902e+08,\n",
            "         1.02890092e+09, -1.33229500e+09,  1.03842106e+09,\n",
            "        -4.42533482e+08,  9.18544680e+07,  0.00000000e+00,\n",
            "         0.00000000e+00,  0.00000000e+00,  0.00000000e+00,\n",
            "         0.00000000e+00,  0.00000000e+00,  0.00000000e+00,\n",
            "         0.00000000e+00,  0.00000000e+00,  0.00000000e+00,\n",
            "         0.00000000e+00,  0.00000000e+00],\n",
            "       [ 1.81491113e+02,  1.81491113e+02,  1.81491113e+02,\n",
            "         1.81491113e+02,  1.81491113e+02,  1.81491113e+02,\n",
            "         1.23668678e+06, -2.87007637e+06, -1.34111688e+07,\n",
            "         7.60459329e+07, -1.40023244e+08,  1.41425076e+08,\n",
            "        -7.03236893e+07,  1.75428687e+07,  0.00000000e+00,\n",
            "         0.00000000e+00,  0.00000000e+00,  0.00000000e+00,\n",
            "         0.00000000e+00,  0.00000000e+00,  0.00000000e+00,\n",
            "         0.00000000e+00,  0.00000000e+00,  0.00000000e+00,\n",
            "         0.00000000e+00,  0.00000000e+00],\n",
            "       [ 1.81563724e+02,  1.81563724e+02,  1.81563724e+02,\n",
            "         1.81563724e+02,  1.81563724e+02,  1.81563724e+02,\n",
            "         1.81563724e+02, -2.59495077e+05,  3.56755717e+05,\n",
            "         3.60663315e+06, -1.23629946e+07,  1.77723051e+07,\n",
            "        -1.14175420e+07,  3.35043303e+06,  0.00000000e+00,\n",
            "         0.00000000e+00,  0.00000000e+00,  0.00000000e+00,\n",
            "         0.00000000e+00,  0.00000000e+00,  0.00000000e+00,\n",
            "         0.00000000e+00,  0.00000000e+00,  0.00000000e+00,\n",
            "         0.00000000e+00,  0.00000000e+00],\n",
            "       [ 1.81636364e+02,  1.81636364e+02,  1.81636364e+02,\n",
            "         1.81636364e+02,  1.81636364e+02,  1.81636364e+02,\n",
            "         1.81636364e+02,  1.81636364e+02,  6.14781664e+04,\n",
            "        -8.22774270e+03, -7.65601068e+05,  1.97202966e+06,\n",
            "        -1.75780294e+06,  6.39884026e+05,  0.00000000e+00,\n",
            "         0.00000000e+00,  0.00000000e+00,  0.00000000e+00,\n",
            "         0.00000000e+00,  0.00000000e+00,  0.00000000e+00,\n",
            "         0.00000000e+00,  0.00000000e+00,  0.00000000e+00,\n",
            "         0.00000000e+00,  0.00000000e+00],\n",
            "       [ 1.81709033e+02,  1.81709033e+02,  1.81709033e+02,\n",
            "         1.81709033e+02,  1.81709033e+02,  1.81709033e+02,\n",
            "         1.81709033e+02,  1.81709033e+02,  1.81709033e+02,\n",
            "        -1.27044981e+04, -1.09557706e+04,  1.67178876e+05,\n",
            "        -2.46935587e+05,  1.22208551e+05,  0.00000000e+00,\n",
            "         0.00000000e+00,  0.00000000e+00,  0.00000000e+00,\n",
            "         0.00000000e+00,  0.00000000e+00,  0.00000000e+00,\n",
            "         0.00000000e+00,  0.00000000e+00,  0.00000000e+00,\n",
            "         0.00000000e+00,  0.00000000e+00],\n",
            "       [ 1.81781731e+02,  1.81781731e+02,  1.81781731e+02,\n",
            "         1.81781731e+02,  1.81781731e+02,  1.81781731e+02,\n",
            "         1.81781731e+02,  1.81781731e+02,  1.81781731e+02,\n",
            "         1.81781731e+02,  3.22356393e+03,  6.57028385e+03,\n",
            "        -2.85239156e+04,  2.33400576e+04,  0.00000000e+00,\n",
            "         0.00000000e+00,  0.00000000e+00,  0.00000000e+00,\n",
            "         0.00000000e+00,  0.00000000e+00,  0.00000000e+00,\n",
            "         0.00000000e+00,  0.00000000e+00,  0.00000000e+00,\n",
            "         0.00000000e+00,  0.00000000e+00],\n",
            "       [ 1.81854458e+02,  1.81854458e+02,  1.81854458e+02,\n",
            "         1.81854458e+02,  1.81854458e+02,  1.81854458e+02,\n",
            "         1.81854458e+02,  1.81854458e+02,  1.81854458e+02,\n",
            "         1.81854458e+02,  1.81854458e+02, -4.75938131e+02,\n",
            "        -1.84104019e+03,  4.45761186e+03,  0.00000000e+00,\n",
            "         0.00000000e+00,  0.00000000e+00,  0.00000000e+00,\n",
            "         0.00000000e+00,  0.00000000e+00,  0.00000000e+00,\n",
            "         0.00000000e+00,  0.00000000e+00,  0.00000000e+00,\n",
            "         0.00000000e+00,  0.00000000e+00],\n",
            "       [ 1.81927215e+02,  1.81927215e+02,  1.81927215e+02,\n",
            "         1.81927215e+02,  1.81927215e+02,  1.81927215e+02,\n",
            "         1.81927215e+02,  1.81927215e+02,  1.81927215e+02,\n",
            "         1.81927215e+02,  1.81927215e+02,  1.81927215e+02,\n",
            "         3.37198798e+02,  8.51339096e+02,  0.00000000e+00,\n",
            "         0.00000000e+00,  0.00000000e+00,  0.00000000e+00,\n",
            "         0.00000000e+00,  0.00000000e+00,  0.00000000e+00,\n",
            "         0.00000000e+00,  0.00000000e+00,  0.00000000e+00,\n",
            "         0.00000000e+00,  0.00000000e+00],\n",
            "       [ 1.83098077e+02,  1.83357173e+02,  1.83677405e+02,\n",
            "         1.84073198e+02,  1.84562379e+02,  1.85166985e+02,\n",
            "         1.85914252e+02,  1.86837839e+02,  1.87979352e+02,\n",
            "         1.89390210e+02,  1.91133967e+02,  1.93289173e+02,\n",
            "         1.95952910e+02,  1.62593397e+02,  0.00000000e+00,\n",
            "         0.00000000e+00,  0.00000000e+00,  0.00000000e+00,\n",
            "         0.00000000e+00,  0.00000000e+00,  0.00000000e+00,\n",
            "         0.00000000e+00,  0.00000000e+00,  0.00000000e+00,\n",
            "         0.00000000e+00,  0.00000000e+00],\n",
            "       [ 1.72227118e+02,  1.69921157e+02,  1.67071092e+02,\n",
            "         1.63548541e+02,  1.59194826e+02,  1.53813830e+02,\n",
            "         1.47163161e+02,  1.38943233e+02,  1.28783771e+02,\n",
            "         1.16227132e+02,  1.00707692e+02,  8.15263603e+01,\n",
            "         5.78190970e+01,  2.85179851e+01,  0.00000000e+00,\n",
            "         0.00000000e+00,  0.00000000e+00,  0.00000000e+00,\n",
            "         0.00000000e+00,  0.00000000e+00,  0.00000000e+00,\n",
            "         0.00000000e+00,  0.00000000e+00,  0.00000000e+00,\n",
            "         0.00000000e+00,  0.00000000e+00]]), array([[ 180.        ,    0.        ,    0.        ,    0.        ,\n",
            "           0.        ,    0.        ,    0.        ,    0.        ,\n",
            "           0.        ,    0.        ,    0.        ,    0.        ,\n",
            "           0.        ,    0.        ,    0.        ,    0.        ,\n",
            "           0.        ,    0.        ,    0.        ,    0.        ,\n",
            "           0.        ,    0.        ,    0.        ,    0.        ,\n",
            "           0.        ,    0.        ],\n",
            "       [ 160.2       ,  198.        ,    0.        ,    0.        ,\n",
            "           0.        ,    0.        ,    0.        ,    0.        ,\n",
            "           0.        ,    0.        ,    0.        ,    0.        ,\n",
            "           0.        ,    0.        ,    0.        ,    0.        ,\n",
            "           0.        ,    0.        ,    0.        ,    0.        ,\n",
            "           0.        ,    0.        ,    0.        ,    0.        ,\n",
            "           0.        ,    0.        ],\n",
            "       [ 142.578     ,  176.22      ,  217.8       ,    0.        ,\n",
            "           0.        ,    0.        ,    0.        ,    0.        ,\n",
            "           0.        ,    0.        ,    0.        ,    0.        ,\n",
            "           0.        ,    0.        ,    0.        ,    0.        ,\n",
            "           0.        ,    0.        ,    0.        ,    0.        ,\n",
            "           0.        ,    0.        ,    0.        ,    0.        ,\n",
            "           0.        ,    0.        ],\n",
            "       [ 126.89442   ,  156.8358    ,  193.842     ,  239.58      ,\n",
            "           0.        ,    0.        ,    0.        ,    0.        ,\n",
            "           0.        ,    0.        ,    0.        ,    0.        ,\n",
            "           0.        ,    0.        ,    0.        ,    0.        ,\n",
            "           0.        ,    0.        ,    0.        ,    0.        ,\n",
            "           0.        ,    0.        ,    0.        ,    0.        ,\n",
            "           0.        ,    0.        ],\n",
            "       [ 112.9360338 ,  139.583862  ,  172.51938   ,  213.2262    ,\n",
            "         263.538     ,    0.        ,    0.        ,    0.        ,\n",
            "           0.        ,    0.        ,    0.        ,    0.        ,\n",
            "           0.        ,    0.        ,    0.        ,    0.        ,\n",
            "           0.        ,    0.        ,    0.        ,    0.        ,\n",
            "           0.        ,    0.        ,    0.        ,    0.        ,\n",
            "           0.        ,    0.        ],\n",
            "       [ 100.51307008,  124.22963718,  153.5422482 ,  189.771318  ,\n",
            "         234.54882   ,  289.8918    ,    0.        ,    0.        ,\n",
            "           0.        ,    0.        ,    0.        ,    0.        ,\n",
            "           0.        ,    0.        ,    0.        ,    0.        ,\n",
            "           0.        ,    0.        ,    0.        ,    0.        ,\n",
            "           0.        ,    0.        ,    0.        ,    0.        ,\n",
            "           0.        ,    0.        ],\n",
            "       [  89.45663237,  110.56437709,  136.6526009 ,  168.89647302,\n",
            "         208.7484498 ,  258.003702  ,  318.88098   ,    0.        ,\n",
            "           0.        ,    0.        ,    0.        ,    0.        ,\n",
            "           0.        ,    0.        ,    0.        ,    0.        ,\n",
            "           0.        ,    0.        ,    0.        ,    0.        ,\n",
            "           0.        ,    0.        ,    0.        ,    0.        ,\n",
            "           0.        ,    0.        ],\n",
            "       [  79.61640281,   98.40229561,  121.6208148 ,  150.31786099,\n",
            "         185.78612032,  229.62329478,  283.8040722 ,  350.769078  ,\n",
            "           0.        ,    0.        ,    0.        ,    0.        ,\n",
            "           0.        ,    0.        ,    0.        ,    0.        ,\n",
            "           0.        ,    0.        ,    0.        ,    0.        ,\n",
            "           0.        ,    0.        ,    0.        ,    0.        ,\n",
            "           0.        ,    0.        ],\n",
            "       [  70.8585985 ,   87.57804309,  108.24252517,  133.78289628,\n",
            "         165.34964709,  204.36473235,  252.58562426,  312.18447942,\n",
            "         385.8459858 ,    0.        ,    0.        ,    0.        ,\n",
            "           0.        ,    0.        ,    0.        ,    0.        ,\n",
            "           0.        ,    0.        ,    0.        ,    0.        ,\n",
            "           0.        ,    0.        ,    0.        ,    0.        ,\n",
            "           0.        ,    0.        ],\n",
            "       [  63.06415267,   77.94445835,   96.3358474 ,  119.06677769,\n",
            "         147.16118591,  181.8846118 ,  224.80120559,  277.84418668,\n",
            "         343.40292736,  424.43058438,    0.        ,    0.        ,\n",
            "           0.        ,    0.        ,    0.        ,    0.        ,\n",
            "           0.        ,    0.        ,    0.        ,    0.        ,\n",
            "           0.        ,    0.        ,    0.        ,    0.        ,\n",
            "           0.        ,    0.        ],\n",
            "       [  56.12709587,   69.37056793,   85.73890419,  105.96943214,\n",
            "         130.97345546,  161.8773045 ,  200.07307297,  247.28132615,\n",
            "         305.62860535,  377.7432201 ,  466.87364282,    0.        ,\n",
            "           0.        ,    0.        ,    0.        ,    0.        ,\n",
            "           0.        ,    0.        ,    0.        ,    0.        ,\n",
            "           0.        ,    0.        ,    0.        ,    0.        ,\n",
            "           0.        ,    0.        ],\n",
            "       [  49.95311533,   61.73980546,   76.30762473,   94.31279461,\n",
            "         116.56637536,  144.070801  ,  178.06503495,  220.08038027,\n",
            "         272.00945876,  336.19146589,  415.51754211,  513.5610071 ,\n",
            "           0.        ,    0.        ,    0.        ,    0.        ,\n",
            "           0.        ,    0.        ,    0.        ,    0.        ,\n",
            "           0.        ,    0.        ,    0.        ,    0.        ,\n",
            "           0.        ,    0.        ],\n",
            "       [  44.45827264,   54.94842686,   67.91378601,   83.9383872 ,\n",
            "         103.74407407,  128.22301289,  158.4778811 ,  195.87153844,\n",
            "         242.0884183 ,  299.21040464,  369.81061248,  457.06929632,\n",
            "         564.91710781,    0.        ,    0.        ,    0.        ,\n",
            "           0.        ,    0.        ,    0.        ,    0.        ,\n",
            "           0.        ,    0.        ,    0.        ,    0.        ,\n",
            "           0.        ,    0.        ],\n",
            "       [  39.56786265,   48.90409991,   60.44326955,   74.70516461,\n",
            "          92.33222592,  114.11848147,  141.04531418,  174.32566921,\n",
            "         215.45869229,  266.29726013,  329.1314451 ,  406.79167372,\n",
            "         502.77622595,  621.40881859,    0.        ,    0.        ,\n",
            "           0.        ,    0.        ,    0.        ,    0.        ,\n",
            "           0.        ,    0.        ,    0.        ,    0.        ,\n",
            "           0.        ,    0.        ],\n",
            "       [  35.21539776,   43.52464892,   53.7945099 ,   66.4875965 ,\n",
            "          82.17568107,  101.56544851,  125.53032962,  155.1498456 ,\n",
            "         191.75823614,  237.00456152,  292.92698614,  362.04458961,\n",
            "         447.4708411 ,  553.05384855,  683.54970045,    0.        ,\n",
            "           0.        ,    0.        ,    0.        ,    0.        ,\n",
            "           0.        ,    0.        ,    0.        ,    0.        ,\n",
            "           0.        ,    0.        ],\n",
            "       [  31.34170401,   38.73693754,   47.87711381,   59.17396089,\n",
            "          73.13635615,   90.39324918,  111.72199336,  138.08336258,\n",
            "         170.66483016,  210.93405975,  260.70501767,  322.21968476,\n",
            "         398.24904858,  492.21792521,  608.3592334 ,  751.90467049,\n",
            "           0.        ,    0.        ,    0.        ,    0.        ,\n",
            "           0.        ,    0.        ,    0.        ,    0.        ,\n",
            "           0.        ,    0.        ],\n",
            "       [  27.89411657,   34.47587441,   42.61063129,   52.66482519,\n",
            "          65.09135697,   80.44999177,   99.43257409,  122.8941927 ,\n",
            "         151.89169884,  187.73131318,  232.02746572,  286.77551943,\n",
            "         354.44165323,  438.07395343,  541.43971773,  669.19515674,\n",
            "         827.09513754,    0.        ,    0.        ,    0.        ,\n",
            "           0.        ,    0.        ,    0.        ,    0.        ,\n",
            "           0.        ,    0.        ],\n",
            "       [  24.82576374,   30.68352822,   37.92346185,   46.87169442,\n",
            "          57.93130771,   71.60049267,   88.49499094,  109.3758315 ,\n",
            "         135.18361197,  167.08086873,  206.50444449,  255.2302123 ,\n",
            "         315.45307138,  389.88581856,  481.88134878,  595.5836895 ,\n",
            "         736.11467241,  909.8046513 ,    0.        ,    0.        ,\n",
            "           0.        ,    0.        ,    0.        ,    0.        ,\n",
            "           0.        ,    0.        ],\n",
            "       [  22.09492973,   27.30834012,   33.75188104,   41.71580803,\n",
            "          51.55886386,   63.72443848,   78.76054194,   97.34449004,\n",
            "         120.31341465,  148.70197317,  183.7889556 ,  227.15488894,\n",
            "         280.75323353,  346.99837851,  428.87440041,  530.06948365,\n",
            "         655.14205845,  809.72613966, 1000.78511643,    0.        ,\n",
            "           0.        ,    0.        ,    0.        ,    0.        ,\n",
            "           0.        ,    0.        ],\n",
            "       [  19.66448746,   24.3044227 ,   30.03917413,   37.12706915,\n",
            "          45.88738884,   56.71475025,   70.09688233,   86.63659613,\n",
            "         107.07893904,  132.34475612,  163.57217048,  202.16785116,\n",
            "         249.87037784,  308.82855688,  381.69821637,  471.76184045,\n",
            "         583.07643202,  720.65626429,  890.69875362, 1100.86362807,\n",
            "           0.        ,    0.        ,    0.        ,    0.        ,\n",
            "           0.        ,    0.        ],\n",
            "       [  17.50139384,   21.63093621,   26.73486497,   33.04309154,\n",
            "          40.83977606,   50.47612772,   62.38622527,   77.10657056,\n",
            "          95.30025575,  117.78683295,  145.57923173,  179.92938753,\n",
            "         222.38463628,  274.85741562,  339.71141257,  419.868038  ,\n",
            "         518.9380245 ,  641.38407522,  792.72189072,  979.76862898,\n",
            "        1210.94999088,    0.        ,    0.        ,    0.        ,\n",
            "           0.        ,    0.        ],\n",
            "       [  15.57624052,   19.25153322,   23.79402983,   29.40835147,\n",
            "          36.3474007 ,   44.92375367,   55.52374049,   68.6248478 ,\n",
            "          84.81722761,  104.83028132,  129.56551624,  160.1371549 ,\n",
            "         197.92232629,  244.6230999 ,  302.34315718,  373.68255382,\n",
            "         461.8548418 ,  570.83182695,  705.52248274,  871.9940798 ,\n",
            "        1077.74549188, 1332.04498997,    0.        ,    0.        ,\n",
            "           0.        ,    0.        ],\n",
            "       [  13.86285406,   17.13386457,   21.17668655,   26.17343281,\n",
            "          32.34918662,   39.98214077,   49.41612904,   61.07611454,\n",
            "          75.48733258,   93.29895038,  115.31330945,  142.52206786,\n",
            "         176.15087039,  217.71455891,  269.08540989,  332.5774729 ,\n",
            "         411.0508092 ,  508.04032598,  627.91500964,  776.07473102,\n",
            "         959.19348777, 1185.52004107, 1465.24948896,    0.        ,\n",
            "           0.        ,    0.        ],\n",
            "       [  12.33794011,   15.24913947,   18.84725103,   23.2943552 ,\n",
            "          28.79077609,   35.58410528,   43.98035484,   54.35774194,\n",
            "          67.18372599,   83.03606583,  102.62884541,  126.8446404 ,\n",
            "         156.77427465,  193.76595743,  239.4860148 ,  295.99395088,\n",
            "         365.83522019,  452.15589012,  558.84435858,  690.70651061,\n",
            "         853.68220412, 1055.11283655, 1304.07204518, 1611.77443786,\n",
            "           0.        ,    0.        ],\n",
            "       [  10.9807667 ,   13.57173413,   16.77405341,   20.73197613,\n",
            "          25.62379072,   31.6698537 ,   39.14251581,   48.37839033,\n",
            "          59.79351613,   73.90209859,   91.33967242,  112.89172996,\n",
            "         139.52910444,  172.45170212,  213.14255318,  263.43461629,\n",
            "         325.59334597,  402.41874221,  497.37147914,  614.72879444,\n",
            "         759.77716167,  939.05042453, 1160.62412021, 1434.47924969,\n",
            "        1772.95188165,    0.        ],\n",
            "       [   9.77288236,   12.07884337,   14.92890754,   18.45145875,\n",
            "          22.80517374,   28.18616979,   34.83683907,   43.05676739,\n",
            "          53.21622936,   65.77286775,   81.29230845,  100.47363966,\n",
            "         124.18090295,  153.48201488,  189.69687233,  234.45680849,\n",
            "         289.77807791,  358.15268057,  442.66061643,  547.10862705,\n",
            "         676.20167388,  835.75487783, 1032.95546698, 1276.68653223,\n",
            "        1577.92717466, 1950.24706981]]), array([[ 1.04507503e+22,  0.00000000e+00,  0.00000000e+00,\n",
            "         0.00000000e+00,  0.00000000e+00,  0.00000000e+00,\n",
            "         0.00000000e+00,  0.00000000e+00,  0.00000000e+00,\n",
            "         0.00000000e+00,  0.00000000e+00,  0.00000000e+00,\n",
            "         0.00000000e+00,  0.00000000e+00,  0.00000000e+00,\n",
            "         0.00000000e+00,  0.00000000e+00,  0.00000000e+00,\n",
            "         0.00000000e+00,  0.00000000e+00,  0.00000000e+00,\n",
            "         0.00000000e+00,  0.00000000e+00,  0.00000000e+00,\n",
            "         0.00000000e+00,  0.00000000e+00],\n",
            "       [ 9.72330842e+20, -1.23730713e+21,  0.00000000e+00,\n",
            "         0.00000000e+00,  0.00000000e+00,  0.00000000e+00,\n",
            "         0.00000000e+00,  0.00000000e+00,  0.00000000e+00,\n",
            "         0.00000000e+00,  0.00000000e+00,  0.00000000e+00,\n",
            "         0.00000000e+00,  0.00000000e+00,  0.00000000e+00,\n",
            "         0.00000000e+00,  0.00000000e+00,  0.00000000e+00,\n",
            "         0.00000000e+00,  0.00000000e+00,  0.00000000e+00,\n",
            "         0.00000000e+00,  0.00000000e+00,  0.00000000e+00,\n",
            "         0.00000000e+00,  0.00000000e+00],\n",
            "       [ 8.41676106e+19, -1.20488932e+20,  1.41791919e+20,\n",
            "         0.00000000e+00,  0.00000000e+00,  0.00000000e+00,\n",
            "         0.00000000e+00,  0.00000000e+00,  0.00000000e+00,\n",
            "         0.00000000e+00,  0.00000000e+00,  0.00000000e+00,\n",
            "         0.00000000e+00,  0.00000000e+00,  0.00000000e+00,\n",
            "         0.00000000e+00,  0.00000000e+00,  0.00000000e+00,\n",
            "         0.00000000e+00,  0.00000000e+00,  0.00000000e+00,\n",
            "         0.00000000e+00,  0.00000000e+00,  0.00000000e+00,\n",
            "         0.00000000e+00,  0.00000000e+00],\n",
            "       [ 6.66784091e+18, -1.09497168e+19,  1.45468129e+19,\n",
            "        -1.56262996e+19,  0.00000000e+00,  0.00000000e+00,\n",
            "         0.00000000e+00,  0.00000000e+00,  0.00000000e+00,\n",
            "         0.00000000e+00,  0.00000000e+00,  0.00000000e+00,\n",
            "         0.00000000e+00,  0.00000000e+00,  0.00000000e+00,\n",
            "         0.00000000e+00,  0.00000000e+00,  0.00000000e+00,\n",
            "         0.00000000e+00,  0.00000000e+00,  0.00000000e+00,\n",
            "         0.00000000e+00,  0.00000000e+00,  0.00000000e+00,\n",
            "         0.00000000e+00,  0.00000000e+00],\n",
            "       [ 4.71752714e+17, -9.14253187e+17,  1.39916430e+18,\n",
            "        -1.68429063e+18,  1.63809529e+18,  0.00000000e+00,\n",
            "         0.00000000e+00,  0.00000000e+00,  0.00000000e+00,\n",
            "         0.00000000e+00,  0.00000000e+00,  0.00000000e+00,\n",
            "         0.00000000e+00,  0.00000000e+00,  0.00000000e+00,\n",
            "         0.00000000e+00,  0.00000000e+00,  0.00000000e+00,\n",
            "         0.00000000e+00,  0.00000000e+00,  0.00000000e+00,\n",
            "         0.00000000e+00,  0.00000000e+00,  0.00000000e+00,\n",
            "         0.00000000e+00,  0.00000000e+00],\n",
            "       [ 2.86210608e+16, -6.85597170e+16,  1.24351144e+17,\n",
            "        -1.70776185e+17,  1.86513962e+17, -1.64361909e+17,\n",
            "         0.00000000e+00,  0.00000000e+00,  0.00000000e+00,\n",
            "         0.00000000e+00,  0.00000000e+00,  0.00000000e+00,\n",
            "         0.00000000e+00,  0.00000000e+00,  0.00000000e+00,\n",
            "         0.00000000e+00,  0.00000000e+00,  0.00000000e+00,\n",
            "         0.00000000e+00,  0.00000000e+00,  0.00000000e+00,\n",
            "         0.00000000e+00,  0.00000000e+00,  0.00000000e+00,\n",
            "         0.00000000e+00,  0.00000000e+00],\n",
            "       [ 1.37128196e+15, -4.45165929e+15,  1.00026088e+16,\n",
            "        -1.60640186e+16,  2.00829472e+16, -1.97445995e+16,\n",
            "         1.54030067e+16,  0.00000000e+00,  0.00000000e+00,\n",
            "         0.00000000e+00,  0.00000000e+00,  0.00000000e+00,\n",
            "         0.00000000e+00,  0.00000000e+00,  0.00000000e+00,\n",
            "         0.00000000e+00,  0.00000000e+00,  0.00000000e+00,\n",
            "         0.00000000e+00,  0.00000000e+00,  0.00000000e+00,\n",
            "         0.00000000e+00,  0.00000000e+00,  0.00000000e+00,\n",
            "         0.00000000e+00,  0.00000000e+00],\n",
            "       [ 4.01448299e+13, -2.33342147e+14,  7.05130798e+14,\n",
            "        -1.37472548e+15,  2.01856725e+15, -2.25265768e+15,\n",
            "         1.95328874e+15, -1.35204888e+15,  0.00000000e+00,\n",
            "         0.00000000e+00,  0.00000000e+00,  0.00000000e+00,\n",
            "         0.00000000e+00,  0.00000000e+00,  0.00000000e+00,\n",
            "         0.00000000e+00,  0.00000000e+00,  0.00000000e+00,\n",
            "         0.00000000e+00,  0.00000000e+00,  0.00000000e+00,\n",
            "         0.00000000e+00,  0.00000000e+00,  0.00000000e+00,\n",
            "         0.00000000e+00,  0.00000000e+00],\n",
            "       [-5.55009284e+11, -8.16794633e+12,  4.10945281e+13,\n",
            "        -1.03920163e+14,  1.85985784e+14, -2.41047937e+14,\n",
            "         2.37389900e+14, -1.81767142e+14,  1.08369589e+14,\n",
            "         0.00000000e+00,  0.00000000e+00,  0.00000000e+00,\n",
            "         0.00000000e+00,  0.00000000e+00,  0.00000000e+00,\n",
            "         0.00000000e+00,  0.00000000e+00,  0.00000000e+00,\n",
            "         0.00000000e+00,  0.00000000e+00,  0.00000000e+00,\n",
            "         0.00000000e+00,  0.00000000e+00,  0.00000000e+00,\n",
            "         0.00000000e+00,  0.00000000e+00],\n",
            "       [-1.45089751e+11, -1.14344808e+10,  1.72319374e+12,\n",
            "        -6.59116040e+12,  1.53012173e+13, -2.37693354e+13,\n",
            "         2.72774319e+13, -2.36470232e+13,  1.55684083e+13,\n",
            "        -7.86775314e+12,  0.00000000e+00,  0.00000000e+00,\n",
            "         0.00000000e+00,  0.00000000e+00,  0.00000000e+00,\n",
            "         0.00000000e+00,  0.00000000e+00,  0.00000000e+00,\n",
            "         0.00000000e+00,  0.00000000e+00,  0.00000000e+00,\n",
            "         0.00000000e+00,  0.00000000e+00,  0.00000000e+00,\n",
            "         0.00000000e+00,  0.00000000e+00],\n",
            "       [-8.28531557e+09,  2.21824326e+10,  2.46361626e+10,\n",
            "        -3.13462983e+11,  1.07530348e+12, -2.10825401e+12,\n",
            "         2.91155937e+12, -2.91615370e+12,  2.15499825e+12,\n",
            "        -1.20004991e+12,  4.88294507e+11,  0.00000000e+00,\n",
            "         0.00000000e+00,  0.00000000e+00,  0.00000000e+00,\n",
            "         0.00000000e+00,  0.00000000e+00,  0.00000000e+00,\n",
            "         0.00000000e+00,  0.00000000e+00,  0.00000000e+00,\n",
            "         0.00000000e+00,  0.00000000e+00,  0.00000000e+00,\n",
            "         0.00000000e+00,  0.00000000e+00],\n",
            "       [-2.03219696e+08,  1.55433373e+09, -3.08808824e+09,\n",
            "        -7.20181153e+09,  5.90382482e+10, -1.61581345e+11,\n",
            "         2.82633484e+11, -3.35972003e+11,  2.84888360e+11,\n",
            "        -1.77624627e+11,  7.98945813e+10, -2.48887399e+10,\n",
            "         0.00000000e+00,  0.00000000e+00,  0.00000000e+00,\n",
            "         0.00000000e+00,  0.00000000e+00,  0.00000000e+00,\n",
            "         0.00000000e+00,  0.00000000e+00,  0.00000000e+00,\n",
            "         0.00000000e+00,  0.00000000e+00,  0.00000000e+00,\n",
            "         0.00000000e+00,  0.00000000e+00],\n",
            "       [ 3.45163674e-04,  4.36089989e+07, -2.65346555e+08,\n",
            "         3.77432388e+08,  1.92287212e+09, -9.91313588e+09,\n",
            "         2.40866716e+10, -3.54884102e+10,  3.57379016e+10,\n",
            "        -2.53964099e+10,  1.27201327e+10, -4.42447873e+09,\n",
            "         9.16406303e+08,  0.00000000e+00,  0.00000000e+00,\n",
            "         0.00000000e+00,  0.00000000e+00,  0.00000000e+00,\n",
            "         0.00000000e+00,  0.00000000e+00,  0.00000000e+00,\n",
            "         0.00000000e+00,  0.00000000e+00,  0.00000000e+00,\n",
            "         0.00000000e+00,  0.00000000e+00],\n",
            "       [ 3.55446111e-05, -3.85242050e-05, -8.32535484e+06,\n",
            "         4.77799097e+07, -3.32134634e+07, -3.96641049e+08,\n",
            "         1.69081373e+09, -3.32680613e+09,  4.16637328e+09,\n",
            "        -3.50263786e+09,  2.00131858e+09, -7.72096303e+08,\n",
            "         1.77354426e+08, -1.92975833e+07,  0.00000000e+00,\n",
            "         0.00000000e+00,  0.00000000e+00,  0.00000000e+00,\n",
            "         0.00000000e+00,  0.00000000e+00,  0.00000000e+00,\n",
            "         0.00000000e+00,  0.00000000e+00,  0.00000000e+00,\n",
            "         0.00000000e+00,  0.00000000e+00],\n",
            "       [ 3.12358046e-06, -4.50395241e-06,  3.76297275e-06,\n",
            "         1.78654135e+06, -7.83566193e+06,  9.89170122e+02,\n",
            "         8.41294100e+07, -2.61524774e+08,  4.38477179e+08,\n",
            "        -4.52732180e+08,  3.02383920e+08, -1.31766983e+08,\n",
            "         3.39174836e+07, -4.14107642e+06,  0.00000000e+00,\n",
            "         0.00000000e+00,  0.00000000e+00,  0.00000000e+00,\n",
            "         0.00000000e+00,  0.00000000e+00,  0.00000000e+00,\n",
            "         0.00000000e+00,  0.00000000e+00,  0.00000000e+00,\n",
            "         0.00000000e+00,  0.00000000e+00],\n",
            "       [ 2.07859508e-07, -4.62430920e-07,  5.04074099e-07,\n",
            "        -3.03423788e-07, -3.41067516e+05,  1.30616012e+06,\n",
            "         1.30594785e+06, -1.52626123e+07,  3.96567555e+07,\n",
            "        -5.33047633e+07,  4.33022893e+07, -2.18862000e+07,\n",
            "         6.38973158e+06, -8.88635310e+05,  0.00000000e+00,\n",
            "         0.00000000e+00,  0.00000000e+00,  0.00000000e+00,\n",
            "         0.00000000e+00,  0.00000000e+00,  0.00000000e+00,\n",
            "         0.00000000e+00,  0.00000000e+00,  0.00000000e+00,\n",
            "         0.00000000e+00,  0.00000000e+00],\n",
            "       [ 4.67072177e-09, -3.99339356e-08,  5.92993073e-08,\n",
            "        -4.88701630e-08,  1.62416737e-08,  7.31898200e+04,\n",
            "        -1.96676141e+05, -4.08446300e+05,  2.80453904e+06,\n",
            "        -5.48070978e+06,  5.77617004e+06, -3.51608622e+06,\n",
            "         1.18048253e+06, -1.90692621e+05,  0.00000000e+00,\n",
            "         0.00000000e+00,  0.00000000e+00,  0.00000000e+00,\n",
            "         0.00000000e+00,  0.00000000e+00,  0.00000000e+00,\n",
            "         0.00000000e+00,  0.00000000e+00,  0.00000000e+00,\n",
            "         0.00000000e+00,  0.00000000e+00],\n",
            "       [-1.49690970e-09, -2.49920227e-09,  6.07023902e-09,\n",
            "        -6.65482337e-09,  3.83224527e-09,  3.46936785e-10,\n",
            "        -1.39731686e+04,  2.68297626e+04,  1.14478424e+05,\n",
            "        -4.55143950e+05,  6.94907209e+05, -5.44603520e+05,\n",
            "         2.22929168e+05, -4.09208087e+04,  0.00000000e+00,\n",
            "         0.00000000e+00,  0.00000000e+00,  0.00000000e+00,\n",
            "         0.00000000e+00,  0.00000000e+00,  0.00000000e+00,\n",
            "         0.00000000e+00,  0.00000000e+00,  0.00000000e+00,\n",
            "         0.00000000e+00,  0.00000000e+00],\n",
            "       [-3.43288813e-10, -2.20643304e-11,  5.14240867e-10,\n",
            "        -7.88375173e-10,  6.39686303e-10, -1.82677025e-10,\n",
            "        -2.57126410e-10,  2.99850806e+03, -2.75890184e+03,\n",
            "        -2.42534754e+04,  7.09310130e+04, -7.81894137e+04,\n",
            "         4.06675885e+04, -8.78121334e+03,  0.00000000e+00,\n",
            "         0.00000000e+00,  0.00000000e+00,  0.00000000e+00,\n",
            "         0.00000000e+00,  0.00000000e+00,  0.00000000e+00,\n",
            "         0.00000000e+00,  0.00000000e+00,  0.00000000e+00,\n",
            "         0.00000000e+00,  0.00000000e+00],\n",
            "       [-4.81295496e-11,  2.55375742e-11,  3.02724488e-11,\n",
            "        -8.00775880e-11,  8.90992204e-11, -4.81709427e-11,\n",
            "        -8.97039162e-12,  4.62059947e-11, -5.73062189e+02,\n",
            "         6.29210716e+01,  5.18584684e+03, -9.75414056e+03,\n",
            "         7.03496448e+03, -1.88436422e+03,  0.00000000e+00,\n",
            "         0.00000000e+00,  0.00000000e+00,  0.00000000e+00,\n",
            "         0.00000000e+00,  0.00000000e+00,  0.00000000e+00,\n",
            "         0.00000000e+00,  0.00000000e+00,  0.00000000e+00,\n",
            "         0.00000000e+00,  0.00000000e+00],\n",
            "       [-4.84870546e-12,  5.48099859e-12,  0.00000000e+00,\n",
            "        -6.49611059e-12,  1.06875280e-11, -8.43267805e-12,\n",
            "         1.90474441e-12,  3.82996018e-12, -6.08537941e-12,\n",
            "         1.22973653e+02,  1.09471394e+02, -9.28782328e+02,\n",
            "         1.11055919e+03, -4.04366501e+02,  0.00000000e+00,\n",
            "         0.00000000e+00,  0.00000000e+00,  0.00000000e+00,\n",
            "         0.00000000e+00,  0.00000000e+00,  0.00000000e+00,\n",
            "         0.00000000e+00,  0.00000000e+00,  0.00000000e+00,\n",
            "         0.00000000e+00,  0.00000000e+00],\n",
            "       [-1.82468352e-13,  8.57680247e-13, -3.18530428e-13,\n",
            "        -3.17547948e-13,  1.07610682e-12, -1.21712793e-12,\n",
            "         5.92322811e-13,  1.83413988e-13, -6.38273508e-13,\n",
            "         6.67474521e-13, -2.41757665e+01, -4.05932401e+01,\n",
            "         1.51542182e+02, -8.67731754e+01,  0.00000000e+00,\n",
            "         0.00000000e+00,  0.00000000e+00,  0.00000000e+00,\n",
            "         0.00000000e+00,  0.00000000e+00,  0.00000000e+00,\n",
            "         0.00000000e+00,  0.00000000e+00,  0.00000000e+00,\n",
            "         0.00000000e+00,  0.00000000e+00],\n",
            "       [ 8.78659803e-14,  1.26385006e-13, -5.75195396e-14,\n",
            "         1.03418970e-14,  7.94915812e-14, -1.52327169e-13,\n",
            "         1.09552469e-13, -1.77275813e-14, -5.73728996e-14,\n",
            "         7.97841885e-14, -6.33789768e-14,  5.18788777e+00,\n",
            "         1.38988080e+01, -1.86206918e+01,  0.00000000e+00,\n",
            "         0.00000000e+00,  0.00000000e+00,  0.00000000e+00,\n",
            "         0.00000000e+00,  0.00000000e+00,  0.00000000e+00,\n",
            "         0.00000000e+00,  0.00000000e+00,  0.00000000e+00,\n",
            "         0.00000000e+00,  0.00000000e+00],\n",
            "       [ 1.00000000e-01,  1.00000000e-01,  1.00000000e-01,\n",
            "         1.00000000e-01,  1.00000000e-01,  1.00000000e-01,\n",
            "         1.00000000e-01,  1.00000000e-01,  1.00000000e-01,\n",
            "         1.00000000e-01,  1.00000000e-01,  1.00000000e-01,\n",
            "        -1.01327099e+00, -3.99582198e+00,  0.00000000e+00,\n",
            "         0.00000000e+00,  0.00000000e+00,  0.00000000e+00,\n",
            "         0.00000000e+00,  0.00000000e+00,  0.00000000e+00,\n",
            "         0.00000000e+00,  0.00000000e+00,  0.00000000e+00,\n",
            "         0.00000000e+00,  0.00000000e+00],\n",
            "       [-1.00000000e+00, -1.00000000e+00, -1.00000000e+00,\n",
            "        -1.00000000e+00, -1.00000000e+00, -1.00000000e+00,\n",
            "        -1.00000000e+00, -1.00000000e+00, -1.00000000e+00,\n",
            "        -1.00000000e+00, -1.00000000e+00, -1.00000000e+00,\n",
            "        -1.00000000e+00, -7.87466447e-01,  0.00000000e+00,\n",
            "         0.00000000e+00,  0.00000000e+00,  0.00000000e+00,\n",
            "         0.00000000e+00,  0.00000000e+00,  0.00000000e+00,\n",
            "         0.00000000e+00,  0.00000000e+00,  0.00000000e+00,\n",
            "         0.00000000e+00,  0.00000000e+00],\n",
            "       [ 0.00000000e+00,  0.00000000e+00,  0.00000000e+00,\n",
            "         0.00000000e+00,  0.00000000e+00,  0.00000000e+00,\n",
            "         0.00000000e+00,  0.00000000e+00,  0.00000000e+00,\n",
            "         0.00000000e+00,  0.00000000e+00,  0.00000000e+00,\n",
            "         0.00000000e+00,  0.00000000e+00, -1.00000000e+00,\n",
            "        -1.00000000e+00, -1.00000000e+00, -1.00000000e+00,\n",
            "        -1.00000000e+00, -1.00000000e+00, -1.00000000e+00,\n",
            "        -1.00000000e+00, -1.00000000e+00, -1.00000000e+00,\n",
            "        -1.00000000e+00, -1.00000000e+00]]))\n"
          ]
        }
      ],
      "source": [
        "# @title\n",
        "import numpy as np\n",
        "\n",
        "def asian_at_the_money_put(S_ini, K, T, r, u, d, N, M):\n",
        "    dt = T / N  # Define time step\n",
        "    p = (np.exp(r * dt) - d) / (u - d)  # Risk-neutral probabilities\n",
        "\n",
        "    S = np.zeros([N + 1, N + 1])  # Underlying price matrix\n",
        "    C = np.zeros([N + 1, N + 1])  # Option price matrix\n",
        "    A = np.zeros([N + 1, N + 1])  # Asian price matrix\n",
        "    delta = np.zeros([N + 1, N + 1])  # Delta matrix\n",
        "\n",
        "    for i in range(0, N + 1):\n",
        "        S[N, i] = S_ini * (u ** i) * (d ** (N - i))\n",
        "        C[N, i] = max(K - S[N, i], 0)  # At-the-money put option payoff\n",
        "        A[N, i] = S[N, i]  # Asian option payoff\n",
        "        delta[N, i] = -np.where(S[N, i] > K, 1, 0)  # Initial delta\n",
        "\n",
        "    for j in range(N - 1, -1, -1):\n",
        "        for i in range(0, j + 1):\n",
        "            S[j, i] = S_ini * (u ** i) * (d ** (j - i))\n",
        "            A[j, i] = (M * A[j + 1, i] + S[j, i]) / (M + 1)  # Asian option average price\n",
        "            C[j, i] = np.exp(-r * dt) * (p * C[j + 1, i + 1] + (1 - p) * C[j + 1, i])  # Option price\n",
        "\n",
        "            if A[j, i] < K:\n",
        "                C[j, i] = max(K - A[j, i], C[j, i])  # Decision between Asian option price and payoff\n",
        "\n",
        "            delta[j, i] = (C[j + 1, i + 1] - C[j + 1, i]) / (S[j, i] * (u - d))  # Delta calculation\n",
        "\n",
        "            C[j, i] -= delta[j, i] * S[j, i]  # Adjust option price based on delta hedging\n",
        "\n",
        "    return C[0, 0], C, S, delta\n",
        "\n",
        "# New parameter values\n",
        "S_ini = 180     # Initial underlying price\n",
        "K = 182         # Strike price\n",
        "T = 0.5         # Time to expiration (6 months in years)\n",
        "r = 0.02        # Risk-free interest rate\n",
        "u = 1.1         # Up factor\n",
        "d = 0.89        # Down factor\n",
        "N = 25          # Number of time steps\n",
        "M = 10          # Number of averaging periods for Asian option\n",
        "\n",
        "option_price = asian_at_the_money_put(S_ini, K, T, r, u, d, N, M)\n",
        "print(\"Asian At-The-Money Put Option Price with Delta Hedging:\", option_price)\n"
      ]
    },
    {
      "cell_type": "markdown",
      "source": [
        "(b) Show the evolution of the cash-account throughout the different steps for\n",
        "one path of your choice."
      ],
      "metadata": {
        "id": "62uFDZoVJmD0"
      }
    },
    {
      "cell_type": "code",
      "source": [
        "# @title\n",
        "import numpy as np\n",
        "\n",
        "def asian_at_the_money_put(S_ini, K, T, r, u, d, N, M):\n",
        "    dt = T / N  # Define time step\n",
        "    p = (np.exp(r * dt) - d) / (u - d)  # Risk-neutral probabilities\n",
        "\n",
        "    S = np.zeros([N + 1, N + 1])  # Underlying price matrix\n",
        "    C = np.zeros([N + 1, N + 1])  # Option price matrix\n",
        "    A = np.zeros([N + 1, N + 1])  # Asian price matrix\n",
        "    delta = np.zeros([N + 1, N + 1])  # Delta matrix\n",
        "    cash_account = np.zeros([N + 1, N + 1])  # Cash account matrix\n",
        "\n",
        "    for i in range(0, N + 1):\n",
        "        S[N, i] = S_ini * (u ** i) * (d ** (N - i))\n",
        "        C[N, i] = max(K - S[N, i], 0)  # At-the-money put option payoff\n",
        "        A[N, i] = S[N, i]  # Asian option payoff\n",
        "        delta[N, i] = -np.where(S[N, i] > K, 1, 0)  # Initial delta\n",
        "        cash_account[N, i] = -C[N, i] - delta[N, i] * S[N, i]  # Initial cash account\n",
        "\n",
        "    for j in range(N - 1, -1, -1):\n",
        "        for i in range(0, j + 1):\n",
        "            S[j, i] = S_ini * (u ** i) * (d ** (j - i))\n",
        "            A[j, i] = (M * A[j + 1, i] + S[j, i]) / (M + 1)  # Asian option average price\n",
        "            C[j, i] = np.exp(-r * dt) * (p * C[j + 1, i + 1] + (1 - p) * C[j + 1, i])  # Option price\n",
        "\n",
        "            if A[j, i] < K:\n",
        "                C[j, i] = max(K - A[j, i], C[j, i])  # Decision between Asian option price and payoff\n",
        "\n",
        "            delta[j, i] = (C[j + 1, i + 1] - C[j + 1, i]) / (S[j, i] * (u - d))  # Delta calculation\n",
        "            cash_account[j, i] = np.exp(r * dt) * (cash_account[j + 1, i] * (1 + r * dt) + delta[j, i] * S[j, i] - C[j, i])  # Cash account evolution\n",
        "\n",
        "    return C[0, 0], cash_account\n",
        "\n",
        "# New parameter values\n",
        "S_ini = 180     # Initial underlying price\n",
        "K = 182         # Strike price\n",
        "T = 0.5         # Time to expiration (6 months in years)\n",
        "r = 0.02        # Risk-free interest rate\n",
        "u = 1.1         # Up factor\n",
        "d = 0.89        # Down factor\n",
        "N = 25          # Number of time steps\n",
        "M = 10          # Number of averaging periods for Asian option\n",
        "\n",
        "option_price, cash_account = asian_at_the_money_put(S_ini, K, T, r, u, d, N, M)\n",
        "print(\"Asian At-The-Money Put Option Price with Delta Hedging:\", option_price)\n",
        "print(\"Cash Account Evolution:\")\n",
        "print(cash_account)\n"
      ],
      "metadata": {
        "colab": {
          "base_uri": "https://localhost:8080/"
        },
        "id": "yPjPRnHqIRDk",
        "outputId": "f331acda-9337-4921-eba9-a59fc02444d0",
        "cellView": "form"
      },
      "execution_count": null,
      "outputs": [
        {
          "output_type": "stream",
          "name": "stdout",
          "text": [
            "Asian At-The-Money Put Option Price with Delta Hedging: 95.81323917800923\n",
            "Cash Account Evolution:\n",
            "[[-4782.62093686     0.             0.             0.\n",
            "      0.             0.             0.             0.\n",
            "      0.             0.             0.             0.\n",
            "      0.             0.             0.             0.\n",
            "      0.             0.             0.             0.\n",
            "      0.             0.             0.             0.\n",
            "      0.             0.        ]\n",
            " [-4596.75808491 -4597.00159134     0.             0.\n",
            "      0.             0.             0.             0.\n",
            "      0.             0.             0.             0.\n",
            "      0.             0.             0.             0.\n",
            "      0.             0.             0.             0.\n",
            "      0.             0.             0.             0.\n",
            "      0.             0.        ]\n",
            " [-4411.03270511 -4411.24709295 -4410.95271832     0.\n",
            "      0.             0.             0.             0.\n",
            "      0.             0.             0.             0.\n",
            "      0.             0.             0.             0.\n",
            "      0.             0.             0.             0.\n",
            "      0.             0.             0.             0.\n",
            "      0.             0.        ]\n",
            " [-4225.44357314 -4225.62597329 -4225.85141168 -4221.98364702\n",
            "      0.             0.             0.             0.\n",
            "      0.             0.             0.             0.\n",
            "      0.             0.             0.             0.\n",
            "      0.             0.             0.             0.\n",
            "      0.             0.             0.             0.\n",
            "      0.             0.        ]\n",
            " [-4039.98935423 -4040.13661064 -4040.31861295 -4040.54355963\n",
            "  -4029.49056654     0.             0.             0.\n",
            "      0.             0.             0.             0.\n",
            "      0.             0.             0.             0.\n",
            "      0.             0.             0.             0.\n",
            "      0.             0.             0.             0.\n",
            "      0.             0.        ]\n",
            " [-3854.66859211 -3854.77723309 -3854.91150847 -3855.07746681\n",
            "  -3855.28258385 -3824.42741834     0.             0.\n",
            "      0.             0.             0.             0.\n",
            "      0.             0.             0.             0.\n",
            "      0.             0.             0.             0.\n",
            "      0.             0.             0.             0.\n",
            "      0.             0.        ]\n",
            " [-3669.47969681 -3669.54590348 -3669.62773195 -3669.72886826\n",
            "  -3669.85386819 -3664.95628569 -3608.0695832      0.\n",
            "      0.             0.             0.             0.\n",
            "      0.             0.             0.             0.\n",
            "      0.             0.             0.             0.\n",
            "      0.             0.             0.             0.\n",
            "      0.             0.        ]\n",
            " [-3484.42093134 -3484.44050288 -3484.46469242 -3484.4945896\n",
            "  -3484.53154118 -3484.57721167 -3468.40078574 -3363.6550972\n",
            "      0.             0.             0.             0.\n",
            "      0.             0.             0.             0.\n",
            "      0.             0.             0.             0.\n",
            "      0.             0.             0.             0.\n",
            "      0.             0.        ]\n",
            " [-3299.49039691 -3299.45871239 -3299.41955174 -3299.37115093\n",
            "  -3299.31132972 -3299.23739338 -3299.14601139 -3250.8700479\n",
            "  -3094.37307468     0.             0.             0.\n",
            "      0.             0.             0.             0.\n",
            "      0.             0.             0.             0.\n",
            "      0.             0.             0.             0.\n",
            "      0.             0.        ]\n",
            " [-3114.68601679 -3114.59799315 -3114.48919988 -3114.35473629\n",
            "  -3114.18854533 -3113.98314078 -3113.72926999 -3104.74085723\n",
            "  -3011.88308744 -2776.31196254     0.             0.\n",
            "      0.             0.             0.             0.\n",
            "      0.             0.             0.             0.\n",
            "      0.             0.             0.             0.\n",
            "      0.             0.        ]\n",
            " [-2930.0055185  -2929.85556433 -2929.67022773 -2929.44116002\n",
            "  -2929.15804262 -2928.80812224 -2928.37563638 -2927.8411033\n",
            "  -2896.18351089 -2724.0356891  -2418.02103317     0.\n",
            "      0.             0.             0.             0.\n",
            "      0.             0.             0.             0.\n",
            "      0.             0.             0.             0.\n",
            "      0.             0.        ]\n",
            " [-2745.44641418 -2745.22837894 -2744.95889717 -2744.62582982\n",
            "  -2744.21417354 -2743.70538488 -2743.07654497 -2742.2993271\n",
            "  -2739.96192719 -2645.12136327 -2390.06298546 -2002.2721254\n",
            "      0.             0.             0.             0.\n",
            "      0.             0.             0.             0.\n",
            "      0.             0.             0.             0.\n",
            "      0.             0.        ]\n",
            " [-2561.00597914 -2560.71309714 -2560.35110816 -2559.90370605\n",
            "  -2559.35073714 -2558.66729243 -2557.82258548 -2556.77856565\n",
            "  -2555.48820407 -2529.55644015 -2344.47939564 -1990.5481536\n",
            "  -1486.46975375     0.             0.             0.\n",
            "      0.             0.             0.             0.\n",
            "      0.             0.             0.             0.\n",
            "      0.             0.        ]\n",
            " [-2376.68122804 -2376.30605704 -2375.84236254 -2375.26925697\n",
            "  -2374.56092426 -2373.68545686 -2372.60341849 -2371.26606771\n",
            "  -2369.61316225 -2367.57024538 -2271.03189032 -1970.42172244\n",
            "  -1482.7394393   -677.29185802     0.             0.\n",
            "      0.             0.             0.             0.\n",
            "      0.             0.             0.             0.\n",
            "      0.             0.        ]\n",
            " [-2192.46888893 -2192.00324239 -2191.4277242  -2190.71640959\n",
            "  -2189.83725669 -2188.75066323 -2187.40768254 -2185.74781876\n",
            "  -2183.69630174 -2181.1607189  -2155.4030304  -1935.3266882\n",
            "  -1476.52372804  -676.45157572   191.3734031      0.\n",
            "      0.             0.             0.             0.\n",
            "      0.             0.             0.             0.\n",
            "      0.             0.        ]\n",
            " [-2008.3653745  -2007.80024723 -2007.10177532 -2006.23849543\n",
            "  -2005.17152029 -2003.85278697 -2002.22289185 -2000.20841473\n",
            "  -1997.71861156 -1994.64132674 -1990.837941   -1874.06351896\n",
            "  -1465.43159513  -675.28060192   191.22038089   236.33979661\n",
            "      0.             0.             0.             0.\n",
            "      0.             0.             0.             0.\n",
            "      0.             0.        ]\n",
            " [-1824.3667506  -1823.69223683 -1822.85856812 -1821.82819107\n",
            "  -1820.55469133 -1818.9807029  -1817.03532394 -1814.63092298\n",
            "  -1811.65919145 -1807.98626485 -1803.44669264 -1768.14820458\n",
            "  -1444.82684198  -673.4116266    191.06748104   236.15081926\n",
            "    291.87179909     0.             0.             0.\n",
            "      0.             0.             0.             0.\n",
            "      0.             0.        ]\n",
            " [-1640.46870148 -1639.67390484 -1638.6915719  -1637.47745255\n",
            "  -1635.97685559 -1634.1221852  -1631.82989595 -1628.99672946\n",
            "  -1625.49506301 -1621.16716066 -1615.81806786 -1609.20682958\n",
            "  -1405.7892031   -670.06989086   190.91470345   235.96199303\n",
            "    291.63841835   360.45197774     0.             0.\n",
            "      0.             0.             0.             0.\n",
            "      0.             0.        ]\n",
            " [-1456.66649167 -1455.7394261  -1454.59361474 -1453.17744338\n",
            "  -1451.42711924 -1449.26379727 -1446.59002853 -1443.28537055\n",
            "  -1439.2009618  -1434.15281616 -1427.91353503 -1420.20206397\n",
            "  -1331.31473613  -663.62121239   190.76204802   235.77331778\n",
            "    291.40522422   360.16376027   445.14622056     0.\n",
            "      0.             0.             0.             0.\n",
            "      0.             0.        ]\n",
            " [-1272.95492396 -1271.88240481 -1270.55681933 -1268.91845526\n",
            "  -1266.8935109  -1264.39077069 -1261.29749626 -1257.47434809\n",
            "  -1252.74910879 -1246.90892537 -1239.69072116 -1230.76934516\n",
            "  -1201.49805842  -650.61864523   190.60951465   235.58479339\n",
            "    291.17221655   359.87577327   444.79028157   549.74079744\n",
            "      0.             0.             0.             0.\n",
            "      0.             0.        ]\n",
            " [-1089.32829328 -1088.09581734 -1086.57253248 -1084.68982084\n",
            "  -1082.36287388 -1079.48687202 -1075.93226298 -1071.53892596\n",
            "  -1066.10895885 -1059.39776355 -1051.10302779 -1040.85110719\n",
            "  -1028.18019409  -623.79161912   190.45710325   235.39641975\n",
            "    290.9393952    359.58801654   444.43462718   549.30122461\n",
            "    678.91162592     0.             0.             0.\n",
            "      0.             0.        ]\n",
            " [ -905.78033582  -904.37194957  -902.63124746  -900.47981789\n",
            "   -897.82074763  -894.5342563   -890.47230072  -885.45190618\n",
            "   -879.24692417  -871.57784528  -862.09920845  -850.38403933\n",
            "   -835.90461683  -567.80447347   190.30481372   235.20819673\n",
            "    290.70676001   359.3004899    444.07925718   548.86200325\n",
            "    678.36876807   838.43330885     0.             0.\n",
            "      0.             0.        ]\n",
            " [ -722.30417322  -720.70232773  -718.7225187   -716.27556371\n",
            "   -713.25123733  -709.51330584  -704.89339052  -699.18338282\n",
            "   -692.12606994  -683.40354839  -672.62290378  -659.29851157\n",
            "   -642.83016165  -471.4338242    190.15264596   235.02012422\n",
            "    290.47431083   359.01319317   443.72417133   548.4231331\n",
            "    677.82634429   837.76289743  1035.43728896     0.\n",
            "      0.             0.        ]\n",
            " [ -538.89225104  -537.07764247  -534.83486782  -532.06289916\n",
            "   -528.63687048  -524.40245301  -519.16890333  -512.70047113\n",
            "   -504.70577965  -494.8247003   -482.61213032  -467.51794269\n",
            "   -448.86220518  -342.28863081   190.00059987   234.83220209\n",
            "    290.24204753   358.72612616   443.36936941   547.98461387\n",
            "    677.28435422   837.09302208  1034.60935313  1278.73066117\n",
            "      0.             0.        ]\n",
            " [ -355.53627122  -353.48766529  -350.95568044  -347.82626096\n",
            "   -343.95843912  -339.17798517  -333.26955894  -325.96700966\n",
            "   -316.94138697  -305.78612295  -291.998718    -274.95810513\n",
            "   -253.89667349  -191.19925394   189.84867536   234.64443022\n",
            "    290.00996994   358.43928868   443.01485118   547.54644528\n",
            "    676.74279754   836.42368235  1033.78207931  1277.70818791\n",
            "   1579.18989517     0.        ]\n",
            " [ -172.22711764  -169.92115663  -167.07109246  -163.54854125\n",
            "   -159.19482626  -153.81383021  -147.16316093  -138.94323261\n",
            "   -128.78377064  -116.22713225  -100.70769155   -81.52636034\n",
            "    -57.81909705   -28.51798512   189.69687233   234.45680849\n",
            "    289.77807791   358.15268057   442.66061643   547.10862705\n",
            "    676.20167388   835.75487783  1032.95546698  1276.68653223\n",
            "   1577.92717466  1950.24706981]]\n"
          ]
        }
      ]
    },
    {
      "cell_type": "markdown",
      "source": [
        "From the matrix above, we see that the total cash account balance at maturity is put at 4782.62 US dollars. The minimum and maximum cash account balance observed are zero and 4782.62 US dollars."
      ],
      "metadata": {
        "id": "8Rr1L4hqKrId"
      }
    },
    {
      "cell_type": "code",
      "source": [
        "# @title\n",
        "price_euro, C_euro, S_euro, delta_euro = european_option(\n",
        "    180, 182, 0.6, 0.02, 1.118292981373268, 0.8942200448866238, 3, \"P\"\n",
        ")\n",
        "delta_euro"
      ],
      "metadata": {
        "colab": {
          "base_uri": "https://localhost:8080/"
        },
        "outputId": "508742b6-9780-4e2b-cdac-1bda2c50658f",
        "id": "PUuion42IfDi",
        "cellView": "form"
      },
      "execution_count": null,
      "outputs": [
        {
          "output_type": "execute_result",
          "data": {
            "text/plain": [
              "array([[-0.46500454,  0.        ,  0.        ],\n",
              "       [-0.73895482, -0.23697299,  0.        ],\n",
              "       [-1.        , -0.52166526,  0.        ]])"
            ]
          },
          "metadata": {},
          "execution_count": 26
        }
      ]
    },
    {
      "cell_type": "markdown",
      "source": [
        "(c) We can see that the delta_euro's absolute value  is also smaller than the absolute value of the Asian's delta."
      ],
      "metadata": {
        "id": "aJn5IbdXI9zH"
      }
    },
    {
      "cell_type": "markdown",
      "source": [
        "###REFERENCES\n",
        "Schumacher, J. M. (2020). Introduction to Financial Derivatives: Modeling, Pricing and Hedging. Open Press TiU: https://digi-courses.com/openpresstiu-introduction-to-financial-derivatives/\n"
      ],
      "metadata": {
        "id": "1gSKL5LU7ud2"
      }
    },
    {
      "cell_type": "markdown",
      "source": [
        "FinCampus Lecture Hall. Pricing an American Option: 3 Period Binomial Tree Model. YouTube, 26 May 2013, https://www.youtube.com/watch?v=35n7TICJbLc."
      ],
      "metadata": {
        "id": "S-GSqZRZ8LkL"
      }
    }
  ],
  "metadata": {
    "colab": {
      "provenance": [],
      "include_colab_link": true
    },
    "kernelspec": {
      "display_name": "Python 3 (ipykernel)",
      "language": "python",
      "name": "python3"
    },
    "language_info": {
      "codemirror_mode": {
        "name": "ipython",
        "version": 3
      },
      "file_extension": ".py",
      "mimetype": "text/x-python",
      "name": "python",
      "nbconvert_exporter": "python",
      "pygments_lexer": "ipython3",
      "version": "3.9.12"
    }
  },
  "nbformat": 4,
  "nbformat_minor": 0
}